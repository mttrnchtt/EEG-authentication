{
 "cells": [
  {
   "cell_type": "code",
   "execution_count": 1,
   "metadata": {
    "colab": {
     "base_uri": "https://localhost:8080/"
    },
    "execution": {
     "iopub.execute_input": "2025-05-11T08:48:29.923009Z",
     "iopub.status.busy": "2025-05-11T08:48:29.922460Z",
     "iopub.status.idle": "2025-05-11T08:49:32.786815Z",
     "shell.execute_reply": "2025-05-11T08:49:32.785614Z",
     "shell.execute_reply.started": "2025-05-11T08:48:29.922984Z"
    },
    "id": "Wkrt5-ILoCNo",
    "outputId": "f5ec0215-8292-4113-c8f2-a11fbeeeeb22",
    "trusted": true
   },
   "outputs": [
    {
     "name": "stdout",
     "output_type": "stream",
     "text": [
      "Downloading...\n",
      "From (original): https://drive.google.com/uc?id=1NiJuC-WfmGOt7M0NxzqSU34s-2XZadVU\n",
      "From (redirected): https://drive.google.com/uc?id=1NiJuC-WfmGOt7M0NxzqSU34s-2XZadVU&confirm=t&uuid=5114bfd9-9af3-4640-8733-9564deb56517\n",
      "To: /kaggle/working/bbciRaw-20250419T162929Z-001.zip\n",
      "100%|██████████████████████████████████████| 1.63G/1.63G [00:25<00:00, 64.5MB/s]\n",
      "Downloading...\n",
      "From (original): https://drive.google.com/uc?id=1vSXbNpcDh6ODNvJn6SFUaN4JvsaAtkKr\n",
      "From (redirected): https://drive.google.com/uc?id=1vSXbNpcDh6ODNvJn6SFUaN4JvsaAtkKr&confirm=t&uuid=1601bc29-b9bc-4b55-b30e-59913cd17633\n",
      "To: /kaggle/working/bbciRaw-20250419T162929Z-002.zip\n",
      "100%|██████████████████████████████████████| 1.43G/1.43G [00:23<00:00, 60.7MB/s]\n"
     ]
    }
   ],
   "source": [
    "!pip install -q gdown\n",
    "!gdown 1NiJuC-WfmGOt7M0NxzqSU34s-2XZadVU\n",
    "!gdown 1vSXbNpcDh6ODNvJn6SFUaN4JvsaAtkKr\n"
   ]
  },
  {
   "cell_type": "code",
   "execution_count": 2,
   "metadata": {
    "colab": {
     "base_uri": "https://localhost:8080/"
    },
    "execution": {
     "iopub.execute_input": "2025-05-11T08:49:59.684365Z",
     "iopub.status.busy": "2025-05-11T08:49:59.683683Z",
     "iopub.status.idle": "2025-05-11T08:50:44.135445Z",
     "shell.execute_reply": "2025-05-11T08:50:44.134776Z",
     "shell.execute_reply.started": "2025-05-11T08:49:59.684317Z"
    },
    "id": "tXs1CZRlpF5u",
    "outputId": "a701cbac-022e-41f3-fcdd-6c88247e006d",
    "trusted": true
   },
   "outputs": [
    {
     "name": "stdout",
     "output_type": "stream",
     "text": [
      "Archive:  /kaggle/working/bbciRaw-20250419T162929Z-001.zip\n",
      "  inflating: bbciRaw/VPzk_15_07_16/RSVP_login_dry_VPzk.vhdr  \n",
      "  inflating: bbciRaw/VPocb_15_07_20/RSVP_login_dry_VPocb.vhdr  \n",
      "  inflating: bbciRaw/VPjak_15_07_20/RSVP_login_dry_VPjak.vmrk  \n",
      "  inflating: bbciRaw/VPlh_15_07_20/RSVP_login_dry_VPlh.vmrk  \n",
      "  inflating: bbciRaw/VPnsk_15_07_29/RSVP_login_dry_VPnsk.vmrk  \n",
      "  inflating: bbciRaw/VPbv_15_07_29/RSVP_login_dry_VPbv.vmrk  \n",
      "  inflating: bbciRaw/VPmg_15_07_29/RSVP_login_dry_VPmg.vmrk  \n",
      "  inflating: bbciRaw/VPtt_15_05_19/RSVP_login_VPtt.vmrk  \n",
      "  inflating: bbciRaw/VPbv_15_07_29/RSVP_login_dry_VPbv.vhdr  \n",
      "  inflating: bbciRaw/VPhjh_15_07_21/RSVP_login_dry_VPhjh.vhdr  \n",
      "  inflating: bbciRaw/VPocb_15_07_20/RSVP_login_dry_VPocb.vmrk  \n",
      "  inflating: bbciRaw/VPjys_15_07_29/RSVP_login_dry_VPjys.vhdr  \n",
      "  inflating: bbciRaw/VPzk_15_05_01/RSVP_login_VPzk.vhdr  \n",
      "  inflating: bbciRaw/VPtt_15_05_19/IQ_VPtt.vmrk  \n",
      "  inflating: bbciRaw/VPtt_15_05_19/IQ_VPtt.vhdr  \n",
      "  inflating: bbciRaw/VPnsk_15_07_29/RSVP_login_dry_VPnsk.vhdr  \n",
      "  inflating: bbciRaw/VPjys_15_07_29/RSVP_login_dry_VPjys.vmrk  \n",
      "  inflating: bbciRaw/VPlh_15_07_20/RSVP_login_dry_VPlh.vhdr  \n",
      "  inflating: bbciRaw/VPtt_15_05_19/RSVP_login_VPtt.vhdr  \n",
      "  inflating: bbciRaw/VPmg_15_07_29/RSVP_login_dry_VPmg.vhdr  \n",
      "  inflating: bbciRaw/VPjak_15_07_20/RSVP_login_dry_VPjak.vhdr  \n",
      "  inflating: bbciRaw/VPfat_15_07_21/RSVP_login_dry_VPfat.vhdr  \n",
      "  inflating: bbciRaw/VPsd_15_07_21/RSVP_login_dry_VPsd.vmrk  \n",
      "  inflating: bbciRaw/VPsd_15_07_21/RSVP_login_dry_VPsd.vhdr  \n",
      "  inflating: bbciRaw/VPfat_15_07_21/RSVP_login_dry_VPfat.vmrk  \n",
      "  inflating: bbciRaw/VPgz_15_05_29/RSVP_login_VPgz.vhdr  \n",
      "  inflating: bbciRaw/VPzk_15_05_01/RSVP_login_VPzk.vmrk  \n",
      "  inflating: bbciRaw/VPeal_15_05_15/RSVP_login_VPeal.vhdr  \n",
      "  inflating: bbciRaw/VPth_15_05_27/RSVP_login_VPth.vhdr  \n",
      "  inflating: bbciRaw/VPxk_15_05_01/RSVP_login_VPxk.vhdr  \n",
      "  inflating: bbciRaw/VPzk_15_07_16/RSVP_login_dry_VPzk.vmrk  \n",
      "  inflating: bbciRaw/VPhjh_15_07_21/RSVP_login_dry_VPhjh.vmrk  \n",
      "  inflating: bbciRaw/VPgz_15_05_29/RSVP_login_VPgz.vmrk  \n",
      "  inflating: bbciRaw/VPeal_15_05_15/RSVP_login_VPeal.vmrk  \n",
      "  inflating: bbciRaw/VPjeg_15_07_20/RSVP_login_dry_VPjeg.vmrk  \n",
      "  inflating: bbciRaw/VPrsv_15_07_20/RSVP_login_dry_VPrsv.vhdr  \n",
      "  inflating: bbciRaw/VPzk_15_07_16/RSVP_login_dry_VPzk.eeg  \n",
      "  inflating: bbciRaw/VPsn_15_07_20/RSVP_login_dry_VPsn.vhdr  \n",
      "  inflating: bbciRaw/VPdk_15_07_29/RSVP_login_dry_VPdk.vmrk  \n",
      "  inflating: bbciRaw/VPth_15_05_27/RSVP_login_VPth.vmrk  \n",
      "  inflating: bbciRaw/VPxk_15_05_01/RSVP_login_VPxk.vmrk  \n",
      "  inflating: bbciRaw/VPrsv_15_07_20/RSVP_login_dry_VPrsv.vmrk  \n",
      "  inflating: bbciRaw/VPsn_15_07_20/RSVP_login_dry_VPsn.vmrk  \n",
      "  inflating: bbciRaw/VPdk_15_07_29/RSVP_login_dry_VPdk.vhdr  \n",
      "  inflating: bbciRaw/VPjeg_15_07_20/RSVP_login_dry_VPjeg.vhdr  \n",
      "  inflating: bbciRaw/VPjak_15_07_20/RSVP_login_dry_VPjak.eeg  \n",
      "  inflating: bbciRaw/VPzx_15_05_30/RSVP_login_VPzx.vhdr  \n",
      "  inflating: bbciRaw/VPjys_15_07_29/RSVP_login_dry_VPjys.eeg  \n",
      "  inflating: bbciRaw/VPmg_15_07_29/RSVP_login_dry_VPmg.eeg  \n",
      "  inflating: bbciRaw/VPocb_15_07_20/RSVP_login_dry_VPocb.eeg  \n",
      "  inflating: bbciRaw/VPer_15_05_22/RSVP_login_VPer.vhdr  \n",
      "  inflating: bbciRaw/VPzx_15_05_30/RSVP_login_VPzx.vmrk  \n",
      "  inflating: bbciRaw/VPvi_15_05_22/RSVP_login_VPvi.vhdr  \n",
      "  inflating: bbciRaw/VPvi_15_05_22/RSVP_login_VPvi.vmrk  \n",
      "  inflating: bbciRaw/VPjw_15_05_13/RSVP_login_VPjw.vmrk  \n",
      "  inflating: bbciRaw/VPer_15_05_22/RSVP_login_VPer.vmrk  \n",
      "  inflating: bbciRaw/VPjw_15_05_13/RSVP_login_VPjw.vhdr  \n",
      "  inflating: bbciRaw/VPbv_15_07_29/RSVP_login_dry_VPbv.eeg  \n",
      "  inflating: bbciRaw/VPfat_15_07_21/RSVP_login_dry_VPfat.eeg  \n",
      "  inflating: bbciRaw/VPlh_15_05_21/RSVP_login_VPlh.vhdr  \n",
      "  inflating: bbciRaw/VPsd_15_07_21/RSVP_login_dry_VPsd.eeg  \n",
      "  inflating: bbciRaw/VPsk_15_05_30/RSVP_login_VPsk.vhdr  \n",
      "  inflating: bbciRaw/VPrsv_15_07_20/RSVP_login_dry_VPrsv.eeg  \n",
      "  inflating: bbciRaw/VPsk_15_05_30/RSVP_login_VPsk.vmrk  \n",
      "  inflating: bbciRaw/VPhjh_15_07_21/RSVP_login_dry_VPhjh.eeg  \n",
      "  inflating: bbciRaw/VPnsk_15_07_29/RSVP_login_dry_VPnsk.eeg  \n",
      "  inflating: bbciRaw/VPeal_15_07_20/RSVP_login_dry_VPeal.vhdr  \n",
      "  inflating: bbciRaw/VPeal_15_07_20/RSVP_login_dry_VPeal.vmrk  \n",
      "  inflating: bbciRaw/VPtu_15_05_28/RSVP_login_VPtu.vmrk  \n",
      "  inflating: bbciRaw/VPtu_15_05_28/RSVP_login_VPtu.vhdr  \n",
      "  inflating: bbciRaw/VPlh_15_07_20/RSVP_login_dry_VPlh.eeg  \n",
      "  inflating: bbciRaw/VPhw_15_05_23/hyungwon1.vmrk  \n",
      "  inflating: bbciRaw/VPlh_15_05_21/RSVP_login_VPlh.vmrk  \n",
      "  inflating: bbciRaw/VPhw_15_05_23/hyungwon1.vhdr  \n",
      "  inflating: bbciRaw/VPhw_15_05_23/RSVP_login_VPhw.vmrk  \n",
      "  inflating: bbciRaw/VPhj_15_05_28/RSVP_login_VPhj.vhdr  \n",
      "  inflating: bbciRaw/VPsn_15_07_20/RSVP_login_dry_VPsn.eeg  \n",
      "  inflating: bbciRaw/VPdk_15_07_29/RSVP_login_dry_VPdk.eeg  \n",
      "  inflating: bbciRaw/VPhw_15_05_23/RSVP_login_VPhw.vhdr  \n",
      "  inflating: bbciRaw/VPjeg_15_07_20/RSVP_login_dry_VPjeg.eeg  \n",
      "  inflating: bbciRaw/VPyy_15_05_21/RSVP_login_VPyy.vhdr  \n",
      "  inflating: bbciRaw/VPhj_15_05_28/RSVP_login_VPhj.vmrk  \n",
      "  inflating: bbciRaw/VPyy_15_05_21/RSVP_login_VPyy.vmrk  \n",
      "  inflating: bbciRaw/VPsc_15_05_23/RSVP_login_VPsc.vhdr  \n",
      "  inflating: bbciRaw/VPsc_15_05_23/RSVP_login_VPsc.vmrk  \n",
      "  inflating: bbciRaw/VPad_15_05_14/IQ_VPad.vmrk  \n",
      "  inflating: bbciRaw/VPzk_15_05_01/RSVP_login_VPzk.eeg  \n",
      "  inflating: bbciRaw/VPad_15_05_14/RSVP_login_VPad.vhdr  \n",
      "  inflating: bbciRaw/VPad_15_05_14/IQ_VPad.vhdr  \n",
      "  inflating: bbciRaw/VPad_15_05_14/RSVP_login_VPad.vmrk  \n",
      "  inflating: bbciRaw/VPeal_15_05_15/RSVP_login_VPeal.eeg  \n",
      "  inflating: bbciRaw/VPeal_15_07_20/RSVP_login_dry_VPeal.eeg  \n",
      "  inflating: bbciRaw/VPxk_15_05_01/RSVP_login_VPxk.eeg  \n",
      "  inflating: bbciRaw/VPad_15_05_14/IQ_VPad.mat  \n",
      "  inflating: bbciRaw/VPtt_15_05_19/IQ_VPtt.eeg  \n",
      "  inflating: bbciRaw/VPhw_15_05_23/hyungwon1.eeg  \n",
      "  inflating: bbciRaw/VPjw_15_05_13/RSVP_login_VPjw.eeg  \n",
      "  inflating: bbciRaw/VPad_15_05_14/IQ_VPad.eeg  \n",
      "  inflating: bbciRaw/VPad_15_05_14/RSVP_login_VPad.eeg  \n",
      "  inflating: bbciRaw/VPtt_15_05_19/RSVP_login_VPtt.eeg  \n",
      "  inflating: bbciRaw/VPzx_15_05_30/RSVP_login_VPzx.eeg  \n",
      "  inflating: bbciRaw/VPth_15_05_27/RSVP_login_VPth.eeg  \n",
      "Archive:  /kaggle/working/bbciRaw-20250419T162929Z-002.zip\n",
      "  inflating: bbciRaw/VPsk_15_05_30/RSVP_login_VPsk.eeg  \n",
      "  inflating: bbciRaw/VPlh_15_05_21/RSVP_login_VPlh.eeg  \n",
      "  inflating: bbciRaw/VPtu_15_05_28/RSVP_login_VPtu.eeg  \n",
      "  inflating: bbciRaw/VPhw_15_05_23/RSVP_login_VPhw.eeg  \n",
      "  inflating: bbciRaw/VPgz_15_05_29/RSVP_login_VPgz.eeg  \n",
      "  inflating: bbciRaw/VPyy_15_05_21/RSVP_login_VPyy.eeg  \n",
      "  inflating: bbciRaw/VPer_15_05_22/RSVP_login_VPer.eeg  \n",
      "  inflating: bbciRaw/VPvi_15_05_22/RSVP_login_VPvi.eeg  \n",
      "  inflating: bbciRaw/VPsc_15_05_23/RSVP_login_VPsc.eeg  \n",
      "  inflating: bbciRaw/VPhj_15_05_28/RSVP_login_VPhj.eeg  \n"
     ]
    }
   ],
   "source": [
    "!unzip /kaggle/working/bbciRaw-20250419T162929Z-001.zip\n",
    "!unzip /kaggle/working/bbciRaw-20250419T162929Z-002.zip"
   ]
  },
  {
   "cell_type": "code",
   "execution_count": null,
   "metadata": {
    "colab": {
     "base_uri": "https://localhost:8080/"
    },
    "execution": {
     "iopub.execute_input": "2025-05-11T08:51:35.874438Z",
     "iopub.status.busy": "2025-05-11T08:51:35.874149Z",
     "iopub.status.idle": "2025-05-11T08:52:19.628241Z",
     "shell.execute_reply": "2025-05-11T08:52:19.627437Z",
     "shell.execute_reply.started": "2025-05-11T08:51:35.874416Z"
    },
    "id": "jctYGZkrA6PS",
    "outputId": "1b07735a-2093-4b51-9182-bed1b7d159ad",
    "trusted": true
   },
   "outputs": [
    {
     "name": "stdout",
     "output_type": "stream",
     "text": [
      "⚠️ Error reading /kaggle/working/bbciRaw/VPdk_15_07_29/RSVP_login_dry_VPdk.vhdr: [Errno 2] No such file or directory: '/kaggle/working/bbciRaw/VPdk_15_07_29/RSVP_login_dry_VPdk06.vmrk'\n",
      "❌ No EEG data: /kaggle/working/bbciRaw/VPdk_15_07_29/RSVP_login_dry_VPdk.vhdr\n",
      "✅ EEG present: /kaggle/working/bbciRaw/VPzk_15_07_16/RSVP_login_dry_VPzk.vhdr\n",
      "✅ EEG present: /kaggle/working/bbciRaw/VPeal_15_07_20/RSVP_login_dry_VPeal.vhdr\n",
      "✅ EEG present: /kaggle/working/bbciRaw/VPgz_15_05_29/RSVP_login_VPgz.vhdr\n"
     ]
    },
    {
     "name": "stderr",
     "output_type": "stream",
     "text": [
      "/tmp/ipykernel_31/1969166373.py:8: RuntimeWarning: Online software filter detected. Using software filter settings and ignoring hardware values\n",
      "  raw = mne.io.read_raw_brainvision(vhdr_path, preload=True, verbose=False)\n"
     ]
    },
    {
     "name": "stdout",
     "output_type": "stream",
     "text": [
      "✅ EEG present: /kaggle/working/bbciRaw/VPad_15_05_14/RSVP_login_VPad.vhdr\n"
     ]
    },
    {
     "name": "stderr",
     "output_type": "stream",
     "text": [
      "/tmp/ipykernel_31/1969166373.py:8: RuntimeWarning: Online software filter detected. Using software filter settings and ignoring hardware values\n",
      "  raw = mne.io.read_raw_brainvision(vhdr_path, preload=True, verbose=False)\n"
     ]
    },
    {
     "name": "stdout",
     "output_type": "stream",
     "text": [
      "✅ EEG present: /kaggle/working/bbciRaw/VPad_15_05_14/IQ_VPad.vhdr\n"
     ]
    },
    {
     "name": "stderr",
     "output_type": "stream",
     "text": [
      "/tmp/ipykernel_31/1969166373.py:8: RuntimeWarning: Online software filter detected. Using software filter settings and ignoring hardware values\n",
      "  raw = mne.io.read_raw_brainvision(vhdr_path, preload=True, verbose=False)\n"
     ]
    },
    {
     "name": "stdout",
     "output_type": "stream",
     "text": [
      "✅ EEG present: /kaggle/working/bbciRaw/VPhj_15_05_28/RSVP_login_VPhj.vhdr\n"
     ]
    },
    {
     "name": "stderr",
     "output_type": "stream",
     "text": [
      "/tmp/ipykernel_31/1969166373.py:8: RuntimeWarning: Online software filter detected. Using software filter settings and ignoring hardware values\n",
      "  raw = mne.io.read_raw_brainvision(vhdr_path, preload=True, verbose=False)\n"
     ]
    },
    {
     "name": "stdout",
     "output_type": "stream",
     "text": [
      "✅ EEG present: /kaggle/working/bbciRaw/VPtu_15_05_28/RSVP_login_VPtu.vhdr\n",
      "✅ EEG present: /kaggle/working/bbciRaw/VPlh_15_07_20/RSVP_login_dry_VPlh.vhdr\n",
      "✅ EEG present: /kaggle/working/bbciRaw/VPsc_15_05_23/RSVP_login_VPsc.vhdr\n",
      "✅ EEG present: /kaggle/working/bbciRaw/VPsd_15_07_21/RSVP_login_dry_VPsd.vhdr\n",
      "✅ EEG present: /kaggle/working/bbciRaw/VPyy_15_05_21/RSVP_login_VPyy.vhdr\n",
      "✅ EEG present: /kaggle/working/bbciRaw/VPtt_15_05_19/RSVP_login_VPtt.vhdr\n",
      "✅ EEG present: /kaggle/working/bbciRaw/VPtt_15_05_19/IQ_VPtt.vhdr\n",
      "✅ EEG present: /kaggle/working/bbciRaw/VPocb_15_07_20/RSVP_login_dry_VPocb.vhdr\n",
      "✅ EEG present: /kaggle/working/bbciRaw/VPjeg_15_07_20/RSVP_login_dry_VPjeg.vhdr\n",
      "⚠️ Error reading /kaggle/working/bbciRaw/VPhjh_15_07_21/RSVP_login_dry_VPhjh.vhdr: [Errno 2] No such file or directory: '/kaggle/working/bbciRaw/VPhjh_15_07_21/RSVP_login_dry_VPfat02.vmrk'\n",
      "❌ No EEG data: /kaggle/working/bbciRaw/VPhjh_15_07_21/RSVP_login_dry_VPhjh.vhdr\n",
      "✅ EEG present: /kaggle/working/bbciRaw/VPer_15_05_22/RSVP_login_VPer.vhdr\n",
      "✅ EEG present: /kaggle/working/bbciRaw/VPth_15_05_27/RSVP_login_VPth.vhdr\n",
      "✅ EEG present: /kaggle/working/bbciRaw/VPsn_15_07_20/RSVP_login_dry_VPsn.vhdr\n",
      "⚠️ Error reading /kaggle/working/bbciRaw/VPxk_15_05_01/RSVP_login_VPxk.vhdr: [Errno 2] No such file or directory: '/kaggle/working/bbciRaw/VPxk_15_05_01/RSVP_login_VPzk.vmrk'\n",
      "❌ No EEG data: /kaggle/working/bbciRaw/VPxk_15_05_01/RSVP_login_VPxk.vhdr\n",
      "✅ EEG present: /kaggle/working/bbciRaw/VPbv_15_07_29/RSVP_login_dry_VPbv.vhdr\n",
      "✅ EEG present: /kaggle/working/bbciRaw/VPjak_15_07_20/RSVP_login_dry_VPjak.vhdr\n",
      "✅ EEG present: /kaggle/working/bbciRaw/VPvi_15_05_22/RSVP_login_VPvi.vhdr\n",
      "⚠️ Error reading /kaggle/working/bbciRaw/VPzx_15_05_30/RSVP_login_VPzx.vhdr: [Errno 2] No such file or directory: '/kaggle/working/bbciRaw/VPzx_15_05_30/RSVP_login_VPz.vmrk'\n",
      "❌ No EEG data: /kaggle/working/bbciRaw/VPzx_15_05_30/RSVP_login_VPzx.vhdr\n"
     ]
    },
    {
     "name": "stderr",
     "output_type": "stream",
     "text": [
      "/tmp/ipykernel_31/1969166373.py:8: RuntimeWarning: Online software filter detected. Using software filter settings and ignoring hardware values\n",
      "  raw = mne.io.read_raw_brainvision(vhdr_path, preload=True, verbose=False)\n"
     ]
    },
    {
     "name": "stdout",
     "output_type": "stream",
     "text": [
      "✅ EEG present: /kaggle/working/bbciRaw/VPjw_15_05_13/RSVP_login_VPjw.vhdr\n",
      "✅ EEG present: /kaggle/working/bbciRaw/VPmg_15_07_29/RSVP_login_dry_VPmg.vhdr\n",
      "✅ EEG present: /kaggle/working/bbciRaw/VPlh_15_05_21/RSVP_login_VPlh.vhdr\n",
      "✅ EEG present: /kaggle/working/bbciRaw/VPrsv_15_07_20/RSVP_login_dry_VPrsv.vhdr\n",
      "✅ EEG present: /kaggle/working/bbciRaw/VPfat_15_07_21/RSVP_login_dry_VPfat.vhdr\n"
     ]
    },
    {
     "name": "stderr",
     "output_type": "stream",
     "text": [
      "/tmp/ipykernel_31/1969166373.py:8: RuntimeWarning: Online software filter detected. Using software filter settings and ignoring hardware values\n",
      "  raw = mne.io.read_raw_brainvision(vhdr_path, preload=True, verbose=False)\n"
     ]
    },
    {
     "name": "stdout",
     "output_type": "stream",
     "text": [
      "✅ EEG present: /kaggle/working/bbciRaw/VPsk_15_05_30/RSVP_login_VPsk.vhdr\n",
      "✅ EEG present: /kaggle/working/bbciRaw/VPjys_15_07_29/RSVP_login_dry_VPjys.vhdr\n",
      "✅ EEG present: /kaggle/working/bbciRaw/VPhw_15_05_23/RSVP_login_VPhw.vhdr\n",
      "✅ EEG present: /kaggle/working/bbciRaw/VPhw_15_05_23/hyungwon1.vhdr\n"
     ]
    },
    {
     "name": "stderr",
     "output_type": "stream",
     "text": [
      "/tmp/ipykernel_31/1969166373.py:8: RuntimeWarning: Online software filter detected. Using software filter settings and ignoring hardware values\n",
      "  raw = mne.io.read_raw_brainvision(vhdr_path, preload=True, verbose=False)\n"
     ]
    },
    {
     "name": "stdout",
     "output_type": "stream",
     "text": [
      "✅ EEG present: /kaggle/working/bbciRaw/VPeal_15_05_15/RSVP_login_VPeal.vhdr\n",
      "✅ EEG present: /kaggle/working/bbciRaw/VPnsk_15_07_29/RSVP_login_dry_VPnsk.vhdr\n"
     ]
    },
    {
     "name": "stderr",
     "output_type": "stream",
     "text": [
      "/tmp/ipykernel_31/1969166373.py:8: RuntimeWarning: Online software filter detected. Using software filter settings and ignoring hardware values\n",
      "  raw = mne.io.read_raw_brainvision(vhdr_path, preload=True, verbose=False)\n"
     ]
    },
    {
     "name": "stdout",
     "output_type": "stream",
     "text": [
      "✅ EEG present: /kaggle/working/bbciRaw/VPzk_15_05_01/RSVP_login_VPzk.vhdr\n",
      "🗑️ Deleting: /kaggle/working/bbciRaw/VPzx_15_05_30\n",
      "🗑️ Deleting: /kaggle/working/bbciRaw/VPdk_15_07_29\n",
      "🗑️ Deleting: /kaggle/working/bbciRaw/VPhjh_15_07_21\n",
      "🗑️ Deleting: /kaggle/working/bbciRaw/VPxk_15_05_01\n",
      "\n",
      "📊 Summary:\n",
      "Total .vhdr files scanned: 37\n",
      "Total dirs with valid EEG: 30\n",
      "Total dirs deleted: 4\n"
     ]
    }
   ],
   "source": [
    "import os\n",
    "import mne\n",
    "import numpy as np\n",
    "import shutil\n",
    "\n",
    "def has_valid_eeg(vhdr_path):\n",
    "    try:\n",
    "        raw = mne.io.read_raw_brainvision(vhdr_path, preload=True, verbose=False)\n",
    "        eeg_data = raw.get_data(picks='eeg')\n",
    "        if eeg_data.size == 0 or np.all(eeg_data == 0):\n",
    "            return False\n",
    "        return True\n",
    "    except Exception as e:\n",
    "        print(f\"Error reading {vhdr_path}: {e}\")\n",
    "        return False\n",
    "\n",
    "def scan_and_filter_eeg_dirs(base_dir):\n",
    "    eeg_dirs = set()\n",
    "    all_dirs_with_vhdr = set()\n",
    "    total_vhdr = 0\n",
    "\n",
    "    for root, _, files in os.walk(base_dir):\n",
    "        for file in files:\n",
    "            if file.endswith('.vhdr'):\n",
    "                vhdr_path = os.path.join(root, file)\n",
    "                total_vhdr += 1\n",
    "                all_dirs_with_vhdr.add(root)\n",
    "                if has_valid_eeg(vhdr_path):\n",
    "                    print(f\"✅ EEG present: {vhdr_path}\")\n",
    "                    eeg_dirs.add(root)\n",
    "                else:\n",
    "                    print(f\"No EEG data: {vhdr_path}\")\n",
    "\n",
    "    # Delete folders without valid EEG\n",
    "    to_delete = all_dirs_with_vhdr - eeg_dirs\n",
    "    for d in to_delete:\n",
    "        try:\n",
    "            print(f\"🗑️ Deleting: {d}\")\n",
    "            shutil.rmtree(d)\n",
    "        except Exception as e:\n",
    "            print(f\"Could not delete {d}: {e}\")\n",
    "\n",
    "    print(\"\\nSummary:\")\n",
    "    print(f\"Total .vhdr files scanned: {total_vhdr}\")\n",
    "    print(f\"Total dirs with valid EEG: {len(eeg_dirs)}\")\n",
    "    print(f\"Total dirs deleted: {len(to_delete)}\")\n",
    "\n",
    "# Replace with your actual folder path\n",
    "scan_and_filter_eeg_dirs('/kaggle/working/')\n"
   ]
  },
  {
   "cell_type": "code",
   "execution_count": null,
   "metadata": {
    "colab": {
     "base_uri": "https://localhost:8080/"
    },
    "execution": {
     "iopub.execute_input": "2025-05-11T08:55:12.390140Z",
     "iopub.status.busy": "2025-05-11T08:55:12.389610Z",
     "iopub.status.idle": "2025-05-11T09:01:21.680827Z",
     "shell.execute_reply": "2025-05-11T09:01:21.679992Z",
     "shell.execute_reply.started": "2025-05-11T08:55:12.390116Z"
    },
    "id": "mRWA2U8GFe_L",
    "outputId": "d75c215f-7f9d-4bf0-8344-93b62fde6e8a",
    "trusted": true
   },
   "outputs": [
    {
     "name": "stdout",
     "output_type": "stream",
     "text": [
      "📥 Loading /kaggle/working/bbciRaw/VPzk_15_07_16/RSVP_login_dry_VPzk.vhdr (User: VPzk, Date: 15_07_16)\n",
      "Filtering raw data in 1 contiguous segment\n",
      "Setting up band-pass filter from 1 - 40 Hz\n",
      "\n",
      "FIR filter parameters\n",
      "---------------------\n",
      "Designing a one-pass, zero-phase, non-causal bandpass filter:\n",
      "- Windowed time-domain design (firwin) method\n",
      "- Hamming window with 0.0194 passband ripple and 53 dB stopband attenuation\n",
      "- Lower passband edge: 1.00\n",
      "- Lower transition bandwidth: 1.00 Hz (-6 dB cutoff frequency: 0.50 Hz)\n",
      "- Upper passband edge: 40.00 Hz\n",
      "- Upper transition bandwidth: 10.00 Hz (-6 dB cutoff frequency: 45.00 Hz)\n",
      "- Filter length: 825 samples (3.300 s)\n",
      "\n",
      "Used Annotations descriptions: ['New Segment/', 'Stimulus/S  1', 'Stimulus/S  2', 'Stimulus/S  3', 'Stimulus/S  4', 'Stimulus/S  5', 'Stimulus/S  6', 'Stimulus/S  7', 'Stimulus/S  8', 'Stimulus/S  9', 'Stimulus/S 10', 'Stimulus/S 11', 'Stimulus/S 12', 'Stimulus/S 13', 'Stimulus/S 14', 'Stimulus/S 15', 'Stimulus/S 16', 'Stimulus/S 17', 'Stimulus/S 18', 'Stimulus/S 19', 'Stimulus/S 20', 'Stimulus/S 21', 'Stimulus/S 22', 'Stimulus/S 23', 'Stimulus/S 24', 'Stimulus/S 25', 'Stimulus/S101', 'Stimulus/S102', 'Stimulus/S121', 'Stimulus/S141', 'Stimulus/S142', 'Stimulus/S160', 'Stimulus/S169', 'Stimulus/S170', 'Stimulus/S172', 'Stimulus/S173', 'Stimulus/S213', 'Stimulus/S214', 'Stimulus/S223']\n",
      "Not setting metadata\n",
      "1898 matching events found\n",
      "Setting baseline interval to [-0.2, 0.0] s\n",
      "Applying baseline correction (mode: mean)\n",
      "0 projection items activated\n",
      "Using data from preloaded Raw for 1898 events and 301 original time points ...\n",
      "1 bad epochs dropped\n",
      "Adding metadata with 2 columns\n",
      "✅ 1897 epochs × 16 ch × 301 samples\n",
      "💾 Saved to /kaggle/working/bbciRaw/VPzk_15_07_16/RSVP_login_dry_VPzk_epo_1200ms_250Hz.fif\n",
      "\n",
      "📥 Loading /kaggle/working/bbciRaw/VPeal_15_07_20/RSVP_login_dry_VPeal.vhdr (User: VPeal, Date: 15_07_20)\n"
     ]
    },
    {
     "name": "stderr",
     "output_type": "stream",
     "text": [
      "/tmp/ipykernel_31/2598750780.py:63: RuntimeWarning: This filename (/kaggle/working/bbciRaw/VPzk_15_07_16/RSVP_login_dry_VPzk_epo_1200ms_250Hz.fif) does not conform to MNE naming conventions. All epochs files should end with -epo.fif, -epo.fif.gz, _epo.fif or _epo.fif.gz\n",
      "  epochs.save(out_fname, overwrite=True)\n"
     ]
    },
    {
     "name": "stdout",
     "output_type": "stream",
     "text": [
      "Filtering raw data in 1 contiguous segment\n",
      "Setting up band-pass filter from 1 - 40 Hz\n",
      "\n",
      "FIR filter parameters\n",
      "---------------------\n",
      "Designing a one-pass, zero-phase, non-causal bandpass filter:\n",
      "- Windowed time-domain design (firwin) method\n",
      "- Hamming window with 0.0194 passband ripple and 53 dB stopband attenuation\n",
      "- Lower passband edge: 1.00\n",
      "- Lower transition bandwidth: 1.00 Hz (-6 dB cutoff frequency: 0.50 Hz)\n",
      "- Upper passband edge: 40.00 Hz\n",
      "- Upper transition bandwidth: 10.00 Hz (-6 dB cutoff frequency: 45.00 Hz)\n",
      "- Filter length: 825 samples (3.300 s)\n",
      "\n",
      "Used Annotations descriptions: ['New Segment/', 'Stimulus/S  1', 'Stimulus/S  2', 'Stimulus/S  3', 'Stimulus/S  4', 'Stimulus/S  5', 'Stimulus/S  6', 'Stimulus/S  7', 'Stimulus/S  8', 'Stimulus/S  9', 'Stimulus/S 10', 'Stimulus/S 11', 'Stimulus/S 12', 'Stimulus/S 13', 'Stimulus/S 14', 'Stimulus/S 15', 'Stimulus/S 16', 'Stimulus/S 17', 'Stimulus/S 18', 'Stimulus/S 19', 'Stimulus/S 20', 'Stimulus/S 21', 'Stimulus/S 22', 'Stimulus/S 23', 'Stimulus/S 24', 'Stimulus/S 25', 'Stimulus/S101', 'Stimulus/S102', 'Stimulus/S121', 'Stimulus/S141', 'Stimulus/S142', 'Stimulus/S160', 'Stimulus/S169', 'Stimulus/S170', 'Stimulus/S172', 'Stimulus/S173', 'Stimulus/S213', 'Stimulus/S214', 'Stimulus/S223']\n",
      "Not setting metadata\n",
      "1898 matching events found\n",
      "Setting baseline interval to [-0.2, 0.0] s\n",
      "Applying baseline correction (mode: mean)\n",
      "0 projection items activated\n",
      "Using data from preloaded Raw for 1898 events and 301 original time points ...\n",
      "1 bad epochs dropped\n",
      "Adding metadata with 2 columns\n",
      "✅ 1897 epochs × 16 ch × 301 samples\n",
      "💾 Saved to /kaggle/working/bbciRaw/VPeal_15_07_20/RSVP_login_dry_VPeal_epo_1200ms_250Hz.fif\n",
      "\n",
      "📥 Loading /kaggle/working/bbciRaw/VPgz_15_05_29/RSVP_login_VPgz.vhdr (User: VPgz, Date: 15_05_29)\n"
     ]
    },
    {
     "name": "stderr",
     "output_type": "stream",
     "text": [
      "/tmp/ipykernel_31/2598750780.py:63: RuntimeWarning: This filename (/kaggle/working/bbciRaw/VPeal_15_07_20/RSVP_login_dry_VPeal_epo_1200ms_250Hz.fif) does not conform to MNE naming conventions. All epochs files should end with -epo.fif, -epo.fif.gz, _epo.fif or _epo.fif.gz\n",
      "  epochs.save(out_fname, overwrite=True)\n"
     ]
    },
    {
     "name": "stdout",
     "output_type": "stream",
     "text": [
      "Filtering raw data in 1 contiguous segment\n",
      "Setting up band-pass filter from 1 - 40 Hz\n",
      "\n",
      "FIR filter parameters\n",
      "---------------------\n",
      "Designing a one-pass, zero-phase, non-causal bandpass filter:\n",
      "- Windowed time-domain design (firwin) method\n",
      "- Hamming window with 0.0194 passband ripple and 53 dB stopband attenuation\n",
      "- Lower passband edge: 1.00\n",
      "- Lower transition bandwidth: 1.00 Hz (-6 dB cutoff frequency: 0.50 Hz)\n",
      "- Upper passband edge: 40.00 Hz\n",
      "- Upper transition bandwidth: 10.00 Hz (-6 dB cutoff frequency: 45.00 Hz)\n",
      "- Filter length: 825 samples (3.300 s)\n",
      "\n"
     ]
    },
    {
     "name": "stderr",
     "output_type": "stream",
     "text": [
      "[Parallel(n_jobs=1)]: Done  17 tasks      | elapsed:    0.3s\n"
     ]
    },
    {
     "name": "stdout",
     "output_type": "stream",
     "text": [
      "Used Annotations descriptions: ['New Segment/', 'Stimulus/S  1', 'Stimulus/S  2', 'Stimulus/S  3', 'Stimulus/S  4', 'Stimulus/S  5', 'Stimulus/S  6', 'Stimulus/S  7', 'Stimulus/S  8', 'Stimulus/S  9', 'Stimulus/S 10', 'Stimulus/S 11', 'Stimulus/S 12', 'Stimulus/S 13', 'Stimulus/S 14', 'Stimulus/S 15', 'Stimulus/S 16', 'Stimulus/S 17', 'Stimulus/S 18', 'Stimulus/S 19', 'Stimulus/S 20', 'Stimulus/S 21', 'Stimulus/S 22', 'Stimulus/S 23', 'Stimulus/S 24', 'Stimulus/S 25', 'Stimulus/S101', 'Stimulus/S102', 'Stimulus/S121', 'Stimulus/S141', 'Stimulus/S142', 'Stimulus/S181', 'Stimulus/S182', 'Stimulus/S191', 'Stimulus/S192', 'Stimulus/S201', 'Stimulus/S202', 'Stimulus/S203', 'Stimulus/S204', 'Stimulus/S205', 'Stimulus/S211', 'Stimulus/S212', 'Stimulus/S221', 'Stimulus/S222', 'Stimulus/S231', 'Stimulus/S232']\n",
      "Not setting metadata\n",
      "3962 matching events found\n",
      "Setting baseline interval to [-0.2, 0.0] s\n",
      "Applying baseline correction (mode: mean)\n",
      "0 projection items activated\n",
      "Using data from preloaded Raw for 3962 events and 301 original time points ...\n",
      "1 bad epochs dropped\n",
      "Adding metadata with 2 columns\n",
      "✅ 3961 epochs × 32 ch × 301 samples\n"
     ]
    },
    {
     "name": "stderr",
     "output_type": "stream",
     "text": [
      "/tmp/ipykernel_31/2598750780.py:63: RuntimeWarning: This filename (/kaggle/working/bbciRaw/VPgz_15_05_29/RSVP_login_VPgz_epo_1200ms_250Hz.fif) does not conform to MNE naming conventions. All epochs files should end with -epo.fif, -epo.fif.gz, _epo.fif or _epo.fif.gz\n",
      "  epochs.save(out_fname, overwrite=True)\n"
     ]
    },
    {
     "name": "stdout",
     "output_type": "stream",
     "text": [
      "💾 Saved to /kaggle/working/bbciRaw/VPgz_15_05_29/RSVP_login_VPgz_epo_1200ms_250Hz.fif\n",
      "\n",
      "📥 Loading /kaggle/working/bbciRaw/VPad_15_05_14/RSVP_login_VPad.vhdr (User: VPad, Date: 15_05_14)\n"
     ]
    },
    {
     "name": "stderr",
     "output_type": "stream",
     "text": [
      "/tmp/ipykernel_31/2598750780.py:24: RuntimeWarning: Online software filter detected. Using software filter settings and ignoring hardware values\n",
      "  raw = mne.io.read_raw_brainvision(vhdr, preload=True, verbose=False)\n"
     ]
    },
    {
     "name": "stdout",
     "output_type": "stream",
     "text": [
      "Filtering raw data in 1 contiguous segment\n",
      "Setting up band-pass filter from 1 - 40 Hz\n",
      "\n",
      "FIR filter parameters\n",
      "---------------------\n",
      "Designing a one-pass, zero-phase, non-causal bandpass filter:\n",
      "- Windowed time-domain design (firwin) method\n",
      "- Hamming window with 0.0194 passband ripple and 53 dB stopband attenuation\n",
      "- Lower passband edge: 1.00\n",
      "- Lower transition bandwidth: 1.00 Hz (-6 dB cutoff frequency: 0.50 Hz)\n",
      "- Upper passband edge: 40.00 Hz\n",
      "- Upper transition bandwidth: 10.00 Hz (-6 dB cutoff frequency: 45.00 Hz)\n",
      "- Filter length: 825 samples (3.300 s)\n",
      "\n"
     ]
    },
    {
     "name": "stderr",
     "output_type": "stream",
     "text": [
      "[Parallel(n_jobs=1)]: Done  17 tasks      | elapsed:    0.4s\n"
     ]
    },
    {
     "name": "stdout",
     "output_type": "stream",
     "text": [
      "Used Annotations descriptions: ['New Segment/', 'Stimulus/S  1', 'Stimulus/S  2', 'Stimulus/S  3', 'Stimulus/S  4', 'Stimulus/S  5', 'Stimulus/S  6', 'Stimulus/S  7', 'Stimulus/S  8', 'Stimulus/S  9', 'Stimulus/S 10', 'Stimulus/S 11', 'Stimulus/S 12', 'Stimulus/S 13', 'Stimulus/S 14', 'Stimulus/S 15', 'Stimulus/S 16', 'Stimulus/S 17', 'Stimulus/S 18', 'Stimulus/S 19', 'Stimulus/S 20', 'Stimulus/S 21', 'Stimulus/S 22', 'Stimulus/S 23', 'Stimulus/S 24', 'Stimulus/S 25', 'Stimulus/S101', 'Stimulus/S102', 'Stimulus/S103', 'Stimulus/S111', 'Stimulus/S121', 'Stimulus/S141', 'Stimulus/S142', 'Stimulus/S181', 'Stimulus/S182', 'Stimulus/S191', 'Stimulus/S192', 'Stimulus/S201', 'Stimulus/S202', 'Stimulus/S203', 'Stimulus/S204', 'Stimulus/S205', 'Stimulus/S211', 'Stimulus/S212', 'Stimulus/S221', 'Stimulus/S222', 'Stimulus/S231', 'Stimulus/S232', 'Stimulus/S239']\n",
      "Multiple event values for single event times found. Creating new event value to reflect simultaneous events.\n",
      "Not setting metadata\n",
      "3919 matching events found\n",
      "Setting baseline interval to [-0.2, 0.0] s\n",
      "Applying baseline correction (mode: mean)\n",
      "0 projection items activated\n",
      "Using data from preloaded Raw for 3919 events and 301 original time points ...\n",
      "1 bad epochs dropped\n",
      "Adding metadata with 2 columns\n",
      "✅ 3918 epochs × 32 ch × 301 samples\n"
     ]
    },
    {
     "name": "stderr",
     "output_type": "stream",
     "text": [
      "/tmp/ipykernel_31/2598750780.py:63: RuntimeWarning: This filename (/kaggle/working/bbciRaw/VPad_15_05_14/RSVP_login_VPad_epo_1200ms_250Hz.fif) does not conform to MNE naming conventions. All epochs files should end with -epo.fif, -epo.fif.gz, _epo.fif or _epo.fif.gz\n",
      "  epochs.save(out_fname, overwrite=True)\n"
     ]
    },
    {
     "name": "stdout",
     "output_type": "stream",
     "text": [
      "💾 Saved to /kaggle/working/bbciRaw/VPad_15_05_14/RSVP_login_VPad_epo_1200ms_250Hz.fif\n",
      "\n",
      "📥 Loading /kaggle/working/bbciRaw/VPad_15_05_14/IQ_VPad.vhdr (User: VPad, Date: 15_05_14)\n"
     ]
    },
    {
     "name": "stderr",
     "output_type": "stream",
     "text": [
      "/tmp/ipykernel_31/2598750780.py:24: RuntimeWarning: Online software filter detected. Using software filter settings and ignoring hardware values\n",
      "  raw = mne.io.read_raw_brainvision(vhdr, preload=True, verbose=False)\n"
     ]
    },
    {
     "name": "stdout",
     "output_type": "stream",
     "text": [
      "Filtering raw data in 1 contiguous segment\n",
      "Setting up band-pass filter from 1 - 40 Hz\n",
      "\n",
      "FIR filter parameters\n",
      "---------------------\n",
      "Designing a one-pass, zero-phase, non-causal bandpass filter:\n",
      "- Windowed time-domain design (firwin) method\n",
      "- Hamming window with 0.0194 passband ripple and 53 dB stopband attenuation\n",
      "- Lower passband edge: 1.00\n",
      "- Lower transition bandwidth: 1.00 Hz (-6 dB cutoff frequency: 0.50 Hz)\n",
      "- Upper passband edge: 40.00 Hz\n",
      "- Upper transition bandwidth: 10.00 Hz (-6 dB cutoff frequency: 45.00 Hz)\n",
      "- Filter length: 825 samples (3.300 s)\n",
      "\n"
     ]
    },
    {
     "name": "stderr",
     "output_type": "stream",
     "text": [
      "[Parallel(n_jobs=1)]: Done  17 tasks      | elapsed:    0.3s\n"
     ]
    },
    {
     "name": "stdout",
     "output_type": "stream",
     "text": [
      "Used Annotations descriptions: ['New Segment/', 'Stimulus/S  1', 'Stimulus/S  2', 'Stimulus/S  4', 'Stimulus/S  5', 'Stimulus/S  6', 'Stimulus/S  8', 'Stimulus/S 10', 'Stimulus/S 11', 'Stimulus/S 20', 'Stimulus/S 21', 'Stimulus/S 30', 'Stimulus/S 31', 'Stimulus/S 40', 'Stimulus/S 41', 'Stimulus/S 50', 'Stimulus/S 51', 'Stimulus/S 60', 'Stimulus/S 61', 'Stimulus/S 70', 'Stimulus/S 71', 'Stimulus/S 80', 'Stimulus/S 81', 'Stimulus/S110', 'Stimulus/S111', 'Stimulus/S120', 'Stimulus/S121', 'Stimulus/S130', 'Stimulus/S131', 'Stimulus/S140', 'Stimulus/S141', 'Stimulus/S150', 'Stimulus/S151', 'Stimulus/S160', 'Stimulus/S161', 'Stimulus/S170', 'Stimulus/S171', 'Stimulus/S180', 'Stimulus/S181']\n",
      "Not setting metadata\n",
      "1784 matching events found\n",
      "Setting baseline interval to [-0.2, 0.0] s\n",
      "Applying baseline correction (mode: mean)\n",
      "0 projection items activated\n",
      "Using data from preloaded Raw for 1784 events and 301 original time points ...\n",
      "1 bad epochs dropped\n",
      "Adding metadata with 2 columns\n",
      "✅ 1783 epochs × 32 ch × 301 samples\n"
     ]
    },
    {
     "name": "stderr",
     "output_type": "stream",
     "text": [
      "/tmp/ipykernel_31/2598750780.py:63: RuntimeWarning: This filename (/kaggle/working/bbciRaw/VPad_15_05_14/IQ_VPad_epo_1200ms_250Hz.fif) does not conform to MNE naming conventions. All epochs files should end with -epo.fif, -epo.fif.gz, _epo.fif or _epo.fif.gz\n",
      "  epochs.save(out_fname, overwrite=True)\n"
     ]
    },
    {
     "name": "stdout",
     "output_type": "stream",
     "text": [
      "💾 Saved to /kaggle/working/bbciRaw/VPad_15_05_14/IQ_VPad_epo_1200ms_250Hz.fif\n",
      "\n",
      "📥 Loading /kaggle/working/bbciRaw/VPhj_15_05_28/RSVP_login_VPhj.vhdr (User: VPhj, Date: 15_05_28)\n"
     ]
    },
    {
     "name": "stderr",
     "output_type": "stream",
     "text": [
      "/tmp/ipykernel_31/2598750780.py:24: RuntimeWarning: Online software filter detected. Using software filter settings and ignoring hardware values\n",
      "  raw = mne.io.read_raw_brainvision(vhdr, preload=True, verbose=False)\n"
     ]
    },
    {
     "name": "stdout",
     "output_type": "stream",
     "text": [
      "Filtering raw data in 1 contiguous segment\n",
      "Setting up band-pass filter from 1 - 40 Hz\n",
      "\n",
      "FIR filter parameters\n",
      "---------------------\n",
      "Designing a one-pass, zero-phase, non-causal bandpass filter:\n",
      "- Windowed time-domain design (firwin) method\n",
      "- Hamming window with 0.0194 passband ripple and 53 dB stopband attenuation\n",
      "- Lower passband edge: 1.00\n",
      "- Lower transition bandwidth: 1.00 Hz (-6 dB cutoff frequency: 0.50 Hz)\n",
      "- Upper passband edge: 40.00 Hz\n",
      "- Upper transition bandwidth: 10.00 Hz (-6 dB cutoff frequency: 45.00 Hz)\n",
      "- Filter length: 825 samples (3.300 s)\n",
      "\n"
     ]
    },
    {
     "name": "stderr",
     "output_type": "stream",
     "text": [
      "[Parallel(n_jobs=1)]: Done  17 tasks      | elapsed:    0.3s\n"
     ]
    },
    {
     "name": "stdout",
     "output_type": "stream",
     "text": [
      "Used Annotations descriptions: ['New Segment/', 'Stimulus/S  1', 'Stimulus/S  2', 'Stimulus/S  3', 'Stimulus/S  4', 'Stimulus/S  5', 'Stimulus/S  6', 'Stimulus/S  7', 'Stimulus/S  8', 'Stimulus/S  9', 'Stimulus/S 10', 'Stimulus/S 11', 'Stimulus/S 12', 'Stimulus/S 13', 'Stimulus/S 14', 'Stimulus/S 15', 'Stimulus/S 16', 'Stimulus/S 17', 'Stimulus/S 18', 'Stimulus/S 19', 'Stimulus/S 20', 'Stimulus/S 21', 'Stimulus/S 22', 'Stimulus/S 23', 'Stimulus/S 24', 'Stimulus/S 25', 'Stimulus/S101', 'Stimulus/S102', 'Stimulus/S121', 'Stimulus/S141', 'Stimulus/S142', 'Stimulus/S181', 'Stimulus/S182', 'Stimulus/S191', 'Stimulus/S192', 'Stimulus/S201', 'Stimulus/S202', 'Stimulus/S203', 'Stimulus/S204', 'Stimulus/S205', 'Stimulus/S211', 'Stimulus/S212', 'Stimulus/S221', 'Stimulus/S222', 'Stimulus/S231', 'Stimulus/S232', 'Stimulus/S239']\n",
      "Multiple event values for single event times found. Creating new event value to reflect simultaneous events.\n",
      "Not setting metadata\n",
      "3962 matching events found\n",
      "Setting baseline interval to [-0.2, 0.0] s\n",
      "Applying baseline correction (mode: mean)\n",
      "0 projection items activated\n",
      "Using data from preloaded Raw for 3962 events and 301 original time points ...\n",
      "1 bad epochs dropped\n",
      "Adding metadata with 2 columns\n",
      "✅ 3961 epochs × 32 ch × 301 samples\n"
     ]
    },
    {
     "name": "stderr",
     "output_type": "stream",
     "text": [
      "/tmp/ipykernel_31/2598750780.py:63: RuntimeWarning: This filename (/kaggle/working/bbciRaw/VPhj_15_05_28/RSVP_login_VPhj_epo_1200ms_250Hz.fif) does not conform to MNE naming conventions. All epochs files should end with -epo.fif, -epo.fif.gz, _epo.fif or _epo.fif.gz\n",
      "  epochs.save(out_fname, overwrite=True)\n"
     ]
    },
    {
     "name": "stdout",
     "output_type": "stream",
     "text": [
      "💾 Saved to /kaggle/working/bbciRaw/VPhj_15_05_28/RSVP_login_VPhj_epo_1200ms_250Hz.fif\n",
      "\n",
      "📥 Loading /kaggle/working/bbciRaw/VPtu_15_05_28/RSVP_login_VPtu.vhdr (User: VPtu, Date: 15_05_28)\n"
     ]
    },
    {
     "name": "stderr",
     "output_type": "stream",
     "text": [
      "/tmp/ipykernel_31/2598750780.py:24: RuntimeWarning: Online software filter detected. Using software filter settings and ignoring hardware values\n",
      "  raw = mne.io.read_raw_brainvision(vhdr, preload=True, verbose=False)\n"
     ]
    },
    {
     "name": "stdout",
     "output_type": "stream",
     "text": [
      "Filtering raw data in 1 contiguous segment\n",
      "Setting up band-pass filter from 1 - 40 Hz\n",
      "\n",
      "FIR filter parameters\n",
      "---------------------\n",
      "Designing a one-pass, zero-phase, non-causal bandpass filter:\n",
      "- Windowed time-domain design (firwin) method\n",
      "- Hamming window with 0.0194 passband ripple and 53 dB stopband attenuation\n",
      "- Lower passband edge: 1.00\n",
      "- Lower transition bandwidth: 1.00 Hz (-6 dB cutoff frequency: 0.50 Hz)\n",
      "- Upper passband edge: 40.00 Hz\n",
      "- Upper transition bandwidth: 10.00 Hz (-6 dB cutoff frequency: 45.00 Hz)\n",
      "- Filter length: 825 samples (3.300 s)\n",
      "\n"
     ]
    },
    {
     "name": "stderr",
     "output_type": "stream",
     "text": [
      "[Parallel(n_jobs=1)]: Done  17 tasks      | elapsed:    0.3s\n"
     ]
    },
    {
     "name": "stdout",
     "output_type": "stream",
     "text": [
      "Used Annotations descriptions: ['New Segment/', 'Stimulus/S  1', 'Stimulus/S  2', 'Stimulus/S  3', 'Stimulus/S  4', 'Stimulus/S  5', 'Stimulus/S  6', 'Stimulus/S  7', 'Stimulus/S  8', 'Stimulus/S  9', 'Stimulus/S 10', 'Stimulus/S 11', 'Stimulus/S 12', 'Stimulus/S 13', 'Stimulus/S 14', 'Stimulus/S 15', 'Stimulus/S 16', 'Stimulus/S 17', 'Stimulus/S 18', 'Stimulus/S 19', 'Stimulus/S 20', 'Stimulus/S 21', 'Stimulus/S 22', 'Stimulus/S 23', 'Stimulus/S 24', 'Stimulus/S 25', 'Stimulus/S101', 'Stimulus/S102', 'Stimulus/S103', 'Stimulus/S121', 'Stimulus/S141', 'Stimulus/S142', 'Stimulus/S181', 'Stimulus/S182', 'Stimulus/S191', 'Stimulus/S192', 'Stimulus/S201', 'Stimulus/S202', 'Stimulus/S203', 'Stimulus/S204', 'Stimulus/S205', 'Stimulus/S211', 'Stimulus/S212', 'Stimulus/S221', 'Stimulus/S222', 'Stimulus/S231', 'Stimulus/S232']\n",
      "Multiple event values for single event times found. Creating new event value to reflect simultaneous events.\n",
      "Not setting metadata\n",
      "3963 matching events found\n",
      "Setting baseline interval to [-0.2, 0.0] s\n",
      "Applying baseline correction (mode: mean)\n",
      "0 projection items activated\n",
      "Using data from preloaded Raw for 3963 events and 301 original time points ...\n",
      "1 bad epochs dropped\n",
      "Adding metadata with 2 columns\n",
      "✅ 3962 epochs × 32 ch × 301 samples\n"
     ]
    },
    {
     "name": "stderr",
     "output_type": "stream",
     "text": [
      "/tmp/ipykernel_31/2598750780.py:63: RuntimeWarning: This filename (/kaggle/working/bbciRaw/VPtu_15_05_28/RSVP_login_VPtu_epo_1200ms_250Hz.fif) does not conform to MNE naming conventions. All epochs files should end with -epo.fif, -epo.fif.gz, _epo.fif or _epo.fif.gz\n",
      "  epochs.save(out_fname, overwrite=True)\n"
     ]
    },
    {
     "name": "stdout",
     "output_type": "stream",
     "text": [
      "💾 Saved to /kaggle/working/bbciRaw/VPtu_15_05_28/RSVP_login_VPtu_epo_1200ms_250Hz.fif\n",
      "\n",
      "📥 Loading /kaggle/working/bbciRaw/VPlh_15_07_20/RSVP_login_dry_VPlh.vhdr (User: VPlh, Date: 15_07_20)\n",
      "Filtering raw data in 1 contiguous segment\n",
      "Setting up band-pass filter from 1 - 40 Hz\n",
      "\n",
      "FIR filter parameters\n",
      "---------------------\n",
      "Designing a one-pass, zero-phase, non-causal bandpass filter:\n",
      "- Windowed time-domain design (firwin) method\n",
      "- Hamming window with 0.0194 passband ripple and 53 dB stopband attenuation\n",
      "- Lower passband edge: 1.00\n",
      "- Lower transition bandwidth: 1.00 Hz (-6 dB cutoff frequency: 0.50 Hz)\n",
      "- Upper passband edge: 40.00 Hz\n",
      "- Upper transition bandwidth: 10.00 Hz (-6 dB cutoff frequency: 45.00 Hz)\n",
      "- Filter length: 825 samples (3.300 s)\n",
      "\n",
      "Used Annotations descriptions: ['New Segment/', 'Stimulus/S  1', 'Stimulus/S  2', 'Stimulus/S  3', 'Stimulus/S  4', 'Stimulus/S  5', 'Stimulus/S  6', 'Stimulus/S  7', 'Stimulus/S  8', 'Stimulus/S  9', 'Stimulus/S 10', 'Stimulus/S 11', 'Stimulus/S 12', 'Stimulus/S 13', 'Stimulus/S 14', 'Stimulus/S 15', 'Stimulus/S 16', 'Stimulus/S 17', 'Stimulus/S 18', 'Stimulus/S 19', 'Stimulus/S 20', 'Stimulus/S 21', 'Stimulus/S 22', 'Stimulus/S 23', 'Stimulus/S 24', 'Stimulus/S 25', 'Stimulus/S101', 'Stimulus/S102', 'Stimulus/S121', 'Stimulus/S141', 'Stimulus/S142', 'Stimulus/S160', 'Stimulus/S169', 'Stimulus/S170', 'Stimulus/S171', 'Stimulus/S172', 'Stimulus/S173', 'Stimulus/S213', 'Stimulus/S214', 'Stimulus/S223']\n",
      "Not setting metadata\n",
      "1898 matching events found\n",
      "Setting baseline interval to [-0.2, 0.0] s\n",
      "Applying baseline correction (mode: mean)\n",
      "0 projection items activated\n",
      "Using data from preloaded Raw for 1898 events and 301 original time points ...\n",
      "1 bad epochs dropped\n",
      "Adding metadata with 2 columns\n",
      "✅ 1897 epochs × 16 ch × 301 samples\n",
      "💾 Saved to /kaggle/working/bbciRaw/VPlh_15_07_20/RSVP_login_dry_VPlh_epo_1200ms_250Hz.fif\n",
      "\n",
      "📥 Loading /kaggle/working/bbciRaw/VPsc_15_05_23/RSVP_login_VPsc.vhdr (User: VPsc, Date: 15_05_23)\n"
     ]
    },
    {
     "name": "stderr",
     "output_type": "stream",
     "text": [
      "/tmp/ipykernel_31/2598750780.py:63: RuntimeWarning: This filename (/kaggle/working/bbciRaw/VPlh_15_07_20/RSVP_login_dry_VPlh_epo_1200ms_250Hz.fif) does not conform to MNE naming conventions. All epochs files should end with -epo.fif, -epo.fif.gz, _epo.fif or _epo.fif.gz\n",
      "  epochs.save(out_fname, overwrite=True)\n"
     ]
    },
    {
     "name": "stdout",
     "output_type": "stream",
     "text": [
      "Filtering raw data in 1 contiguous segment\n",
      "Setting up band-pass filter from 1 - 40 Hz\n",
      "\n",
      "FIR filter parameters\n",
      "---------------------\n",
      "Designing a one-pass, zero-phase, non-causal bandpass filter:\n",
      "- Windowed time-domain design (firwin) method\n",
      "- Hamming window with 0.0194 passband ripple and 53 dB stopband attenuation\n",
      "- Lower passband edge: 1.00\n",
      "- Lower transition bandwidth: 1.00 Hz (-6 dB cutoff frequency: 0.50 Hz)\n",
      "- Upper passband edge: 40.00 Hz\n",
      "- Upper transition bandwidth: 10.00 Hz (-6 dB cutoff frequency: 45.00 Hz)\n",
      "- Filter length: 825 samples (3.300 s)\n",
      "\n"
     ]
    },
    {
     "name": "stderr",
     "output_type": "stream",
     "text": [
      "[Parallel(n_jobs=1)]: Done  17 tasks      | elapsed:    0.3s\n"
     ]
    },
    {
     "name": "stdout",
     "output_type": "stream",
     "text": [
      "Used Annotations descriptions: ['New Segment/', 'Stimulus/S  1', 'Stimulus/S  2', 'Stimulus/S  3', 'Stimulus/S  4', 'Stimulus/S  5', 'Stimulus/S  6', 'Stimulus/S  7', 'Stimulus/S  8', 'Stimulus/S  9', 'Stimulus/S 10', 'Stimulus/S 11', 'Stimulus/S 12', 'Stimulus/S 13', 'Stimulus/S 14', 'Stimulus/S 15', 'Stimulus/S 16', 'Stimulus/S 17', 'Stimulus/S 18', 'Stimulus/S 19', 'Stimulus/S 20', 'Stimulus/S 21', 'Stimulus/S 22', 'Stimulus/S 23', 'Stimulus/S 24', 'Stimulus/S 25', 'Stimulus/S101', 'Stimulus/S102', 'Stimulus/S121', 'Stimulus/S141', 'Stimulus/S142', 'Stimulus/S181', 'Stimulus/S182', 'Stimulus/S191', 'Stimulus/S192', 'Stimulus/S201', 'Stimulus/S202', 'Stimulus/S203', 'Stimulus/S204', 'Stimulus/S205', 'Stimulus/S211', 'Stimulus/S212', 'Stimulus/S221', 'Stimulus/S222', 'Stimulus/S231', 'Stimulus/S232', 'Stimulus/S239', 'Stimulus/S255']\n",
      "Multiple event values for single event times found. Creating new event value to reflect simultaneous events.\n",
      "Not setting metadata\n",
      "3964 matching events found\n",
      "Setting baseline interval to [-0.2, 0.0] s\n",
      "Applying baseline correction (mode: mean)\n",
      "0 projection items activated\n",
      "Using data from preloaded Raw for 3964 events and 301 original time points ...\n",
      "1 bad epochs dropped\n",
      "Adding metadata with 2 columns\n",
      "✅ 3963 epochs × 32 ch × 301 samples\n"
     ]
    },
    {
     "name": "stderr",
     "output_type": "stream",
     "text": [
      "/tmp/ipykernel_31/2598750780.py:63: RuntimeWarning: This filename (/kaggle/working/bbciRaw/VPsc_15_05_23/RSVP_login_VPsc_epo_1200ms_250Hz.fif) does not conform to MNE naming conventions. All epochs files should end with -epo.fif, -epo.fif.gz, _epo.fif or _epo.fif.gz\n",
      "  epochs.save(out_fname, overwrite=True)\n"
     ]
    },
    {
     "name": "stdout",
     "output_type": "stream",
     "text": [
      "💾 Saved to /kaggle/working/bbciRaw/VPsc_15_05_23/RSVP_login_VPsc_epo_1200ms_250Hz.fif\n",
      "\n",
      "📥 Loading /kaggle/working/bbciRaw/VPsd_15_07_21/RSVP_login_dry_VPsd.vhdr (User: VPsd, Date: 15_07_21)\n",
      "Filtering raw data in 1 contiguous segment\n",
      "Setting up band-pass filter from 1 - 40 Hz\n",
      "\n",
      "FIR filter parameters\n",
      "---------------------\n",
      "Designing a one-pass, zero-phase, non-causal bandpass filter:\n",
      "- Windowed time-domain design (firwin) method\n",
      "- Hamming window with 0.0194 passband ripple and 53 dB stopband attenuation\n",
      "- Lower passband edge: 1.00\n",
      "- Lower transition bandwidth: 1.00 Hz (-6 dB cutoff frequency: 0.50 Hz)\n",
      "- Upper passband edge: 40.00 Hz\n",
      "- Upper transition bandwidth: 10.00 Hz (-6 dB cutoff frequency: 45.00 Hz)\n",
      "- Filter length: 825 samples (3.300 s)\n",
      "\n",
      "Used Annotations descriptions: ['New Segment/', 'Stimulus/S  1', 'Stimulus/S  2', 'Stimulus/S  3', 'Stimulus/S  4', 'Stimulus/S  5', 'Stimulus/S  6', 'Stimulus/S  7', 'Stimulus/S  8', 'Stimulus/S  9', 'Stimulus/S 10', 'Stimulus/S 11', 'Stimulus/S 12', 'Stimulus/S 13', 'Stimulus/S 14', 'Stimulus/S 15', 'Stimulus/S 16', 'Stimulus/S 17', 'Stimulus/S 18', 'Stimulus/S 19', 'Stimulus/S 20', 'Stimulus/S 21', 'Stimulus/S 22', 'Stimulus/S 23', 'Stimulus/S 24', 'Stimulus/S 25', 'Stimulus/S101', 'Stimulus/S102', 'Stimulus/S121', 'Stimulus/S141', 'Stimulus/S142', 'Stimulus/S160', 'Stimulus/S169', 'Stimulus/S170', 'Stimulus/S171', 'Stimulus/S172', 'Stimulus/S173', 'Stimulus/S213', 'Stimulus/S214', 'Stimulus/S223']\n",
      "Not setting metadata\n",
      "1898 matching events found\n",
      "Setting baseline interval to [-0.2, 0.0] s\n",
      "Applying baseline correction (mode: mean)\n",
      "0 projection items activated\n",
      "Using data from preloaded Raw for 1898 events and 301 original time points ...\n",
      "1 bad epochs dropped\n",
      "Adding metadata with 2 columns\n",
      "✅ 1897 epochs × 16 ch × 301 samples\n",
      "💾 Saved to /kaggle/working/bbciRaw/VPsd_15_07_21/RSVP_login_dry_VPsd_epo_1200ms_250Hz.fif\n",
      "\n",
      "📥 Loading /kaggle/working/bbciRaw/VPyy_15_05_21/RSVP_login_VPyy.vhdr (User: VPyy, Date: 15_05_21)\n"
     ]
    },
    {
     "name": "stderr",
     "output_type": "stream",
     "text": [
      "/tmp/ipykernel_31/2598750780.py:63: RuntimeWarning: This filename (/kaggle/working/bbciRaw/VPsd_15_07_21/RSVP_login_dry_VPsd_epo_1200ms_250Hz.fif) does not conform to MNE naming conventions. All epochs files should end with -epo.fif, -epo.fif.gz, _epo.fif or _epo.fif.gz\n",
      "  epochs.save(out_fname, overwrite=True)\n"
     ]
    },
    {
     "name": "stdout",
     "output_type": "stream",
     "text": [
      "Filtering raw data in 1 contiguous segment\n",
      "Setting up band-pass filter from 1 - 40 Hz\n",
      "\n",
      "FIR filter parameters\n",
      "---------------------\n",
      "Designing a one-pass, zero-phase, non-causal bandpass filter:\n",
      "- Windowed time-domain design (firwin) method\n",
      "- Hamming window with 0.0194 passband ripple and 53 dB stopband attenuation\n",
      "- Lower passband edge: 1.00\n",
      "- Lower transition bandwidth: 1.00 Hz (-6 dB cutoff frequency: 0.50 Hz)\n",
      "- Upper passband edge: 40.00 Hz\n",
      "- Upper transition bandwidth: 10.00 Hz (-6 dB cutoff frequency: 45.00 Hz)\n",
      "- Filter length: 825 samples (3.300 s)\n",
      "\n"
     ]
    },
    {
     "name": "stderr",
     "output_type": "stream",
     "text": [
      "[Parallel(n_jobs=1)]: Done  17 tasks      | elapsed:    0.3s\n"
     ]
    },
    {
     "name": "stdout",
     "output_type": "stream",
     "text": [
      "Used Annotations descriptions: ['New Segment/', 'Stimulus/S  1', 'Stimulus/S  2', 'Stimulus/S  3', 'Stimulus/S  4', 'Stimulus/S  5', 'Stimulus/S  6', 'Stimulus/S  7', 'Stimulus/S  8', 'Stimulus/S  9', 'Stimulus/S 10', 'Stimulus/S 11', 'Stimulus/S 12', 'Stimulus/S 13', 'Stimulus/S 14', 'Stimulus/S 15', 'Stimulus/S 16', 'Stimulus/S 17', 'Stimulus/S 18', 'Stimulus/S 19', 'Stimulus/S 20', 'Stimulus/S 21', 'Stimulus/S 22', 'Stimulus/S 23', 'Stimulus/S 24', 'Stimulus/S 25', 'Stimulus/S101', 'Stimulus/S102', 'Stimulus/S121', 'Stimulus/S141', 'Stimulus/S142', 'Stimulus/S181', 'Stimulus/S182', 'Stimulus/S191', 'Stimulus/S192', 'Stimulus/S201', 'Stimulus/S202', 'Stimulus/S203', 'Stimulus/S204', 'Stimulus/S205', 'Stimulus/S211', 'Stimulus/S212', 'Stimulus/S221', 'Stimulus/S222', 'Stimulus/S231', 'Stimulus/S232', 'Stimulus/S239']\n",
      "Multiple event values for single event times found. Creating new event value to reflect simultaneous events.\n",
      "Not setting metadata\n",
      "3962 matching events found\n",
      "Setting baseline interval to [-0.2, 0.0] s\n",
      "Applying baseline correction (mode: mean)\n",
      "0 projection items activated\n",
      "Using data from preloaded Raw for 3962 events and 301 original time points ...\n",
      "1 bad epochs dropped\n",
      "Adding metadata with 2 columns\n",
      "✅ 3961 epochs × 32 ch × 301 samples\n"
     ]
    },
    {
     "name": "stderr",
     "output_type": "stream",
     "text": [
      "/tmp/ipykernel_31/2598750780.py:63: RuntimeWarning: This filename (/kaggle/working/bbciRaw/VPyy_15_05_21/RSVP_login_VPyy_epo_1200ms_250Hz.fif) does not conform to MNE naming conventions. All epochs files should end with -epo.fif, -epo.fif.gz, _epo.fif or _epo.fif.gz\n",
      "  epochs.save(out_fname, overwrite=True)\n"
     ]
    },
    {
     "name": "stdout",
     "output_type": "stream",
     "text": [
      "💾 Saved to /kaggle/working/bbciRaw/VPyy_15_05_21/RSVP_login_VPyy_epo_1200ms_250Hz.fif\n",
      "\n",
      "📥 Loading /kaggle/working/bbciRaw/VPtt_15_05_19/RSVP_login_VPtt.vhdr (User: VPtt, Date: 15_05_19)\n",
      "Filtering raw data in 1 contiguous segment\n",
      "Setting up band-pass filter from 1 - 40 Hz\n",
      "\n",
      "FIR filter parameters\n",
      "---------------------\n",
      "Designing a one-pass, zero-phase, non-causal bandpass filter:\n",
      "- Windowed time-domain design (firwin) method\n",
      "- Hamming window with 0.0194 passband ripple and 53 dB stopband attenuation\n",
      "- Lower passband edge: 1.00\n",
      "- Lower transition bandwidth: 1.00 Hz (-6 dB cutoff frequency: 0.50 Hz)\n",
      "- Upper passband edge: 40.00 Hz\n",
      "- Upper transition bandwidth: 10.00 Hz (-6 dB cutoff frequency: 45.00 Hz)\n",
      "- Filter length: 825 samples (3.300 s)\n",
      "\n"
     ]
    },
    {
     "name": "stderr",
     "output_type": "stream",
     "text": [
      "[Parallel(n_jobs=1)]: Done  17 tasks      | elapsed:    0.4s\n"
     ]
    },
    {
     "name": "stdout",
     "output_type": "stream",
     "text": [
      "Used Annotations descriptions: ['New Segment/', 'Stimulus/S  1', 'Stimulus/S  2', 'Stimulus/S  3', 'Stimulus/S  4', 'Stimulus/S  5', 'Stimulus/S  6', 'Stimulus/S  7', 'Stimulus/S  8', 'Stimulus/S  9', 'Stimulus/S 10', 'Stimulus/S 11', 'Stimulus/S 12', 'Stimulus/S 13', 'Stimulus/S 14', 'Stimulus/S 15', 'Stimulus/S 16', 'Stimulus/S 17', 'Stimulus/S 18', 'Stimulus/S 19', 'Stimulus/S 20', 'Stimulus/S 21', 'Stimulus/S 22', 'Stimulus/S 23', 'Stimulus/S 24', 'Stimulus/S 25', 'Stimulus/S101', 'Stimulus/S102', 'Stimulus/S121', 'Stimulus/S141', 'Stimulus/S142', 'Stimulus/S181', 'Stimulus/S182', 'Stimulus/S191', 'Stimulus/S192', 'Stimulus/S201', 'Stimulus/S202', 'Stimulus/S203', 'Stimulus/S204', 'Stimulus/S205', 'Stimulus/S211', 'Stimulus/S212', 'Stimulus/S221', 'Stimulus/S222', 'Stimulus/S231', 'Stimulus/S232']\n",
      "Not setting metadata\n",
      "3918 matching events found\n",
      "Setting baseline interval to [-0.2, 0.0] s\n",
      "Applying baseline correction (mode: mean)\n",
      "0 projection items activated\n",
      "Using data from preloaded Raw for 3918 events and 301 original time points ...\n",
      "1 bad epochs dropped\n",
      "Adding metadata with 2 columns\n",
      "✅ 3917 epochs × 32 ch × 301 samples\n"
     ]
    },
    {
     "name": "stderr",
     "output_type": "stream",
     "text": [
      "/tmp/ipykernel_31/2598750780.py:63: RuntimeWarning: This filename (/kaggle/working/bbciRaw/VPtt_15_05_19/RSVP_login_VPtt_epo_1200ms_250Hz.fif) does not conform to MNE naming conventions. All epochs files should end with -epo.fif, -epo.fif.gz, _epo.fif or _epo.fif.gz\n",
      "  epochs.save(out_fname, overwrite=True)\n"
     ]
    },
    {
     "name": "stdout",
     "output_type": "stream",
     "text": [
      "💾 Saved to /kaggle/working/bbciRaw/VPtt_15_05_19/RSVP_login_VPtt_epo_1200ms_250Hz.fif\n",
      "\n",
      "📥 Loading /kaggle/working/bbciRaw/VPtt_15_05_19/IQ_VPtt.vhdr (User: VPtt, Date: 15_05_19)\n",
      "Filtering raw data in 1 contiguous segment\n",
      "Setting up band-pass filter from 1 - 40 Hz\n",
      "\n",
      "FIR filter parameters\n",
      "---------------------\n",
      "Designing a one-pass, zero-phase, non-causal bandpass filter:\n",
      "- Windowed time-domain design (firwin) method\n",
      "- Hamming window with 0.0194 passband ripple and 53 dB stopband attenuation\n",
      "- Lower passband edge: 1.00\n",
      "- Lower transition bandwidth: 1.00 Hz (-6 dB cutoff frequency: 0.50 Hz)\n",
      "- Upper passband edge: 40.00 Hz\n",
      "- Upper transition bandwidth: 10.00 Hz (-6 dB cutoff frequency: 45.00 Hz)\n",
      "- Filter length: 825 samples (3.300 s)\n",
      "\n"
     ]
    },
    {
     "name": "stderr",
     "output_type": "stream",
     "text": [
      "[Parallel(n_jobs=1)]: Done  17 tasks      | elapsed:    0.3s\n"
     ]
    },
    {
     "name": "stdout",
     "output_type": "stream",
     "text": [
      "Used Annotations descriptions: ['New Segment/', 'Stimulus/S  1', 'Stimulus/S  2', 'Stimulus/S  4', 'Stimulus/S  5', 'Stimulus/S  6', 'Stimulus/S  8', 'Stimulus/S 10', 'Stimulus/S 11', 'Stimulus/S 20', 'Stimulus/S 21', 'Stimulus/S 30', 'Stimulus/S 31', 'Stimulus/S 40', 'Stimulus/S 41', 'Stimulus/S 50', 'Stimulus/S 51', 'Stimulus/S 60', 'Stimulus/S 61', 'Stimulus/S 70', 'Stimulus/S 71', 'Stimulus/S 80', 'Stimulus/S 81', 'Stimulus/S110', 'Stimulus/S111', 'Stimulus/S120', 'Stimulus/S121', 'Stimulus/S130', 'Stimulus/S131', 'Stimulus/S140', 'Stimulus/S141', 'Stimulus/S150', 'Stimulus/S151', 'Stimulus/S160', 'Stimulus/S161', 'Stimulus/S170', 'Stimulus/S171', 'Stimulus/S180', 'Stimulus/S181']\n",
      "Not setting metadata\n",
      "1697 matching events found\n",
      "Setting baseline interval to [-0.2, 0.0] s\n",
      "Applying baseline correction (mode: mean)\n",
      "0 projection items activated\n",
      "Using data from preloaded Raw for 1697 events and 301 original time points ...\n",
      "1 bad epochs dropped\n",
      "Adding metadata with 2 columns\n",
      "✅ 1696 epochs × 32 ch × 301 samples\n"
     ]
    },
    {
     "name": "stderr",
     "output_type": "stream",
     "text": [
      "/tmp/ipykernel_31/2598750780.py:63: RuntimeWarning: This filename (/kaggle/working/bbciRaw/VPtt_15_05_19/IQ_VPtt_epo_1200ms_250Hz.fif) does not conform to MNE naming conventions. All epochs files should end with -epo.fif, -epo.fif.gz, _epo.fif or _epo.fif.gz\n",
      "  epochs.save(out_fname, overwrite=True)\n"
     ]
    },
    {
     "name": "stdout",
     "output_type": "stream",
     "text": [
      "💾 Saved to /kaggle/working/bbciRaw/VPtt_15_05_19/IQ_VPtt_epo_1200ms_250Hz.fif\n",
      "\n",
      "📥 Loading /kaggle/working/bbciRaw/VPocb_15_07_20/RSVP_login_dry_VPocb.vhdr (User: VPocb, Date: 15_07_20)\n",
      "Filtering raw data in 1 contiguous segment\n",
      "Setting up band-pass filter from 1 - 40 Hz\n",
      "\n",
      "FIR filter parameters\n",
      "---------------------\n",
      "Designing a one-pass, zero-phase, non-causal bandpass filter:\n",
      "- Windowed time-domain design (firwin) method\n",
      "- Hamming window with 0.0194 passband ripple and 53 dB stopband attenuation\n",
      "- Lower passband edge: 1.00\n",
      "- Lower transition bandwidth: 1.00 Hz (-6 dB cutoff frequency: 0.50 Hz)\n",
      "- Upper passband edge: 40.00 Hz\n",
      "- Upper transition bandwidth: 10.00 Hz (-6 dB cutoff frequency: 45.00 Hz)\n",
      "- Filter length: 825 samples (3.300 s)\n",
      "\n",
      "Used Annotations descriptions: ['New Segment/', 'Stimulus/S  1', 'Stimulus/S  2', 'Stimulus/S  3', 'Stimulus/S  4', 'Stimulus/S  5', 'Stimulus/S  6', 'Stimulus/S  7', 'Stimulus/S  8', 'Stimulus/S  9', 'Stimulus/S 10', 'Stimulus/S 11', 'Stimulus/S 12', 'Stimulus/S 13', 'Stimulus/S 14', 'Stimulus/S 15', 'Stimulus/S 16', 'Stimulus/S 17', 'Stimulus/S 18', 'Stimulus/S 19', 'Stimulus/S 20', 'Stimulus/S 21', 'Stimulus/S 22', 'Stimulus/S 23', 'Stimulus/S 24', 'Stimulus/S 25', 'Stimulus/S101', 'Stimulus/S102', 'Stimulus/S121', 'Stimulus/S141', 'Stimulus/S142', 'Stimulus/S160', 'Stimulus/S169', 'Stimulus/S170', 'Stimulus/S171', 'Stimulus/S173', 'Stimulus/S213', 'Stimulus/S214', 'Stimulus/S223']\n",
      "Not setting metadata\n",
      "1898 matching events found\n",
      "Setting baseline interval to [-0.2, 0.0] s\n",
      "Applying baseline correction (mode: mean)\n",
      "0 projection items activated\n",
      "Using data from preloaded Raw for 1898 events and 301 original time points ...\n",
      "1 bad epochs dropped\n",
      "Adding metadata with 2 columns\n",
      "✅ 1897 epochs × 16 ch × 301 samples\n",
      "💾 Saved to /kaggle/working/bbciRaw/VPocb_15_07_20/RSVP_login_dry_VPocb_epo_1200ms_250Hz.fif\n",
      "\n",
      "📥 Loading /kaggle/working/bbciRaw/VPjeg_15_07_20/RSVP_login_dry_VPjeg.vhdr (User: VPjeg, Date: 15_07_20)\n"
     ]
    },
    {
     "name": "stderr",
     "output_type": "stream",
     "text": [
      "/tmp/ipykernel_31/2598750780.py:63: RuntimeWarning: This filename (/kaggle/working/bbciRaw/VPocb_15_07_20/RSVP_login_dry_VPocb_epo_1200ms_250Hz.fif) does not conform to MNE naming conventions. All epochs files should end with -epo.fif, -epo.fif.gz, _epo.fif or _epo.fif.gz\n",
      "  epochs.save(out_fname, overwrite=True)\n"
     ]
    },
    {
     "name": "stdout",
     "output_type": "stream",
     "text": [
      "Filtering raw data in 1 contiguous segment\n",
      "Setting up band-pass filter from 1 - 40 Hz\n",
      "\n",
      "FIR filter parameters\n",
      "---------------------\n",
      "Designing a one-pass, zero-phase, non-causal bandpass filter:\n",
      "- Windowed time-domain design (firwin) method\n",
      "- Hamming window with 0.0194 passband ripple and 53 dB stopband attenuation\n",
      "- Lower passband edge: 1.00\n",
      "- Lower transition bandwidth: 1.00 Hz (-6 dB cutoff frequency: 0.50 Hz)\n",
      "- Upper passband edge: 40.00 Hz\n",
      "- Upper transition bandwidth: 10.00 Hz (-6 dB cutoff frequency: 45.00 Hz)\n",
      "- Filter length: 825 samples (3.300 s)\n",
      "\n",
      "Used Annotations descriptions: ['New Segment/', 'Stimulus/S  1', 'Stimulus/S  2', 'Stimulus/S  3', 'Stimulus/S  4', 'Stimulus/S  5', 'Stimulus/S  6', 'Stimulus/S  7', 'Stimulus/S  8', 'Stimulus/S  9', 'Stimulus/S 10', 'Stimulus/S 11', 'Stimulus/S 12', 'Stimulus/S 13', 'Stimulus/S 14', 'Stimulus/S 15', 'Stimulus/S 16', 'Stimulus/S 17', 'Stimulus/S 18', 'Stimulus/S 19', 'Stimulus/S 20', 'Stimulus/S 21', 'Stimulus/S 22', 'Stimulus/S 23', 'Stimulus/S 24', 'Stimulus/S 25', 'Stimulus/S101', 'Stimulus/S102', 'Stimulus/S121', 'Stimulus/S141', 'Stimulus/S142', 'Stimulus/S160', 'Stimulus/S169', 'Stimulus/S170', 'Stimulus/S171', 'Stimulus/S172', 'Stimulus/S173', 'Stimulus/S213', 'Stimulus/S214', 'Stimulus/S223']\n",
      "Not setting metadata\n",
      "1898 matching events found\n",
      "Setting baseline interval to [-0.2, 0.0] s\n",
      "Applying baseline correction (mode: mean)\n",
      "0 projection items activated\n",
      "Using data from preloaded Raw for 1898 events and 301 original time points ...\n",
      "1 bad epochs dropped\n",
      "Adding metadata with 2 columns\n",
      "✅ 1897 epochs × 16 ch × 301 samples\n",
      "💾 Saved to /kaggle/working/bbciRaw/VPjeg_15_07_20/RSVP_login_dry_VPjeg_epo_1200ms_250Hz.fif\n",
      "\n",
      "📥 Loading /kaggle/working/bbciRaw/VPer_15_05_22/RSVP_login_VPer.vhdr (User: VPer, Date: 15_05_22)\n"
     ]
    },
    {
     "name": "stderr",
     "output_type": "stream",
     "text": [
      "/tmp/ipykernel_31/2598750780.py:63: RuntimeWarning: This filename (/kaggle/working/bbciRaw/VPjeg_15_07_20/RSVP_login_dry_VPjeg_epo_1200ms_250Hz.fif) does not conform to MNE naming conventions. All epochs files should end with -epo.fif, -epo.fif.gz, _epo.fif or _epo.fif.gz\n",
      "  epochs.save(out_fname, overwrite=True)\n"
     ]
    },
    {
     "name": "stdout",
     "output_type": "stream",
     "text": [
      "Filtering raw data in 1 contiguous segment\n",
      "Setting up band-pass filter from 1 - 40 Hz\n",
      "\n",
      "FIR filter parameters\n",
      "---------------------\n",
      "Designing a one-pass, zero-phase, non-causal bandpass filter:\n",
      "- Windowed time-domain design (firwin) method\n",
      "- Hamming window with 0.0194 passband ripple and 53 dB stopband attenuation\n",
      "- Lower passband edge: 1.00\n",
      "- Lower transition bandwidth: 1.00 Hz (-6 dB cutoff frequency: 0.50 Hz)\n",
      "- Upper passband edge: 40.00 Hz\n",
      "- Upper transition bandwidth: 10.00 Hz (-6 dB cutoff frequency: 45.00 Hz)\n",
      "- Filter length: 825 samples (3.300 s)\n",
      "\n"
     ]
    },
    {
     "name": "stderr",
     "output_type": "stream",
     "text": [
      "[Parallel(n_jobs=1)]: Done  17 tasks      | elapsed:    0.4s\n"
     ]
    },
    {
     "name": "stdout",
     "output_type": "stream",
     "text": [
      "Used Annotations descriptions: ['New Segment/', 'Stimulus/S  1', 'Stimulus/S  2', 'Stimulus/S  3', 'Stimulus/S  4', 'Stimulus/S  5', 'Stimulus/S  6', 'Stimulus/S  7', 'Stimulus/S  8', 'Stimulus/S  9', 'Stimulus/S 10', 'Stimulus/S 11', 'Stimulus/S 12', 'Stimulus/S 13', 'Stimulus/S 14', 'Stimulus/S 15', 'Stimulus/S 16', 'Stimulus/S 17', 'Stimulus/S 18', 'Stimulus/S 19', 'Stimulus/S 20', 'Stimulus/S 21', 'Stimulus/S 22', 'Stimulus/S 23', 'Stimulus/S 24', 'Stimulus/S 25', 'Stimulus/S101', 'Stimulus/S102', 'Stimulus/S121', 'Stimulus/S141', 'Stimulus/S142', 'Stimulus/S181', 'Stimulus/S182', 'Stimulus/S191', 'Stimulus/S192', 'Stimulus/S201', 'Stimulus/S202', 'Stimulus/S203', 'Stimulus/S204', 'Stimulus/S205', 'Stimulus/S211', 'Stimulus/S212', 'Stimulus/S221', 'Stimulus/S222', 'Stimulus/S231', 'Stimulus/S232', 'Stimulus/S239']\n",
      "Not setting metadata\n",
      "3965 matching events found\n",
      "Setting baseline interval to [-0.2, 0.0] s\n",
      "Applying baseline correction (mode: mean)\n",
      "0 projection items activated\n",
      "Using data from preloaded Raw for 3965 events and 301 original time points ...\n",
      "1 bad epochs dropped\n",
      "Adding metadata with 2 columns\n",
      "✅ 3964 epochs × 32 ch × 301 samples\n"
     ]
    },
    {
     "name": "stderr",
     "output_type": "stream",
     "text": [
      "/tmp/ipykernel_31/2598750780.py:63: RuntimeWarning: This filename (/kaggle/working/bbciRaw/VPer_15_05_22/RSVP_login_VPer_epo_1200ms_250Hz.fif) does not conform to MNE naming conventions. All epochs files should end with -epo.fif, -epo.fif.gz, _epo.fif or _epo.fif.gz\n",
      "  epochs.save(out_fname, overwrite=True)\n"
     ]
    },
    {
     "name": "stdout",
     "output_type": "stream",
     "text": [
      "💾 Saved to /kaggle/working/bbciRaw/VPer_15_05_22/RSVP_login_VPer_epo_1200ms_250Hz.fif\n",
      "\n",
      "📥 Loading /kaggle/working/bbciRaw/VPth_15_05_27/RSVP_login_VPth.vhdr (User: VPth, Date: 15_05_27)\n",
      "Filtering raw data in 1 contiguous segment\n",
      "Setting up band-pass filter from 1 - 40 Hz\n",
      "\n",
      "FIR filter parameters\n",
      "---------------------\n",
      "Designing a one-pass, zero-phase, non-causal bandpass filter:\n",
      "- Windowed time-domain design (firwin) method\n",
      "- Hamming window with 0.0194 passband ripple and 53 dB stopband attenuation\n",
      "- Lower passband edge: 1.00\n",
      "- Lower transition bandwidth: 1.00 Hz (-6 dB cutoff frequency: 0.50 Hz)\n",
      "- Upper passband edge: 40.00 Hz\n",
      "- Upper transition bandwidth: 10.00 Hz (-6 dB cutoff frequency: 45.00 Hz)\n",
      "- Filter length: 825 samples (3.300 s)\n",
      "\n"
     ]
    },
    {
     "name": "stderr",
     "output_type": "stream",
     "text": [
      "[Parallel(n_jobs=1)]: Done  17 tasks      | elapsed:    0.3s\n"
     ]
    },
    {
     "name": "stdout",
     "output_type": "stream",
     "text": [
      "Used Annotations descriptions: ['New Segment/', 'Stimulus/S  1', 'Stimulus/S  2', 'Stimulus/S  3', 'Stimulus/S  4', 'Stimulus/S  5', 'Stimulus/S  6', 'Stimulus/S  7', 'Stimulus/S  8', 'Stimulus/S  9', 'Stimulus/S 10', 'Stimulus/S 11', 'Stimulus/S 12', 'Stimulus/S 13', 'Stimulus/S 14', 'Stimulus/S 15', 'Stimulus/S 16', 'Stimulus/S 17', 'Stimulus/S 18', 'Stimulus/S 19', 'Stimulus/S 20', 'Stimulus/S 21', 'Stimulus/S 22', 'Stimulus/S 23', 'Stimulus/S 24', 'Stimulus/S 25', 'Stimulus/S101', 'Stimulus/S102', 'Stimulus/S119', 'Stimulus/S121', 'Stimulus/S141', 'Stimulus/S142', 'Stimulus/S181', 'Stimulus/S182', 'Stimulus/S191', 'Stimulus/S192', 'Stimulus/S201', 'Stimulus/S202', 'Stimulus/S203', 'Stimulus/S204', 'Stimulus/S205', 'Stimulus/S211', 'Stimulus/S212', 'Stimulus/S221', 'Stimulus/S222', 'Stimulus/S231', 'Stimulus/S232']\n",
      "Multiple event values for single event times found. Creating new event value to reflect simultaneous events.\n",
      "Not setting metadata\n",
      "3963 matching events found\n",
      "Setting baseline interval to [-0.2, 0.0] s\n",
      "Applying baseline correction (mode: mean)\n",
      "0 projection items activated\n",
      "Using data from preloaded Raw for 3963 events and 301 original time points ...\n",
      "1 bad epochs dropped\n",
      "Adding metadata with 2 columns\n",
      "✅ 3962 epochs × 32 ch × 301 samples\n"
     ]
    },
    {
     "name": "stderr",
     "output_type": "stream",
     "text": [
      "/tmp/ipykernel_31/2598750780.py:63: RuntimeWarning: This filename (/kaggle/working/bbciRaw/VPth_15_05_27/RSVP_login_VPth_epo_1200ms_250Hz.fif) does not conform to MNE naming conventions. All epochs files should end with -epo.fif, -epo.fif.gz, _epo.fif or _epo.fif.gz\n",
      "  epochs.save(out_fname, overwrite=True)\n"
     ]
    },
    {
     "name": "stdout",
     "output_type": "stream",
     "text": [
      "💾 Saved to /kaggle/working/bbciRaw/VPth_15_05_27/RSVP_login_VPth_epo_1200ms_250Hz.fif\n",
      "\n",
      "📥 Loading /kaggle/working/bbciRaw/VPsn_15_07_20/RSVP_login_dry_VPsn.vhdr (User: VPsn, Date: 15_07_20)\n",
      "Filtering raw data in 1 contiguous segment\n",
      "Setting up band-pass filter from 1 - 40 Hz\n",
      "\n",
      "FIR filter parameters\n",
      "---------------------\n",
      "Designing a one-pass, zero-phase, non-causal bandpass filter:\n",
      "- Windowed time-domain design (firwin) method\n",
      "- Hamming window with 0.0194 passband ripple and 53 dB stopband attenuation\n",
      "- Lower passband edge: 1.00\n",
      "- Lower transition bandwidth: 1.00 Hz (-6 dB cutoff frequency: 0.50 Hz)\n",
      "- Upper passband edge: 40.00 Hz\n",
      "- Upper transition bandwidth: 10.00 Hz (-6 dB cutoff frequency: 45.00 Hz)\n",
      "- Filter length: 825 samples (3.300 s)\n",
      "\n",
      "Used Annotations descriptions: ['New Segment/', 'Stimulus/S  1', 'Stimulus/S  2', 'Stimulus/S  3', 'Stimulus/S  4', 'Stimulus/S  5', 'Stimulus/S  6', 'Stimulus/S  7', 'Stimulus/S  8', 'Stimulus/S  9', 'Stimulus/S 10', 'Stimulus/S 11', 'Stimulus/S 12', 'Stimulus/S 13', 'Stimulus/S 14', 'Stimulus/S 15', 'Stimulus/S 16', 'Stimulus/S 17', 'Stimulus/S 18', 'Stimulus/S 19', 'Stimulus/S 20', 'Stimulus/S 21', 'Stimulus/S 22', 'Stimulus/S 23', 'Stimulus/S 24', 'Stimulus/S 25', 'Stimulus/S101', 'Stimulus/S102', 'Stimulus/S121', 'Stimulus/S141', 'Stimulus/S142', 'Stimulus/S160', 'Stimulus/S169', 'Stimulus/S170', 'Stimulus/S171', 'Stimulus/S172', 'Stimulus/S173', 'Stimulus/S213', 'Stimulus/S214', 'Stimulus/S223']\n",
      "Not setting metadata\n",
      "1898 matching events found\n",
      "Setting baseline interval to [-0.2, 0.0] s\n",
      "Applying baseline correction (mode: mean)\n",
      "0 projection items activated\n",
      "Using data from preloaded Raw for 1898 events and 301 original time points ...\n",
      "2 bad epochs dropped\n",
      "Adding metadata with 2 columns\n",
      "✅ 1896 epochs × 16 ch × 301 samples\n",
      "💾 Saved to /kaggle/working/bbciRaw/VPsn_15_07_20/RSVP_login_dry_VPsn_epo_1200ms_250Hz.fif\n",
      "\n",
      "📥 Loading /kaggle/working/bbciRaw/VPbv_15_07_29/RSVP_login_dry_VPbv.vhdr (User: VPbv, Date: 15_07_29)\n"
     ]
    },
    {
     "name": "stderr",
     "output_type": "stream",
     "text": [
      "/tmp/ipykernel_31/2598750780.py:63: RuntimeWarning: This filename (/kaggle/working/bbciRaw/VPsn_15_07_20/RSVP_login_dry_VPsn_epo_1200ms_250Hz.fif) does not conform to MNE naming conventions. All epochs files should end with -epo.fif, -epo.fif.gz, _epo.fif or _epo.fif.gz\n",
      "  epochs.save(out_fname, overwrite=True)\n"
     ]
    },
    {
     "name": "stdout",
     "output_type": "stream",
     "text": [
      "Filtering raw data in 1 contiguous segment\n",
      "Setting up band-pass filter from 1 - 40 Hz\n",
      "\n",
      "FIR filter parameters\n",
      "---------------------\n",
      "Designing a one-pass, zero-phase, non-causal bandpass filter:\n",
      "- Windowed time-domain design (firwin) method\n",
      "- Hamming window with 0.0194 passband ripple and 53 dB stopband attenuation\n",
      "- Lower passband edge: 1.00\n",
      "- Lower transition bandwidth: 1.00 Hz (-6 dB cutoff frequency: 0.50 Hz)\n",
      "- Upper passband edge: 40.00 Hz\n",
      "- Upper transition bandwidth: 10.00 Hz (-6 dB cutoff frequency: 45.00 Hz)\n",
      "- Filter length: 825 samples (3.300 s)\n",
      "\n",
      "Used Annotations descriptions: ['New Segment/', 'Stimulus/S  1', 'Stimulus/S  2', 'Stimulus/S  3', 'Stimulus/S  4', 'Stimulus/S  5', 'Stimulus/S  6', 'Stimulus/S  7', 'Stimulus/S  8', 'Stimulus/S  9', 'Stimulus/S 10', 'Stimulus/S 11', 'Stimulus/S 12', 'Stimulus/S 13', 'Stimulus/S 14', 'Stimulus/S 15', 'Stimulus/S 16', 'Stimulus/S 17', 'Stimulus/S 18', 'Stimulus/S 19', 'Stimulus/S 20', 'Stimulus/S 21', 'Stimulus/S 22', 'Stimulus/S 23', 'Stimulus/S 24', 'Stimulus/S 25', 'Stimulus/S101', 'Stimulus/S102', 'Stimulus/S121', 'Stimulus/S141', 'Stimulus/S142', 'Stimulus/S160', 'Stimulus/S169', 'Stimulus/S170', 'Stimulus/S171', 'Stimulus/S172', 'Stimulus/S173', 'Stimulus/S213', 'Stimulus/S214', 'Stimulus/S223']\n",
      "Not setting metadata\n",
      "1898 matching events found\n",
      "Setting baseline interval to [-0.2, 0.0] s\n",
      "Applying baseline correction (mode: mean)\n",
      "0 projection items activated\n",
      "Using data from preloaded Raw for 1898 events and 301 original time points ...\n",
      "1 bad epochs dropped\n",
      "Adding metadata with 2 columns\n",
      "✅ 1897 epochs × 16 ch × 301 samples\n",
      "💾 Saved to /kaggle/working/bbciRaw/VPbv_15_07_29/RSVP_login_dry_VPbv_epo_1200ms_250Hz.fif\n",
      "\n",
      "📥 Loading /kaggle/working/bbciRaw/VPjak_15_07_20/RSVP_login_dry_VPjak.vhdr (User: VPjak, Date: 15_07_20)\n"
     ]
    },
    {
     "name": "stderr",
     "output_type": "stream",
     "text": [
      "/tmp/ipykernel_31/2598750780.py:63: RuntimeWarning: This filename (/kaggle/working/bbciRaw/VPbv_15_07_29/RSVP_login_dry_VPbv_epo_1200ms_250Hz.fif) does not conform to MNE naming conventions. All epochs files should end with -epo.fif, -epo.fif.gz, _epo.fif or _epo.fif.gz\n",
      "  epochs.save(out_fname, overwrite=True)\n"
     ]
    },
    {
     "name": "stdout",
     "output_type": "stream",
     "text": [
      "Filtering raw data in 1 contiguous segment\n",
      "Setting up band-pass filter from 1 - 40 Hz\n",
      "\n",
      "FIR filter parameters\n",
      "---------------------\n",
      "Designing a one-pass, zero-phase, non-causal bandpass filter:\n",
      "- Windowed time-domain design (firwin) method\n",
      "- Hamming window with 0.0194 passband ripple and 53 dB stopband attenuation\n",
      "- Lower passband edge: 1.00\n",
      "- Lower transition bandwidth: 1.00 Hz (-6 dB cutoff frequency: 0.50 Hz)\n",
      "- Upper passband edge: 40.00 Hz\n",
      "- Upper transition bandwidth: 10.00 Hz (-6 dB cutoff frequency: 45.00 Hz)\n",
      "- Filter length: 825 samples (3.300 s)\n",
      "\n",
      "Used Annotations descriptions: ['New Segment/', 'Stimulus/S  1', 'Stimulus/S  2', 'Stimulus/S  3', 'Stimulus/S  4', 'Stimulus/S  5', 'Stimulus/S  6', 'Stimulus/S  7', 'Stimulus/S  8', 'Stimulus/S  9', 'Stimulus/S 10', 'Stimulus/S 11', 'Stimulus/S 12', 'Stimulus/S 13', 'Stimulus/S 14', 'Stimulus/S 15', 'Stimulus/S 16', 'Stimulus/S 17', 'Stimulus/S 18', 'Stimulus/S 19', 'Stimulus/S 20', 'Stimulus/S 21', 'Stimulus/S 22', 'Stimulus/S 23', 'Stimulus/S 24', 'Stimulus/S 25', 'Stimulus/S101', 'Stimulus/S102', 'Stimulus/S121', 'Stimulus/S141', 'Stimulus/S142', 'Stimulus/S160', 'Stimulus/S169', 'Stimulus/S170', 'Stimulus/S171', 'Stimulus/S172', 'Stimulus/S173', 'Stimulus/S213', 'Stimulus/S214', 'Stimulus/S223']\n",
      "Not setting metadata\n",
      "1885 matching events found\n",
      "Setting baseline interval to [-0.2, 0.0] s\n",
      "Applying baseline correction (mode: mean)\n",
      "0 projection items activated\n",
      "Using data from preloaded Raw for 1885 events and 301 original time points ...\n",
      "1 bad epochs dropped\n",
      "Adding metadata with 2 columns\n",
      "✅ 1884 epochs × 16 ch × 301 samples\n",
      "💾 Saved to /kaggle/working/bbciRaw/VPjak_15_07_20/RSVP_login_dry_VPjak_epo_1200ms_250Hz.fif\n",
      "\n",
      "📥 Loading /kaggle/working/bbciRaw/VPvi_15_05_22/RSVP_login_VPvi.vhdr (User: VPvi, Date: 15_05_22)\n"
     ]
    },
    {
     "name": "stderr",
     "output_type": "stream",
     "text": [
      "/tmp/ipykernel_31/2598750780.py:63: RuntimeWarning: This filename (/kaggle/working/bbciRaw/VPjak_15_07_20/RSVP_login_dry_VPjak_epo_1200ms_250Hz.fif) does not conform to MNE naming conventions. All epochs files should end with -epo.fif, -epo.fif.gz, _epo.fif or _epo.fif.gz\n",
      "  epochs.save(out_fname, overwrite=True)\n"
     ]
    },
    {
     "name": "stdout",
     "output_type": "stream",
     "text": [
      "Filtering raw data in 1 contiguous segment\n",
      "Setting up band-pass filter from 1 - 40 Hz\n",
      "\n",
      "FIR filter parameters\n",
      "---------------------\n",
      "Designing a one-pass, zero-phase, non-causal bandpass filter:\n",
      "- Windowed time-domain design (firwin) method\n",
      "- Hamming window with 0.0194 passband ripple and 53 dB stopband attenuation\n",
      "- Lower passband edge: 1.00\n",
      "- Lower transition bandwidth: 1.00 Hz (-6 dB cutoff frequency: 0.50 Hz)\n",
      "- Upper passband edge: 40.00 Hz\n",
      "- Upper transition bandwidth: 10.00 Hz (-6 dB cutoff frequency: 45.00 Hz)\n",
      "- Filter length: 825 samples (3.300 s)\n",
      "\n"
     ]
    },
    {
     "name": "stderr",
     "output_type": "stream",
     "text": [
      "[Parallel(n_jobs=1)]: Done  17 tasks      | elapsed:    0.4s\n"
     ]
    },
    {
     "name": "stdout",
     "output_type": "stream",
     "text": [
      "Used Annotations descriptions: ['New Segment/', 'Stimulus/S  1', 'Stimulus/S  2', 'Stimulus/S  3', 'Stimulus/S  4', 'Stimulus/S  5', 'Stimulus/S  6', 'Stimulus/S  7', 'Stimulus/S  8', 'Stimulus/S  9', 'Stimulus/S 10', 'Stimulus/S 11', 'Stimulus/S 12', 'Stimulus/S 13', 'Stimulus/S 14', 'Stimulus/S 15', 'Stimulus/S 16', 'Stimulus/S 17', 'Stimulus/S 18', 'Stimulus/S 19', 'Stimulus/S 20', 'Stimulus/S 21', 'Stimulus/S 22', 'Stimulus/S 23', 'Stimulus/S 24', 'Stimulus/S 25', 'Stimulus/S101', 'Stimulus/S102', 'Stimulus/S121', 'Stimulus/S141', 'Stimulus/S142', 'Stimulus/S181', 'Stimulus/S182', 'Stimulus/S191', 'Stimulus/S192', 'Stimulus/S201', 'Stimulus/S202', 'Stimulus/S203', 'Stimulus/S204', 'Stimulus/S205', 'Stimulus/S211', 'Stimulus/S212', 'Stimulus/S221', 'Stimulus/S222', 'Stimulus/S231', 'Stimulus/S232', 'Stimulus/S239']\n",
      "Multiple event values for single event times found. Creating new event value to reflect simultaneous events.\n",
      "Not setting metadata\n",
      "3967 matching events found\n",
      "Setting baseline interval to [-0.2, 0.0] s\n",
      "Applying baseline correction (mode: mean)\n",
      "0 projection items activated\n",
      "Using data from preloaded Raw for 3967 events and 301 original time points ...\n",
      "1 bad epochs dropped\n",
      "Adding metadata with 2 columns\n",
      "✅ 3966 epochs × 32 ch × 301 samples\n"
     ]
    },
    {
     "name": "stderr",
     "output_type": "stream",
     "text": [
      "/tmp/ipykernel_31/2598750780.py:63: RuntimeWarning: This filename (/kaggle/working/bbciRaw/VPvi_15_05_22/RSVP_login_VPvi_epo_1200ms_250Hz.fif) does not conform to MNE naming conventions. All epochs files should end with -epo.fif, -epo.fif.gz, _epo.fif or _epo.fif.gz\n",
      "  epochs.save(out_fname, overwrite=True)\n"
     ]
    },
    {
     "name": "stdout",
     "output_type": "stream",
     "text": [
      "💾 Saved to /kaggle/working/bbciRaw/VPvi_15_05_22/RSVP_login_VPvi_epo_1200ms_250Hz.fif\n",
      "\n",
      "📥 Loading /kaggle/working/bbciRaw/VPjw_15_05_13/RSVP_login_VPjw.vhdr (User: VPjw, Date: 15_05_13)\n"
     ]
    },
    {
     "name": "stderr",
     "output_type": "stream",
     "text": [
      "/tmp/ipykernel_31/2598750780.py:24: RuntimeWarning: Online software filter detected. Using software filter settings and ignoring hardware values\n",
      "  raw = mne.io.read_raw_brainvision(vhdr, preload=True, verbose=False)\n"
     ]
    },
    {
     "name": "stdout",
     "output_type": "stream",
     "text": [
      "Filtering raw data in 1 contiguous segment\n",
      "Setting up band-pass filter from 1 - 40 Hz\n",
      "\n",
      "FIR filter parameters\n",
      "---------------------\n",
      "Designing a one-pass, zero-phase, non-causal bandpass filter:\n",
      "- Windowed time-domain design (firwin) method\n",
      "- Hamming window with 0.0194 passband ripple and 53 dB stopband attenuation\n",
      "- Lower passband edge: 1.00\n",
      "- Lower transition bandwidth: 1.00 Hz (-6 dB cutoff frequency: 0.50 Hz)\n",
      "- Upper passband edge: 40.00 Hz\n",
      "- Upper transition bandwidth: 10.00 Hz (-6 dB cutoff frequency: 45.00 Hz)\n",
      "- Filter length: 825 samples (3.300 s)\n",
      "\n"
     ]
    },
    {
     "name": "stderr",
     "output_type": "stream",
     "text": [
      "[Parallel(n_jobs=1)]: Done  17 tasks      | elapsed:    0.4s\n"
     ]
    },
    {
     "name": "stdout",
     "output_type": "stream",
     "text": [
      "Used Annotations descriptions: ['New Segment/', 'Stimulus/S  1', 'Stimulus/S  2', 'Stimulus/S  3', 'Stimulus/S  4', 'Stimulus/S  5', 'Stimulus/S  6', 'Stimulus/S  7', 'Stimulus/S  8', 'Stimulus/S  9', 'Stimulus/S 10', 'Stimulus/S 11', 'Stimulus/S 12', 'Stimulus/S 13', 'Stimulus/S 14', 'Stimulus/S 15', 'Stimulus/S 16', 'Stimulus/S 17', 'Stimulus/S 18', 'Stimulus/S 19', 'Stimulus/S 20', 'Stimulus/S 21', 'Stimulus/S 22', 'Stimulus/S 23', 'Stimulus/S 24', 'Stimulus/S 25', 'Stimulus/S101', 'Stimulus/S102', 'Stimulus/S110', 'Stimulus/S111', 'Stimulus/S119', 'Stimulus/S121', 'Stimulus/S141', 'Stimulus/S142', 'Stimulus/S181', 'Stimulus/S182', 'Stimulus/S191', 'Stimulus/S192', 'Stimulus/S201', 'Stimulus/S202', 'Stimulus/S203', 'Stimulus/S204', 'Stimulus/S205', 'Stimulus/S211', 'Stimulus/S212', 'Stimulus/S221', 'Stimulus/S222', 'Stimulus/S231', 'Stimulus/S232', 'Stimulus/S239']\n",
      "Multiple event values for single event times found. Creating new event value to reflect simultaneous events.\n",
      "Not setting metadata\n",
      "3918 matching events found\n",
      "Setting baseline interval to [-0.2, 0.0] s\n",
      "Applying baseline correction (mode: mean)\n",
      "0 projection items activated\n",
      "Using data from preloaded Raw for 3918 events and 301 original time points ...\n",
      "1 bad epochs dropped\n",
      "Adding metadata with 2 columns\n",
      "✅ 3917 epochs × 32 ch × 301 samples\n"
     ]
    },
    {
     "name": "stderr",
     "output_type": "stream",
     "text": [
      "/tmp/ipykernel_31/2598750780.py:63: RuntimeWarning: This filename (/kaggle/working/bbciRaw/VPjw_15_05_13/RSVP_login_VPjw_epo_1200ms_250Hz.fif) does not conform to MNE naming conventions. All epochs files should end with -epo.fif, -epo.fif.gz, _epo.fif or _epo.fif.gz\n",
      "  epochs.save(out_fname, overwrite=True)\n"
     ]
    },
    {
     "name": "stdout",
     "output_type": "stream",
     "text": [
      "💾 Saved to /kaggle/working/bbciRaw/VPjw_15_05_13/RSVP_login_VPjw_epo_1200ms_250Hz.fif\n",
      "\n",
      "📥 Loading /kaggle/working/bbciRaw/VPmg_15_07_29/RSVP_login_dry_VPmg.vhdr (User: VPmg, Date: 15_07_29)\n",
      "Filtering raw data in 1 contiguous segment\n",
      "Setting up band-pass filter from 1 - 40 Hz\n",
      "\n",
      "FIR filter parameters\n",
      "---------------------\n",
      "Designing a one-pass, zero-phase, non-causal bandpass filter:\n",
      "- Windowed time-domain design (firwin) method\n",
      "- Hamming window with 0.0194 passband ripple and 53 dB stopband attenuation\n",
      "- Lower passband edge: 1.00\n",
      "- Lower transition bandwidth: 1.00 Hz (-6 dB cutoff frequency: 0.50 Hz)\n",
      "- Upper passband edge: 40.00 Hz\n",
      "- Upper transition bandwidth: 10.00 Hz (-6 dB cutoff frequency: 45.00 Hz)\n",
      "- Filter length: 825 samples (3.300 s)\n",
      "\n",
      "Used Annotations descriptions: ['New Segment/', 'Stimulus/S  1', 'Stimulus/S  2', 'Stimulus/S  3', 'Stimulus/S  4', 'Stimulus/S  5', 'Stimulus/S  6', 'Stimulus/S  7', 'Stimulus/S  8', 'Stimulus/S  9', 'Stimulus/S 10', 'Stimulus/S 11', 'Stimulus/S 12', 'Stimulus/S 13', 'Stimulus/S 14', 'Stimulus/S 15', 'Stimulus/S 16', 'Stimulus/S 17', 'Stimulus/S 18', 'Stimulus/S 19', 'Stimulus/S 20', 'Stimulus/S 21', 'Stimulus/S 22', 'Stimulus/S 23', 'Stimulus/S 24', 'Stimulus/S 25', 'Stimulus/S101', 'Stimulus/S102', 'Stimulus/S121', 'Stimulus/S141', 'Stimulus/S142', 'Stimulus/S160', 'Stimulus/S169', 'Stimulus/S170', 'Stimulus/S171', 'Stimulus/S172', 'Stimulus/S173', 'Stimulus/S213', 'Stimulus/S214', 'Stimulus/S223']\n",
      "Not setting metadata\n",
      "2119 matching events found\n",
      "Setting baseline interval to [-0.2, 0.0] s\n",
      "Applying baseline correction (mode: mean)\n",
      "0 projection items activated\n",
      "Using data from preloaded Raw for 2119 events and 301 original time points ...\n",
      "6 bad epochs dropped\n",
      "Adding metadata with 2 columns\n",
      "✅ 2113 epochs × 16 ch × 301 samples\n",
      "💾 Saved to /kaggle/working/bbciRaw/VPmg_15_07_29/RSVP_login_dry_VPmg_epo_1200ms_250Hz.fif\n",
      "\n",
      "📥 Loading /kaggle/working/bbciRaw/VPlh_15_05_21/RSVP_login_VPlh.vhdr (User: VPlh, Date: 15_05_21)\n"
     ]
    },
    {
     "name": "stderr",
     "output_type": "stream",
     "text": [
      "/tmp/ipykernel_31/2598750780.py:63: RuntimeWarning: This filename (/kaggle/working/bbciRaw/VPmg_15_07_29/RSVP_login_dry_VPmg_epo_1200ms_250Hz.fif) does not conform to MNE naming conventions. All epochs files should end with -epo.fif, -epo.fif.gz, _epo.fif or _epo.fif.gz\n",
      "  epochs.save(out_fname, overwrite=True)\n"
     ]
    },
    {
     "name": "stdout",
     "output_type": "stream",
     "text": [
      "Filtering raw data in 1 contiguous segment\n",
      "Setting up band-pass filter from 1 - 40 Hz\n",
      "\n",
      "FIR filter parameters\n",
      "---------------------\n",
      "Designing a one-pass, zero-phase, non-causal bandpass filter:\n",
      "- Windowed time-domain design (firwin) method\n",
      "- Hamming window with 0.0194 passband ripple and 53 dB stopband attenuation\n",
      "- Lower passband edge: 1.00\n",
      "- Lower transition bandwidth: 1.00 Hz (-6 dB cutoff frequency: 0.50 Hz)\n",
      "- Upper passband edge: 40.00 Hz\n",
      "- Upper transition bandwidth: 10.00 Hz (-6 dB cutoff frequency: 45.00 Hz)\n",
      "- Filter length: 825 samples (3.300 s)\n",
      "\n"
     ]
    },
    {
     "name": "stderr",
     "output_type": "stream",
     "text": [
      "[Parallel(n_jobs=1)]: Done  17 tasks      | elapsed:    0.3s\n"
     ]
    },
    {
     "name": "stdout",
     "output_type": "stream",
     "text": [
      "Used Annotations descriptions: ['New Segment/', 'Stimulus/S  1', 'Stimulus/S  2', 'Stimulus/S  3', 'Stimulus/S  4', 'Stimulus/S  5', 'Stimulus/S  6', 'Stimulus/S  7', 'Stimulus/S  8', 'Stimulus/S  9', 'Stimulus/S 10', 'Stimulus/S 11', 'Stimulus/S 12', 'Stimulus/S 13', 'Stimulus/S 14', 'Stimulus/S 15', 'Stimulus/S 16', 'Stimulus/S 17', 'Stimulus/S 18', 'Stimulus/S 19', 'Stimulus/S 20', 'Stimulus/S 21', 'Stimulus/S 22', 'Stimulus/S 23', 'Stimulus/S 24', 'Stimulus/S 25', 'Stimulus/S101', 'Stimulus/S102', 'Stimulus/S121', 'Stimulus/S141', 'Stimulus/S142', 'Stimulus/S181', 'Stimulus/S182', 'Stimulus/S191', 'Stimulus/S192', 'Stimulus/S201', 'Stimulus/S202', 'Stimulus/S203', 'Stimulus/S204', 'Stimulus/S205', 'Stimulus/S211', 'Stimulus/S212', 'Stimulus/S221', 'Stimulus/S222', 'Stimulus/S231', 'Stimulus/S232', 'Stimulus/S239']\n",
      "Multiple event values for single event times found. Creating new event value to reflect simultaneous events.\n",
      "Not setting metadata\n",
      "3963 matching events found\n",
      "Setting baseline interval to [-0.2, 0.0] s\n",
      "Applying baseline correction (mode: mean)\n",
      "0 projection items activated\n",
      "Using data from preloaded Raw for 3963 events and 301 original time points ...\n",
      "1 bad epochs dropped\n",
      "Adding metadata with 2 columns\n",
      "✅ 3962 epochs × 32 ch × 301 samples\n"
     ]
    },
    {
     "name": "stderr",
     "output_type": "stream",
     "text": [
      "/tmp/ipykernel_31/2598750780.py:63: RuntimeWarning: This filename (/kaggle/working/bbciRaw/VPlh_15_05_21/RSVP_login_VPlh_epo_1200ms_250Hz.fif) does not conform to MNE naming conventions. All epochs files should end with -epo.fif, -epo.fif.gz, _epo.fif or _epo.fif.gz\n",
      "  epochs.save(out_fname, overwrite=True)\n"
     ]
    },
    {
     "name": "stdout",
     "output_type": "stream",
     "text": [
      "💾 Saved to /kaggle/working/bbciRaw/VPlh_15_05_21/RSVP_login_VPlh_epo_1200ms_250Hz.fif\n",
      "\n",
      "📥 Loading /kaggle/working/bbciRaw/VPrsv_15_07_20/RSVP_login_dry_VPrsv.vhdr (User: VPrsv, Date: 15_07_20)\n",
      "Filtering raw data in 1 contiguous segment\n",
      "Setting up band-pass filter from 1 - 40 Hz\n",
      "\n",
      "FIR filter parameters\n",
      "---------------------\n",
      "Designing a one-pass, zero-phase, non-causal bandpass filter:\n",
      "- Windowed time-domain design (firwin) method\n",
      "- Hamming window with 0.0194 passband ripple and 53 dB stopband attenuation\n",
      "- Lower passband edge: 1.00\n",
      "- Lower transition bandwidth: 1.00 Hz (-6 dB cutoff frequency: 0.50 Hz)\n",
      "- Upper passband edge: 40.00 Hz\n",
      "- Upper transition bandwidth: 10.00 Hz (-6 dB cutoff frequency: 45.00 Hz)\n",
      "- Filter length: 825 samples (3.300 s)\n",
      "\n",
      "Used Annotations descriptions: ['New Segment/', 'Stimulus/S  1', 'Stimulus/S  2', 'Stimulus/S  3', 'Stimulus/S  4', 'Stimulus/S  5', 'Stimulus/S  6', 'Stimulus/S  7', 'Stimulus/S  8', 'Stimulus/S  9', 'Stimulus/S 10', 'Stimulus/S 11', 'Stimulus/S 12', 'Stimulus/S 13', 'Stimulus/S 14', 'Stimulus/S 15', 'Stimulus/S 16', 'Stimulus/S 17', 'Stimulus/S 18', 'Stimulus/S 19', 'Stimulus/S 20', 'Stimulus/S 21', 'Stimulus/S 22', 'Stimulus/S 23', 'Stimulus/S 24', 'Stimulus/S 25', 'Stimulus/S101', 'Stimulus/S102', 'Stimulus/S121', 'Stimulus/S141', 'Stimulus/S142', 'Stimulus/S160', 'Stimulus/S169', 'Stimulus/S170', 'Stimulus/S171', 'Stimulus/S173', 'Stimulus/S213', 'Stimulus/S214', 'Stimulus/S223']\n",
      "Not setting metadata\n",
      "1898 matching events found\n",
      "Setting baseline interval to [-0.2, 0.0] s\n",
      "Applying baseline correction (mode: mean)\n",
      "0 projection items activated\n",
      "Using data from preloaded Raw for 1898 events and 301 original time points ...\n",
      "1 bad epochs dropped\n",
      "Adding metadata with 2 columns\n",
      "✅ 1897 epochs × 16 ch × 301 samples\n",
      "💾 Saved to /kaggle/working/bbciRaw/VPrsv_15_07_20/RSVP_login_dry_VPrsv_epo_1200ms_250Hz.fif\n",
      "\n",
      "📥 Loading /kaggle/working/bbciRaw/VPfat_15_07_21/RSVP_login_dry_VPfat.vhdr (User: VPfat, Date: 15_07_21)\n"
     ]
    },
    {
     "name": "stderr",
     "output_type": "stream",
     "text": [
      "/tmp/ipykernel_31/2598750780.py:63: RuntimeWarning: This filename (/kaggle/working/bbciRaw/VPrsv_15_07_20/RSVP_login_dry_VPrsv_epo_1200ms_250Hz.fif) does not conform to MNE naming conventions. All epochs files should end with -epo.fif, -epo.fif.gz, _epo.fif or _epo.fif.gz\n",
      "  epochs.save(out_fname, overwrite=True)\n"
     ]
    },
    {
     "name": "stdout",
     "output_type": "stream",
     "text": [
      "Filtering raw data in 1 contiguous segment\n",
      "Setting up band-pass filter from 1 - 40 Hz\n",
      "\n",
      "FIR filter parameters\n",
      "---------------------\n",
      "Designing a one-pass, zero-phase, non-causal bandpass filter:\n",
      "- Windowed time-domain design (firwin) method\n",
      "- Hamming window with 0.0194 passband ripple and 53 dB stopband attenuation\n",
      "- Lower passband edge: 1.00\n",
      "- Lower transition bandwidth: 1.00 Hz (-6 dB cutoff frequency: 0.50 Hz)\n",
      "- Upper passband edge: 40.00 Hz\n",
      "- Upper transition bandwidth: 10.00 Hz (-6 dB cutoff frequency: 45.00 Hz)\n",
      "- Filter length: 825 samples (3.300 s)\n",
      "\n",
      "Used Annotations descriptions: ['New Segment/', 'Stimulus/S  1', 'Stimulus/S  2', 'Stimulus/S  3', 'Stimulus/S  4', 'Stimulus/S  5', 'Stimulus/S  6', 'Stimulus/S  7', 'Stimulus/S  8', 'Stimulus/S  9', 'Stimulus/S 10', 'Stimulus/S 11', 'Stimulus/S 12', 'Stimulus/S 13', 'Stimulus/S 14', 'Stimulus/S 15', 'Stimulus/S 16', 'Stimulus/S 17', 'Stimulus/S 18', 'Stimulus/S 19', 'Stimulus/S 20', 'Stimulus/S 21', 'Stimulus/S 22', 'Stimulus/S 23', 'Stimulus/S 24', 'Stimulus/S 25', 'Stimulus/S101', 'Stimulus/S102', 'Stimulus/S121', 'Stimulus/S141', 'Stimulus/S142', 'Stimulus/S160', 'Stimulus/S169', 'Stimulus/S170', 'Stimulus/S171', 'Stimulus/S172', 'Stimulus/S173', 'Stimulus/S213', 'Stimulus/S214', 'Stimulus/S223']\n",
      "Not setting metadata\n",
      "1898 matching events found\n",
      "Setting baseline interval to [-0.2, 0.0] s\n",
      "Applying baseline correction (mode: mean)\n",
      "0 projection items activated\n",
      "Using data from preloaded Raw for 1898 events and 301 original time points ...\n",
      "1 bad epochs dropped\n",
      "Adding metadata with 2 columns\n",
      "✅ 1897 epochs × 16 ch × 301 samples\n",
      "💾 Saved to /kaggle/working/bbciRaw/VPfat_15_07_21/RSVP_login_dry_VPfat_epo_1200ms_250Hz.fif\n",
      "\n",
      "📥 Loading /kaggle/working/bbciRaw/VPsk_15_05_30/RSVP_login_VPsk.vhdr (User: VPsk, Date: 15_05_30)\n"
     ]
    },
    {
     "name": "stderr",
     "output_type": "stream",
     "text": [
      "/tmp/ipykernel_31/2598750780.py:63: RuntimeWarning: This filename (/kaggle/working/bbciRaw/VPfat_15_07_21/RSVP_login_dry_VPfat_epo_1200ms_250Hz.fif) does not conform to MNE naming conventions. All epochs files should end with -epo.fif, -epo.fif.gz, _epo.fif or _epo.fif.gz\n",
      "  epochs.save(out_fname, overwrite=True)\n",
      "/tmp/ipykernel_31/2598750780.py:24: RuntimeWarning: Online software filter detected. Using software filter settings and ignoring hardware values\n",
      "  raw = mne.io.read_raw_brainvision(vhdr, preload=True, verbose=False)\n"
     ]
    },
    {
     "name": "stdout",
     "output_type": "stream",
     "text": [
      "Filtering raw data in 1 contiguous segment\n",
      "Setting up band-pass filter from 1 - 40 Hz\n",
      "\n",
      "FIR filter parameters\n",
      "---------------------\n",
      "Designing a one-pass, zero-phase, non-causal bandpass filter:\n",
      "- Windowed time-domain design (firwin) method\n",
      "- Hamming window with 0.0194 passband ripple and 53 dB stopband attenuation\n",
      "- Lower passband edge: 1.00\n",
      "- Lower transition bandwidth: 1.00 Hz (-6 dB cutoff frequency: 0.50 Hz)\n",
      "- Upper passband edge: 40.00 Hz\n",
      "- Upper transition bandwidth: 10.00 Hz (-6 dB cutoff frequency: 45.00 Hz)\n",
      "- Filter length: 825 samples (3.300 s)\n",
      "\n"
     ]
    },
    {
     "name": "stderr",
     "output_type": "stream",
     "text": [
      "[Parallel(n_jobs=1)]: Done  17 tasks      | elapsed:    0.4s\n"
     ]
    },
    {
     "name": "stdout",
     "output_type": "stream",
     "text": [
      "Used Annotations descriptions: ['New Segment/', 'Stimulus/S  1', 'Stimulus/S  2', 'Stimulus/S  3', 'Stimulus/S  4', 'Stimulus/S  5', 'Stimulus/S  6', 'Stimulus/S  7', 'Stimulus/S  8', 'Stimulus/S  9', 'Stimulus/S 10', 'Stimulus/S 11', 'Stimulus/S 12', 'Stimulus/S 13', 'Stimulus/S 14', 'Stimulus/S 15', 'Stimulus/S 16', 'Stimulus/S 17', 'Stimulus/S 18', 'Stimulus/S 19', 'Stimulus/S 20', 'Stimulus/S 21', 'Stimulus/S 22', 'Stimulus/S 23', 'Stimulus/S 24', 'Stimulus/S 25', 'Stimulus/S101', 'Stimulus/S102', 'Stimulus/S121', 'Stimulus/S141', 'Stimulus/S142', 'Stimulus/S181', 'Stimulus/S182', 'Stimulus/S191', 'Stimulus/S192', 'Stimulus/S201', 'Stimulus/S202', 'Stimulus/S203', 'Stimulus/S204', 'Stimulus/S205', 'Stimulus/S211', 'Stimulus/S212', 'Stimulus/S221', 'Stimulus/S222', 'Stimulus/S231', 'Stimulus/S232', 'Stimulus/S239']\n",
      "Multiple event values for single event times found. Creating new event value to reflect simultaneous events.\n",
      "Not setting metadata\n",
      "3964 matching events found\n",
      "Setting baseline interval to [-0.2, 0.0] s\n",
      "Applying baseline correction (mode: mean)\n",
      "0 projection items activated\n",
      "Using data from preloaded Raw for 3964 events and 301 original time points ...\n",
      "1 bad epochs dropped\n",
      "Adding metadata with 2 columns\n",
      "✅ 3963 epochs × 32 ch × 301 samples\n"
     ]
    },
    {
     "name": "stderr",
     "output_type": "stream",
     "text": [
      "/tmp/ipykernel_31/2598750780.py:63: RuntimeWarning: This filename (/kaggle/working/bbciRaw/VPsk_15_05_30/RSVP_login_VPsk_epo_1200ms_250Hz.fif) does not conform to MNE naming conventions. All epochs files should end with -epo.fif, -epo.fif.gz, _epo.fif or _epo.fif.gz\n",
      "  epochs.save(out_fname, overwrite=True)\n"
     ]
    },
    {
     "name": "stdout",
     "output_type": "stream",
     "text": [
      "💾 Saved to /kaggle/working/bbciRaw/VPsk_15_05_30/RSVP_login_VPsk_epo_1200ms_250Hz.fif\n",
      "\n",
      "📥 Loading /kaggle/working/bbciRaw/VPjys_15_07_29/RSVP_login_dry_VPjys.vhdr (User: VPjys, Date: 15_07_29)\n",
      "Filtering raw data in 1 contiguous segment\n",
      "Setting up band-pass filter from 1 - 40 Hz\n",
      "\n",
      "FIR filter parameters\n",
      "---------------------\n",
      "Designing a one-pass, zero-phase, non-causal bandpass filter:\n",
      "- Windowed time-domain design (firwin) method\n",
      "- Hamming window with 0.0194 passband ripple and 53 dB stopband attenuation\n",
      "- Lower passband edge: 1.00\n",
      "- Lower transition bandwidth: 1.00 Hz (-6 dB cutoff frequency: 0.50 Hz)\n",
      "- Upper passband edge: 40.00 Hz\n",
      "- Upper transition bandwidth: 10.00 Hz (-6 dB cutoff frequency: 45.00 Hz)\n",
      "- Filter length: 825 samples (3.300 s)\n",
      "\n",
      "Used Annotations descriptions: ['New Segment/', 'Stimulus/S  1', 'Stimulus/S  2', 'Stimulus/S  3', 'Stimulus/S  4', 'Stimulus/S  5', 'Stimulus/S  6', 'Stimulus/S  7', 'Stimulus/S  8', 'Stimulus/S  9', 'Stimulus/S 10', 'Stimulus/S 11', 'Stimulus/S 12', 'Stimulus/S 13', 'Stimulus/S 14', 'Stimulus/S 15', 'Stimulus/S 16', 'Stimulus/S 17', 'Stimulus/S 18', 'Stimulus/S 19', 'Stimulus/S 20', 'Stimulus/S 21', 'Stimulus/S 22', 'Stimulus/S 23', 'Stimulus/S 24', 'Stimulus/S 25', 'Stimulus/S101', 'Stimulus/S102', 'Stimulus/S121', 'Stimulus/S141', 'Stimulus/S142', 'Stimulus/S160', 'Stimulus/S169', 'Stimulus/S170', 'Stimulus/S171', 'Stimulus/S172', 'Stimulus/S173', 'Stimulus/S213', 'Stimulus/S214', 'Stimulus/S223']\n",
      "Not setting metadata\n",
      "1898 matching events found\n",
      "Setting baseline interval to [-0.2, 0.0] s\n",
      "Applying baseline correction (mode: mean)\n",
      "0 projection items activated\n",
      "Using data from preloaded Raw for 1898 events and 301 original time points ...\n",
      "1 bad epochs dropped\n",
      "Adding metadata with 2 columns\n",
      "✅ 1897 epochs × 16 ch × 301 samples\n",
      "💾 Saved to /kaggle/working/bbciRaw/VPjys_15_07_29/RSVP_login_dry_VPjys_epo_1200ms_250Hz.fif\n",
      "\n",
      "📥 Loading /kaggle/working/bbciRaw/VPhw_15_05_23/RSVP_login_VPhw.vhdr (User: VPhw, Date: 15_05_23)\n"
     ]
    },
    {
     "name": "stderr",
     "output_type": "stream",
     "text": [
      "/tmp/ipykernel_31/2598750780.py:63: RuntimeWarning: This filename (/kaggle/working/bbciRaw/VPjys_15_07_29/RSVP_login_dry_VPjys_epo_1200ms_250Hz.fif) does not conform to MNE naming conventions. All epochs files should end with -epo.fif, -epo.fif.gz, _epo.fif or _epo.fif.gz\n",
      "  epochs.save(out_fname, overwrite=True)\n"
     ]
    },
    {
     "name": "stdout",
     "output_type": "stream",
     "text": [
      "Filtering raw data in 1 contiguous segment\n",
      "Setting up band-pass filter from 1 - 40 Hz\n",
      "\n",
      "FIR filter parameters\n",
      "---------------------\n",
      "Designing a one-pass, zero-phase, non-causal bandpass filter:\n",
      "- Windowed time-domain design (firwin) method\n",
      "- Hamming window with 0.0194 passband ripple and 53 dB stopband attenuation\n",
      "- Lower passband edge: 1.00\n",
      "- Lower transition bandwidth: 1.00 Hz (-6 dB cutoff frequency: 0.50 Hz)\n",
      "- Upper passband edge: 40.00 Hz\n",
      "- Upper transition bandwidth: 10.00 Hz (-6 dB cutoff frequency: 45.00 Hz)\n",
      "- Filter length: 825 samples (3.300 s)\n",
      "\n"
     ]
    },
    {
     "name": "stderr",
     "output_type": "stream",
     "text": [
      "[Parallel(n_jobs=1)]: Done  17 tasks      | elapsed:    0.3s\n"
     ]
    },
    {
     "name": "stdout",
     "output_type": "stream",
     "text": [
      "Used Annotations descriptions: ['New Segment/', 'Stimulus/S  1', 'Stimulus/S  2', 'Stimulus/S  3', 'Stimulus/S  4', 'Stimulus/S  5', 'Stimulus/S  6', 'Stimulus/S  7', 'Stimulus/S  8', 'Stimulus/S  9', 'Stimulus/S 10', 'Stimulus/S 11', 'Stimulus/S 12', 'Stimulus/S 13', 'Stimulus/S 14', 'Stimulus/S 15', 'Stimulus/S 16', 'Stimulus/S 17', 'Stimulus/S 18', 'Stimulus/S 19', 'Stimulus/S 20', 'Stimulus/S 21', 'Stimulus/S 22', 'Stimulus/S 23', 'Stimulus/S 24', 'Stimulus/S 25', 'Stimulus/S101', 'Stimulus/S102', 'Stimulus/S121', 'Stimulus/S141', 'Stimulus/S142', 'Stimulus/S181', 'Stimulus/S182', 'Stimulus/S191', 'Stimulus/S192', 'Stimulus/S201', 'Stimulus/S202', 'Stimulus/S203', 'Stimulus/S204', 'Stimulus/S205', 'Stimulus/S211', 'Stimulus/S212', 'Stimulus/S221', 'Stimulus/S222', 'Stimulus/S231', 'Stimulus/S232', 'Stimulus/S239']\n",
      "Multiple event values for single event times found. Creating new event value to reflect simultaneous events.\n",
      "Not setting metadata\n",
      "3966 matching events found\n",
      "Setting baseline interval to [-0.2, 0.0] s\n",
      "Applying baseline correction (mode: mean)\n",
      "0 projection items activated\n",
      "Using data from preloaded Raw for 3966 events and 301 original time points ...\n",
      "1 bad epochs dropped\n",
      "Adding metadata with 2 columns\n",
      "✅ 3965 epochs × 32 ch × 301 samples\n"
     ]
    },
    {
     "name": "stderr",
     "output_type": "stream",
     "text": [
      "/tmp/ipykernel_31/2598750780.py:63: RuntimeWarning: This filename (/kaggle/working/bbciRaw/VPhw_15_05_23/RSVP_login_VPhw_epo_1200ms_250Hz.fif) does not conform to MNE naming conventions. All epochs files should end with -epo.fif, -epo.fif.gz, _epo.fif or _epo.fif.gz\n",
      "  epochs.save(out_fname, overwrite=True)\n"
     ]
    },
    {
     "name": "stdout",
     "output_type": "stream",
     "text": [
      "💾 Saved to /kaggle/working/bbciRaw/VPhw_15_05_23/RSVP_login_VPhw_epo_1200ms_250Hz.fif\n",
      "\n",
      "📥 Loading /kaggle/working/bbciRaw/VPhw_15_05_23/hyungwon1.vhdr (User: VPhw, Date: 15_05_23)\n",
      "Filtering raw data in 1 contiguous segment\n",
      "Setting up band-pass filter from 1 - 40 Hz\n",
      "\n",
      "FIR filter parameters\n",
      "---------------------\n",
      "Designing a one-pass, zero-phase, non-causal bandpass filter:\n",
      "- Windowed time-domain design (firwin) method\n",
      "- Hamming window with 0.0194 passband ripple and 53 dB stopband attenuation\n",
      "- Lower passband edge: 1.00\n",
      "- Lower transition bandwidth: 1.00 Hz (-6 dB cutoff frequency: 0.50 Hz)\n",
      "- Upper passband edge: 40.00 Hz\n",
      "- Upper transition bandwidth: 10.00 Hz (-6 dB cutoff frequency: 45.00 Hz)\n",
      "- Filter length: 825 samples (3.300 s)\n",
      "\n",
      "Used Annotations descriptions: ['New Segment/', 'Stimulus/S 11', 'Stimulus/S 12', 'Stimulus/S 13', 'Stimulus/S 21', 'Stimulus/S 22', 'Stimulus/S 23']\n",
      "Not setting metadata\n",
      "241 matching events found\n",
      "Setting baseline interval to [-0.2, 0.0] s\n",
      "Applying baseline correction (mode: mean)\n",
      "0 projection items activated\n",
      "Using data from preloaded Raw for 241 events and 301 original time points ...\n"
     ]
    },
    {
     "name": "stderr",
     "output_type": "stream",
     "text": [
      "[Parallel(n_jobs=1)]: Done  17 tasks      | elapsed:    0.1s\n"
     ]
    },
    {
     "name": "stdout",
     "output_type": "stream",
     "text": [
      "1 bad epochs dropped\n",
      "Adding metadata with 2 columns\n",
      "✅ 240 epochs × 32 ch × 301 samples\n",
      "💾 Saved to /kaggle/working/bbciRaw/VPhw_15_05_23/hyungwon1_epo_1200ms_250Hz.fif\n",
      "\n",
      "📥 Loading /kaggle/working/bbciRaw/VPeal_15_05_15/RSVP_login_VPeal.vhdr (User: VPeal, Date: 15_05_15)\n"
     ]
    },
    {
     "name": "stderr",
     "output_type": "stream",
     "text": [
      "/tmp/ipykernel_31/2598750780.py:63: RuntimeWarning: This filename (/kaggle/working/bbciRaw/VPhw_15_05_23/hyungwon1_epo_1200ms_250Hz.fif) does not conform to MNE naming conventions. All epochs files should end with -epo.fif, -epo.fif.gz, _epo.fif or _epo.fif.gz\n",
      "  epochs.save(out_fname, overwrite=True)\n",
      "/tmp/ipykernel_31/2598750780.py:24: RuntimeWarning: Online software filter detected. Using software filter settings and ignoring hardware values\n",
      "  raw = mne.io.read_raw_brainvision(vhdr, preload=True, verbose=False)\n"
     ]
    },
    {
     "name": "stdout",
     "output_type": "stream",
     "text": [
      "Filtering raw data in 1 contiguous segment\n",
      "Setting up band-pass filter from 1 - 40 Hz\n",
      "\n",
      "FIR filter parameters\n",
      "---------------------\n",
      "Designing a one-pass, zero-phase, non-causal bandpass filter:\n",
      "- Windowed time-domain design (firwin) method\n",
      "- Hamming window with 0.0194 passband ripple and 53 dB stopband attenuation\n",
      "- Lower passband edge: 1.00\n",
      "- Lower transition bandwidth: 1.00 Hz (-6 dB cutoff frequency: 0.50 Hz)\n",
      "- Upper passband edge: 40.00 Hz\n",
      "- Upper transition bandwidth: 10.00 Hz (-6 dB cutoff frequency: 45.00 Hz)\n",
      "- Filter length: 825 samples (3.300 s)\n",
      "\n"
     ]
    },
    {
     "name": "stderr",
     "output_type": "stream",
     "text": [
      "[Parallel(n_jobs=1)]: Done  17 tasks      | elapsed:    0.3s\n"
     ]
    },
    {
     "name": "stdout",
     "output_type": "stream",
     "text": [
      "Used Annotations descriptions: ['New Segment/', 'Stimulus/S  1', 'Stimulus/S  2', 'Stimulus/S  3', 'Stimulus/S  4', 'Stimulus/S  5', 'Stimulus/S  6', 'Stimulus/S  7', 'Stimulus/S  8', 'Stimulus/S  9', 'Stimulus/S 10', 'Stimulus/S 11', 'Stimulus/S 12', 'Stimulus/S 13', 'Stimulus/S 14', 'Stimulus/S 15', 'Stimulus/S 16', 'Stimulus/S 17', 'Stimulus/S 18', 'Stimulus/S 19', 'Stimulus/S 20', 'Stimulus/S 21', 'Stimulus/S 22', 'Stimulus/S 23', 'Stimulus/S 24', 'Stimulus/S 25', 'Stimulus/S101', 'Stimulus/S102', 'Stimulus/S103', 'Stimulus/S121', 'Stimulus/S141', 'Stimulus/S142', 'Stimulus/S181', 'Stimulus/S182', 'Stimulus/S191', 'Stimulus/S192', 'Stimulus/S201', 'Stimulus/S202', 'Stimulus/S203', 'Stimulus/S204', 'Stimulus/S205', 'Stimulus/S211', 'Stimulus/S212', 'Stimulus/S221', 'Stimulus/S222', 'Stimulus/S231', 'Stimulus/S232', 'Stimulus/S239']\n",
      "Multiple event values for single event times found. Creating new event value to reflect simultaneous events.\n",
      "Not setting metadata\n",
      "3918 matching events found\n",
      "Setting baseline interval to [-0.2, 0.0] s\n",
      "Applying baseline correction (mode: mean)\n",
      "0 projection items activated\n",
      "Using data from preloaded Raw for 3918 events and 301 original time points ...\n",
      "1 bad epochs dropped\n",
      "Adding metadata with 2 columns\n",
      "✅ 3917 epochs × 32 ch × 301 samples\n"
     ]
    },
    {
     "name": "stderr",
     "output_type": "stream",
     "text": [
      "/tmp/ipykernel_31/2598750780.py:63: RuntimeWarning: This filename (/kaggle/working/bbciRaw/VPeal_15_05_15/RSVP_login_VPeal_epo_1200ms_250Hz.fif) does not conform to MNE naming conventions. All epochs files should end with -epo.fif, -epo.fif.gz, _epo.fif or _epo.fif.gz\n",
      "  epochs.save(out_fname, overwrite=True)\n"
     ]
    },
    {
     "name": "stdout",
     "output_type": "stream",
     "text": [
      "💾 Saved to /kaggle/working/bbciRaw/VPeal_15_05_15/RSVP_login_VPeal_epo_1200ms_250Hz.fif\n",
      "\n",
      "📥 Loading /kaggle/working/bbciRaw/VPnsk_15_07_29/RSVP_login_dry_VPnsk.vhdr (User: VPnsk, Date: 15_07_29)\n",
      "Filtering raw data in 1 contiguous segment\n",
      "Setting up band-pass filter from 1 - 40 Hz\n",
      "\n",
      "FIR filter parameters\n",
      "---------------------\n",
      "Designing a one-pass, zero-phase, non-causal bandpass filter:\n",
      "- Windowed time-domain design (firwin) method\n",
      "- Hamming window with 0.0194 passband ripple and 53 dB stopband attenuation\n",
      "- Lower passband edge: 1.00\n",
      "- Lower transition bandwidth: 1.00 Hz (-6 dB cutoff frequency: 0.50 Hz)\n",
      "- Upper passband edge: 40.00 Hz\n",
      "- Upper transition bandwidth: 10.00 Hz (-6 dB cutoff frequency: 45.00 Hz)\n",
      "- Filter length: 825 samples (3.300 s)\n",
      "\n",
      "Used Annotations descriptions: ['New Segment/', 'Stimulus/S  1', 'Stimulus/S  2', 'Stimulus/S  3', 'Stimulus/S  4', 'Stimulus/S  5', 'Stimulus/S  6', 'Stimulus/S  7', 'Stimulus/S  8', 'Stimulus/S  9', 'Stimulus/S 10', 'Stimulus/S 11', 'Stimulus/S 12', 'Stimulus/S 13', 'Stimulus/S 14', 'Stimulus/S 15', 'Stimulus/S 16', 'Stimulus/S 17', 'Stimulus/S 18', 'Stimulus/S 19', 'Stimulus/S 20', 'Stimulus/S 21', 'Stimulus/S 22', 'Stimulus/S 23', 'Stimulus/S 24', 'Stimulus/S 25', 'Stimulus/S101', 'Stimulus/S102', 'Stimulus/S121', 'Stimulus/S141', 'Stimulus/S142', 'Stimulus/S160', 'Stimulus/S169', 'Stimulus/S170', 'Stimulus/S171', 'Stimulus/S172', 'Stimulus/S173', 'Stimulus/S213', 'Stimulus/S214', 'Stimulus/S223']\n",
      "Not setting metadata\n",
      "1898 matching events found\n",
      "Setting baseline interval to [-0.2, 0.0] s\n",
      "Applying baseline correction (mode: mean)\n",
      "0 projection items activated\n",
      "Using data from preloaded Raw for 1898 events and 301 original time points ...\n",
      "1 bad epochs dropped\n",
      "Adding metadata with 2 columns\n",
      "✅ 1897 epochs × 16 ch × 301 samples\n",
      "💾 Saved to /kaggle/working/bbciRaw/VPnsk_15_07_29/RSVP_login_dry_VPnsk_epo_1200ms_250Hz.fif\n",
      "\n",
      "📥 Loading /kaggle/working/bbciRaw/VPzk_15_05_01/RSVP_login_VPzk.vhdr (User: VPzk, Date: 15_05_01)\n"
     ]
    },
    {
     "name": "stderr",
     "output_type": "stream",
     "text": [
      "/tmp/ipykernel_31/2598750780.py:63: RuntimeWarning: This filename (/kaggle/working/bbciRaw/VPnsk_15_07_29/RSVP_login_dry_VPnsk_epo_1200ms_250Hz.fif) does not conform to MNE naming conventions. All epochs files should end with -epo.fif, -epo.fif.gz, _epo.fif or _epo.fif.gz\n",
      "  epochs.save(out_fname, overwrite=True)\n",
      "/tmp/ipykernel_31/2598750780.py:24: RuntimeWarning: Online software filter detected. Using software filter settings and ignoring hardware values\n",
      "  raw = mne.io.read_raw_brainvision(vhdr, preload=True, verbose=False)\n"
     ]
    },
    {
     "name": "stdout",
     "output_type": "stream",
     "text": [
      "Filtering raw data in 1 contiguous segment\n",
      "Setting up band-pass filter from 1 - 40 Hz\n",
      "\n",
      "FIR filter parameters\n",
      "---------------------\n",
      "Designing a one-pass, zero-phase, non-causal bandpass filter:\n",
      "- Windowed time-domain design (firwin) method\n",
      "- Hamming window with 0.0194 passband ripple and 53 dB stopband attenuation\n",
      "- Lower passband edge: 1.00\n",
      "- Lower transition bandwidth: 1.00 Hz (-6 dB cutoff frequency: 0.50 Hz)\n",
      "- Upper passband edge: 40.00 Hz\n",
      "- Upper transition bandwidth: 10.00 Hz (-6 dB cutoff frequency: 45.00 Hz)\n",
      "- Filter length: 825 samples (3.300 s)\n",
      "\n"
     ]
    },
    {
     "name": "stderr",
     "output_type": "stream",
     "text": [
      "[Parallel(n_jobs=1)]: Done  17 tasks      | elapsed:    0.3s\n"
     ]
    },
    {
     "name": "stdout",
     "output_type": "stream",
     "text": [
      "Used Annotations descriptions: ['New Segment/', 'Stimulus/S  1', 'Stimulus/S  2', 'Stimulus/S  3', 'Stimulus/S  4', 'Stimulus/S  5', 'Stimulus/S  6', 'Stimulus/S  7', 'Stimulus/S  8', 'Stimulus/S  9', 'Stimulus/S 10', 'Stimulus/S 11', 'Stimulus/S 12', 'Stimulus/S 13', 'Stimulus/S 14', 'Stimulus/S 15', 'Stimulus/S 16', 'Stimulus/S 17', 'Stimulus/S 18', 'Stimulus/S 19', 'Stimulus/S 20', 'Stimulus/S 21', 'Stimulus/S 22', 'Stimulus/S 23', 'Stimulus/S 24', 'Stimulus/S 25', 'Stimulus/S101', 'Stimulus/S102', 'Stimulus/S118', 'Stimulus/S119', 'Stimulus/S121', 'Stimulus/S141', 'Stimulus/S142', 'Stimulus/S181', 'Stimulus/S182', 'Stimulus/S191', 'Stimulus/S192', 'Stimulus/S201', 'Stimulus/S202', 'Stimulus/S203', 'Stimulus/S204', 'Stimulus/S205', 'Stimulus/S211', 'Stimulus/S212', 'Stimulus/S221', 'Stimulus/S222', 'Stimulus/S231', 'Stimulus/S232', 'Stimulus/S239']\n",
      "Multiple event values for single event times found. Creating new event value to reflect simultaneous events.\n",
      "Not setting metadata\n",
      "3919 matching events found\n",
      "Setting baseline interval to [-0.2, 0.0] s\n",
      "Applying baseline correction (mode: mean)\n",
      "0 projection items activated\n",
      "Using data from preloaded Raw for 3919 events and 301 original time points ...\n",
      "1 bad epochs dropped\n",
      "Adding metadata with 2 columns\n",
      "✅ 3918 epochs × 32 ch × 301 samples\n"
     ]
    },
    {
     "name": "stderr",
     "output_type": "stream",
     "text": [
      "/tmp/ipykernel_31/2598750780.py:63: RuntimeWarning: This filename (/kaggle/working/bbciRaw/VPzk_15_05_01/RSVP_login_VPzk_epo_1200ms_250Hz.fif) does not conform to MNE naming conventions. All epochs files should end with -epo.fif, -epo.fif.gz, _epo.fif or _epo.fif.gz\n",
      "  epochs.save(out_fname, overwrite=True)\n"
     ]
    },
    {
     "name": "stdout",
     "output_type": "stream",
     "text": [
      "💾 Saved to /kaggle/working/bbciRaw/VPzk_15_05_01/RSVP_login_VPzk_epo_1200ms_250Hz.fif\n",
      "\n",
      "All subjects processed.\n"
     ]
    }
   ],
   "source": [
    "import mne\n",
    "import numpy as np\n",
    "import pandas as pd\n",
    "from glob import glob\n",
    "import os\n",
    "\n",
    "# ── USER SETTINGS ───────────────────────────────────────────────────────────\n",
    "l_freq, h_freq       = 1, 40.0      # band-pass between 0.5–70 Hz\n",
    "common_sfreq         = 250.0          # resample to 500 Hz\n",
    "tmin, tmax           = -0.2, 1.0      # epoch window (seconds)\n",
    "baseline             = (None, 0)      # baseline-correct from start to 0 s\n",
    "# ────────────────────────────────────────────────────────────────────────────\n",
    "\n",
    "vhdr_paths = glob('/bbciRaw/*/*.vhdr')\n",
    "\n",
    "for vhdr in vhdr_paths:\n",
    "    folder = os.path.basename(os.path.dirname(vhdr))  # e.g., 'VPjak_15_07_20'\n",
    "    user_id = folder.split('_')[0]                   # e.g., 'VPjak'\n",
    "    session_date = '_'.join(folder.split('_')[1:])   # e.g., '15_07_20'\n",
    "\n",
    "    print(f\"📥 Loading {vhdr} (User: {user_id}, Date: {session_date})\")\n",
    "\n",
    "    # 1) Load raw EEG data\n",
    "    raw = mne.io.read_raw_brainvision(vhdr, preload=True, verbose=False)\n",
    "\n",
    "    # 2) Resample\n",
    "    raw.resample(common_sfreq, npad='auto')\n",
    "\n",
    "    # 3) Band-pass filter\n",
    "    raw.filter(l_freq, h_freq, fir_design='firwin')\n",
    "\n",
    "    # 4) Extract RSVP event markers\n",
    "    events, event_id = mne.events_from_annotations(raw)\n",
    "\n",
    "    # 5) Epoch the data\n",
    "    epochs = mne.Epochs(\n",
    "        raw,\n",
    "        events,\n",
    "        event_id=event_id,\n",
    "        tmin=tmin,\n",
    "        tmax=tmax,\n",
    "        baseline=baseline,\n",
    "        event_repeated='merge',\n",
    "        preload=True,\n",
    "        detrend=1\n",
    "    )\n",
    "    epochs.metadata = pd.DataFrame({\n",
    "        'user': [user_id] * len(epochs),\n",
    "        'session': [session_date] * len(epochs)\n",
    "    })\n",
    "\n",
    "    # 7) Summary\n",
    "    n_epochs, n_channels, n_times = epochs.get_data().shape\n",
    "    print(f\"✅ {n_epochs} epochs × {n_channels} ch × {n_times} samples\")\n",
    "\n",
    "    # 8) Save to file\n",
    "    out_fname = vhdr.replace(\n",
    "        '.vhdr',\n",
    "        f'_epo_{int((tmax-tmin)*1000)}ms_{int(common_sfreq)}Hz.fif'\n",
    "    )\n",
    "    epochs.save(out_fname, overwrite=True)\n",
    "    print(f\"Saved to {out_fname}\\n\")\n",
    "\n",
    "print(\"All subjects processed.\")\n"
   ]
  },
  {
   "cell_type": "code",
   "execution_count": 10,
   "metadata": {
    "execution": {
     "iopub.execute_input": "2025-05-11T09:02:11.824748Z",
     "iopub.status.busy": "2025-05-11T09:02:11.823852Z",
     "iopub.status.idle": "2025-05-11T09:02:36.329240Z",
     "shell.execute_reply": "2025-05-11T09:02:36.328553Z",
     "shell.execute_reply.started": "2025-05-11T09:02:11.824724Z"
    },
    "trusted": true
   },
   "outputs": [
    {
     "name": "stderr",
     "output_type": "stream",
     "text": [
      "/tmp/ipykernel_31/3852606678.py:14: RuntimeWarning: This filename (/kaggle/working/bbciRaw/VPzk_15_07_16/RSVP_login_dry_VPzk_epo_1200ms_250Hz.fif) does not conform to MNE naming conventions. All epochs files should end with -epo.fif, -epo.fif.gz, _epo.fif or _epo.fif.gz\n",
      "  epochs = mne.read_epochs(f, preload=True, verbose=False)\n",
      "/tmp/ipykernel_31/3852606678.py:14: RuntimeWarning: This filename (/kaggle/working/bbciRaw/VPeal_15_07_20/RSVP_login_dry_VPeal_epo_1200ms_250Hz.fif) does not conform to MNE naming conventions. All epochs files should end with -epo.fif, -epo.fif.gz, _epo.fif or _epo.fif.gz\n",
      "  epochs = mne.read_epochs(f, preload=True, verbose=False)\n",
      "/tmp/ipykernel_31/3852606678.py:14: RuntimeWarning: This filename (/kaggle/working/bbciRaw/VPgz_15_05_29/RSVP_login_VPgz_epo_1200ms_250Hz.fif) does not conform to MNE naming conventions. All epochs files should end with -epo.fif, -epo.fif.gz, _epo.fif or _epo.fif.gz\n",
      "  epochs = mne.read_epochs(f, preload=True, verbose=False)\n",
      "/tmp/ipykernel_31/3852606678.py:14: RuntimeWarning: This filename (/kaggle/working/bbciRaw/VPad_15_05_14/RSVP_login_VPad_epo_1200ms_250Hz.fif) does not conform to MNE naming conventions. All epochs files should end with -epo.fif, -epo.fif.gz, _epo.fif or _epo.fif.gz\n",
      "  epochs = mne.read_epochs(f, preload=True, verbose=False)\n",
      "/tmp/ipykernel_31/3852606678.py:14: RuntimeWarning: This filename (/kaggle/working/bbciRaw/VPad_15_05_14/IQ_VPad_epo_1200ms_250Hz.fif) does not conform to MNE naming conventions. All epochs files should end with -epo.fif, -epo.fif.gz, _epo.fif or _epo.fif.gz\n",
      "  epochs = mne.read_epochs(f, preload=True, verbose=False)\n",
      "/tmp/ipykernel_31/3852606678.py:14: RuntimeWarning: This filename (/kaggle/working/bbciRaw/VPhj_15_05_28/RSVP_login_VPhj_epo_1200ms_250Hz.fif) does not conform to MNE naming conventions. All epochs files should end with -epo.fif, -epo.fif.gz, _epo.fif or _epo.fif.gz\n",
      "  epochs = mne.read_epochs(f, preload=True, verbose=False)\n",
      "/tmp/ipykernel_31/3852606678.py:14: RuntimeWarning: This filename (/kaggle/working/bbciRaw/VPtu_15_05_28/RSVP_login_VPtu_epo_1200ms_250Hz.fif) does not conform to MNE naming conventions. All epochs files should end with -epo.fif, -epo.fif.gz, _epo.fif or _epo.fif.gz\n",
      "  epochs = mne.read_epochs(f, preload=True, verbose=False)\n",
      "/tmp/ipykernel_31/3852606678.py:14: RuntimeWarning: This filename (/kaggle/working/bbciRaw/VPlh_15_07_20/RSVP_login_dry_VPlh_epo_1200ms_250Hz.fif) does not conform to MNE naming conventions. All epochs files should end with -epo.fif, -epo.fif.gz, _epo.fif or _epo.fif.gz\n",
      "  epochs = mne.read_epochs(f, preload=True, verbose=False)\n",
      "/tmp/ipykernel_31/3852606678.py:14: RuntimeWarning: This filename (/kaggle/working/bbciRaw/VPsc_15_05_23/RSVP_login_VPsc_epo_1200ms_250Hz.fif) does not conform to MNE naming conventions. All epochs files should end with -epo.fif, -epo.fif.gz, _epo.fif or _epo.fif.gz\n",
      "  epochs = mne.read_epochs(f, preload=True, verbose=False)\n",
      "/tmp/ipykernel_31/3852606678.py:14: RuntimeWarning: This filename (/kaggle/working/bbciRaw/VPsd_15_07_21/RSVP_login_dry_VPsd_epo_1200ms_250Hz.fif) does not conform to MNE naming conventions. All epochs files should end with -epo.fif, -epo.fif.gz, _epo.fif or _epo.fif.gz\n",
      "  epochs = mne.read_epochs(f, preload=True, verbose=False)\n",
      "/tmp/ipykernel_31/3852606678.py:14: RuntimeWarning: This filename (/kaggle/working/bbciRaw/VPyy_15_05_21/RSVP_login_VPyy_epo_1200ms_250Hz.fif) does not conform to MNE naming conventions. All epochs files should end with -epo.fif, -epo.fif.gz, _epo.fif or _epo.fif.gz\n",
      "  epochs = mne.read_epochs(f, preload=True, verbose=False)\n",
      "/tmp/ipykernel_31/3852606678.py:14: RuntimeWarning: This filename (/kaggle/working/bbciRaw/VPtt_15_05_19/RSVP_login_VPtt_epo_1200ms_250Hz.fif) does not conform to MNE naming conventions. All epochs files should end with -epo.fif, -epo.fif.gz, _epo.fif or _epo.fif.gz\n",
      "  epochs = mne.read_epochs(f, preload=True, verbose=False)\n",
      "/tmp/ipykernel_31/3852606678.py:14: RuntimeWarning: This filename (/kaggle/working/bbciRaw/VPtt_15_05_19/IQ_VPtt_epo_1200ms_250Hz.fif) does not conform to MNE naming conventions. All epochs files should end with -epo.fif, -epo.fif.gz, _epo.fif or _epo.fif.gz\n",
      "  epochs = mne.read_epochs(f, preload=True, verbose=False)\n",
      "/tmp/ipykernel_31/3852606678.py:14: RuntimeWarning: This filename (/kaggle/working/bbciRaw/VPocb_15_07_20/RSVP_login_dry_VPocb_epo_1200ms_250Hz.fif) does not conform to MNE naming conventions. All epochs files should end with -epo.fif, -epo.fif.gz, _epo.fif or _epo.fif.gz\n",
      "  epochs = mne.read_epochs(f, preload=True, verbose=False)\n",
      "/tmp/ipykernel_31/3852606678.py:14: RuntimeWarning: This filename (/kaggle/working/bbciRaw/VPjeg_15_07_20/RSVP_login_dry_VPjeg_epo_1200ms_250Hz.fif) does not conform to MNE naming conventions. All epochs files should end with -epo.fif, -epo.fif.gz, _epo.fif or _epo.fif.gz\n",
      "  epochs = mne.read_epochs(f, preload=True, verbose=False)\n",
      "/tmp/ipykernel_31/3852606678.py:14: RuntimeWarning: This filename (/kaggle/working/bbciRaw/VPer_15_05_22/RSVP_login_VPer_epo_1200ms_250Hz.fif) does not conform to MNE naming conventions. All epochs files should end with -epo.fif, -epo.fif.gz, _epo.fif or _epo.fif.gz\n",
      "  epochs = mne.read_epochs(f, preload=True, verbose=False)\n",
      "/tmp/ipykernel_31/3852606678.py:14: RuntimeWarning: This filename (/kaggle/working/bbciRaw/VPth_15_05_27/RSVP_login_VPth_epo_1200ms_250Hz.fif) does not conform to MNE naming conventions. All epochs files should end with -epo.fif, -epo.fif.gz, _epo.fif or _epo.fif.gz\n",
      "  epochs = mne.read_epochs(f, preload=True, verbose=False)\n",
      "/tmp/ipykernel_31/3852606678.py:14: RuntimeWarning: This filename (/kaggle/working/bbciRaw/VPsn_15_07_20/RSVP_login_dry_VPsn_epo_1200ms_250Hz.fif) does not conform to MNE naming conventions. All epochs files should end with -epo.fif, -epo.fif.gz, _epo.fif or _epo.fif.gz\n",
      "  epochs = mne.read_epochs(f, preload=True, verbose=False)\n",
      "/tmp/ipykernel_31/3852606678.py:14: RuntimeWarning: This filename (/kaggle/working/bbciRaw/VPbv_15_07_29/RSVP_login_dry_VPbv_epo_1200ms_250Hz.fif) does not conform to MNE naming conventions. All epochs files should end with -epo.fif, -epo.fif.gz, _epo.fif or _epo.fif.gz\n",
      "  epochs = mne.read_epochs(f, preload=True, verbose=False)\n",
      "/tmp/ipykernel_31/3852606678.py:14: RuntimeWarning: This filename (/kaggle/working/bbciRaw/VPjak_15_07_20/RSVP_login_dry_VPjak_epo_1200ms_250Hz.fif) does not conform to MNE naming conventions. All epochs files should end with -epo.fif, -epo.fif.gz, _epo.fif or _epo.fif.gz\n",
      "  epochs = mne.read_epochs(f, preload=True, verbose=False)\n",
      "/tmp/ipykernel_31/3852606678.py:14: RuntimeWarning: This filename (/kaggle/working/bbciRaw/VPvi_15_05_22/RSVP_login_VPvi_epo_1200ms_250Hz.fif) does not conform to MNE naming conventions. All epochs files should end with -epo.fif, -epo.fif.gz, _epo.fif or _epo.fif.gz\n",
      "  epochs = mne.read_epochs(f, preload=True, verbose=False)\n",
      "/tmp/ipykernel_31/3852606678.py:14: RuntimeWarning: This filename (/kaggle/working/bbciRaw/VPjw_15_05_13/RSVP_login_VPjw_epo_1200ms_250Hz.fif) does not conform to MNE naming conventions. All epochs files should end with -epo.fif, -epo.fif.gz, _epo.fif or _epo.fif.gz\n",
      "  epochs = mne.read_epochs(f, preload=True, verbose=False)\n",
      "/tmp/ipykernel_31/3852606678.py:14: RuntimeWarning: This filename (/kaggle/working/bbciRaw/VPmg_15_07_29/RSVP_login_dry_VPmg_epo_1200ms_250Hz.fif) does not conform to MNE naming conventions. All epochs files should end with -epo.fif, -epo.fif.gz, _epo.fif or _epo.fif.gz\n",
      "  epochs = mne.read_epochs(f, preload=True, verbose=False)\n",
      "/tmp/ipykernel_31/3852606678.py:14: RuntimeWarning: This filename (/kaggle/working/bbciRaw/VPlh_15_05_21/RSVP_login_VPlh_epo_1200ms_250Hz.fif) does not conform to MNE naming conventions. All epochs files should end with -epo.fif, -epo.fif.gz, _epo.fif or _epo.fif.gz\n",
      "  epochs = mne.read_epochs(f, preload=True, verbose=False)\n",
      "/tmp/ipykernel_31/3852606678.py:14: RuntimeWarning: This filename (/kaggle/working/bbciRaw/VPrsv_15_07_20/RSVP_login_dry_VPrsv_epo_1200ms_250Hz.fif) does not conform to MNE naming conventions. All epochs files should end with -epo.fif, -epo.fif.gz, _epo.fif or _epo.fif.gz\n",
      "  epochs = mne.read_epochs(f, preload=True, verbose=False)\n",
      "/tmp/ipykernel_31/3852606678.py:14: RuntimeWarning: This filename (/kaggle/working/bbciRaw/VPfat_15_07_21/RSVP_login_dry_VPfat_epo_1200ms_250Hz.fif) does not conform to MNE naming conventions. All epochs files should end with -epo.fif, -epo.fif.gz, _epo.fif or _epo.fif.gz\n",
      "  epochs = mne.read_epochs(f, preload=True, verbose=False)\n",
      "/tmp/ipykernel_31/3852606678.py:14: RuntimeWarning: This filename (/kaggle/working/bbciRaw/VPsk_15_05_30/RSVP_login_VPsk_epo_1200ms_250Hz.fif) does not conform to MNE naming conventions. All epochs files should end with -epo.fif, -epo.fif.gz, _epo.fif or _epo.fif.gz\n",
      "  epochs = mne.read_epochs(f, preload=True, verbose=False)\n",
      "/tmp/ipykernel_31/3852606678.py:14: RuntimeWarning: This filename (/kaggle/working/bbciRaw/VPjys_15_07_29/RSVP_login_dry_VPjys_epo_1200ms_250Hz.fif) does not conform to MNE naming conventions. All epochs files should end with -epo.fif, -epo.fif.gz, _epo.fif or _epo.fif.gz\n",
      "  epochs = mne.read_epochs(f, preload=True, verbose=False)\n",
      "/tmp/ipykernel_31/3852606678.py:14: RuntimeWarning: This filename (/kaggle/working/bbciRaw/VPhw_15_05_23/hyungwon1_epo_1200ms_250Hz.fif) does not conform to MNE naming conventions. All epochs files should end with -epo.fif, -epo.fif.gz, _epo.fif or _epo.fif.gz\n",
      "  epochs = mne.read_epochs(f, preload=True, verbose=False)\n",
      "/tmp/ipykernel_31/3852606678.py:14: RuntimeWarning: This filename (/kaggle/working/bbciRaw/VPhw_15_05_23/RSVP_login_VPhw_epo_1200ms_250Hz.fif) does not conform to MNE naming conventions. All epochs files should end with -epo.fif, -epo.fif.gz, _epo.fif or _epo.fif.gz\n",
      "  epochs = mne.read_epochs(f, preload=True, verbose=False)\n",
      "/tmp/ipykernel_31/3852606678.py:14: RuntimeWarning: This filename (/kaggle/working/bbciRaw/VPeal_15_05_15/RSVP_login_VPeal_epo_1200ms_250Hz.fif) does not conform to MNE naming conventions. All epochs files should end with -epo.fif, -epo.fif.gz, _epo.fif or _epo.fif.gz\n",
      "  epochs = mne.read_epochs(f, preload=True, verbose=False)\n",
      "/tmp/ipykernel_31/3852606678.py:14: RuntimeWarning: This filename (/kaggle/working/bbciRaw/VPnsk_15_07_29/RSVP_login_dry_VPnsk_epo_1200ms_250Hz.fif) does not conform to MNE naming conventions. All epochs files should end with -epo.fif, -epo.fif.gz, _epo.fif or _epo.fif.gz\n",
      "  epochs = mne.read_epochs(f, preload=True, verbose=False)\n",
      "/tmp/ipykernel_31/3852606678.py:14: RuntimeWarning: This filename (/kaggle/working/bbciRaw/VPzk_15_05_01/RSVP_login_VPzk_epo_1200ms_250Hz.fif) does not conform to MNE naming conventions. All epochs files should end with -epo.fif, -epo.fif.gz, _epo.fif or _epo.fif.gz\n",
      "  epochs = mne.read_epochs(f, preload=True, verbose=False)\n"
     ]
    },
    {
     "name": "stdout",
     "output_type": "stream",
     "text": [
      "Total epochs: 55050\n",
      "Found sessions: ['15_05_29' '15_05_14' '15_05_28' '15_05_21' '15_05_19' '15_05_22'\n",
      " '15_05_27' '15_05_13' '15_05_30' '15_05_23' '15_05_01']\n",
      "Found session dates: [datetime.date(2015, 5, 29) datetime.date(2015, 5, 14)\n",
      " datetime.date(2015, 5, 28) datetime.date(2015, 5, 21)\n",
      " datetime.date(2015, 5, 19) datetime.date(2015, 5, 22)\n",
      " datetime.date(2015, 5, 27) datetime.date(2015, 5, 13)\n",
      " datetime.date(2015, 5, 30) datetime.date(2015, 5, 23)\n",
      " datetime.date(2015, 5, 1)]\n"
     ]
    }
   ],
   "source": [
    "import mne, numpy as np, pandas as pd\n",
    "from glob import glob\n",
    "\n",
    "# CONFIG\n",
    "data_glob     = '/kaggle/working/bbciRaw/**/*.fif'\n",
    "desired_nchan = 32\n",
    "\n",
    "# 1. Load & collect\n",
    "epoch_files = glob(data_glob, recursive=True)\n",
    "data_list, meta_list = [], []\n",
    "\n",
    "for f in epoch_files:\n",
    "    try:\n",
    "        epochs = mne.read_epochs(f, preload=True, verbose=False)\n",
    "        if epochs.info['nchan'] != desired_nchan:\n",
    "            epochs.close()\n",
    "            continue\n",
    "\n",
    "        md = epochs.metadata.copy()\n",
    "        md['session_date'] = pd.to_datetime(epochs.info['meas_date'])\n",
    "\n",
    "        data_list.append(epochs.get_data())\n",
    "        meta_list.append(md)\n",
    "        epochs.close()\n",
    "\n",
    "    except Exception:\n",
    "        continue\n",
    "\n",
    "if not data_list:\n",
    "    raise RuntimeError(f\"No {desired_nchan}-channel files found!\")\n",
    "\n",
    "X        = np.concatenate(data_list, axis=0)\n",
    "metadata = pd.concat(meta_list, ignore_index=True)\n",
    "\n",
    "# 2. Split by session\n",
    "sessions = metadata['session'].unique()\n",
    "session_data = {sess: X[metadata['session'] == sess] for sess in sessions}\n",
    "session_meta = {\n",
    "    sess: metadata[metadata['session'] == sess].reset_index(drop=True)\n",
    "    for sess in sessions\n",
    "}\n",
    "\n",
    "# 3. Split by session date\n",
    "dates     = metadata['session_date'].dt.date.unique()\n",
    "date_data = {d: X[metadata['session_date'].dt.date == d] for d in dates}\n",
    "date_meta = {\n",
    "    d: metadata[metadata['session_date'].dt.date == d].reset_index(drop=True)\n",
    "    for d in dates\n",
    "}\n",
    "\n",
    "print(f\"Total epochs: {len(metadata)}\")\n",
    "print(f\"Found sessions: {sessions}\")\n",
    "print(f\"Found session dates: {dates}\")\n"
   ]
  },
  {
   "cell_type": "code",
   "execution_count": null,
   "metadata": {
    "execution": {
     "iopub.execute_input": "2025-05-11T13:24:30.041439Z",
     "iopub.status.busy": "2025-05-11T13:24:30.041131Z",
     "iopub.status.idle": "2025-05-11T13:24:46.294928Z",
     "shell.execute_reply": "2025-05-11T13:24:46.293989Z",
     "shell.execute_reply.started": "2025-05-11T13:24:30.041416Z"
    },
    "trusted": true
   },
   "outputs": [
    {
     "name": "stderr",
     "output_type": "stream",
     "text": [
      "/tmp/ipykernel_295530/1087922675.py:18: RuntimeWarning: This filename (/kaggle/working/bbciRaw/VPzk_15_07_16/RSVP_login_dry_VPzk_epo_1200ms_250Hz.fif) does not conform to MNE naming conventions. All epochs files should end with -epo.fif, -epo.fif.gz, _epo.fif or _epo.fif.gz\n",
      "  epochs = mne.read_epochs(f, preload=True, verbose=False)\n"
     ]
    },
    {
     "name": "stdout",
     "output_type": "stream",
     "text": [
      "Skipping /kaggle/working/bbciRaw/VPzk_15_07_16/RSVP_login_dry_VPzk_epo_1200ms_250Hz.fif: 'EpochsFIF' object has no attribute 'close'\n",
      "Skipping /kaggle/working/bbciRaw/VPeal_15_07_20/RSVP_login_dry_VPeal_epo_1200ms_250Hz.fif: 'EpochsFIF' object has no attribute 'close'\n"
     ]
    },
    {
     "name": "stderr",
     "output_type": "stream",
     "text": [
      "/tmp/ipykernel_295530/1087922675.py:18: RuntimeWarning: This filename (/kaggle/working/bbciRaw/VPeal_15_07_20/RSVP_login_dry_VPeal_epo_1200ms_250Hz.fif) does not conform to MNE naming conventions. All epochs files should end with -epo.fif, -epo.fif.gz, _epo.fif or _epo.fif.gz\n",
      "  epochs = mne.read_epochs(f, preload=True, verbose=False)\n",
      "/tmp/ipykernel_295530/1087922675.py:18: RuntimeWarning: This filename (/kaggle/working/bbciRaw/VPgz_15_05_29/RSVP_login_VPgz_epo_1200ms_250Hz.fif) does not conform to MNE naming conventions. All epochs files should end with -epo.fif, -epo.fif.gz, _epo.fif or _epo.fif.gz\n",
      "  epochs = mne.read_epochs(f, preload=True, verbose=False)\n"
     ]
    },
    {
     "name": "stdout",
     "output_type": "stream",
     "text": [
      "Skipping /kaggle/working/bbciRaw/VPgz_15_05_29/RSVP_login_VPgz_epo_1200ms_250Hz.fif: 'EpochsFIF' object has no attribute 'close'\n"
     ]
    },
    {
     "name": "stderr",
     "output_type": "stream",
     "text": [
      "/tmp/ipykernel_295530/1087922675.py:18: RuntimeWarning: This filename (/kaggle/working/bbciRaw/VPad_15_05_14/RSVP_login_VPad_epo_1200ms_250Hz.fif) does not conform to MNE naming conventions. All epochs files should end with -epo.fif, -epo.fif.gz, _epo.fif or _epo.fif.gz\n",
      "  epochs = mne.read_epochs(f, preload=True, verbose=False)\n"
     ]
    },
    {
     "name": "stdout",
     "output_type": "stream",
     "text": [
      "Skipping /kaggle/working/bbciRaw/VPad_15_05_14/RSVP_login_VPad_epo_1200ms_250Hz.fif: 'EpochsFIF' object has no attribute 'close'\n"
     ]
    },
    {
     "name": "stderr",
     "output_type": "stream",
     "text": [
      "/tmp/ipykernel_295530/1087922675.py:18: RuntimeWarning: This filename (/kaggle/working/bbciRaw/VPad_15_05_14/IQ_VPad_epo_1200ms_250Hz.fif) does not conform to MNE naming conventions. All epochs files should end with -epo.fif, -epo.fif.gz, _epo.fif or _epo.fif.gz\n",
      "  epochs = mne.read_epochs(f, preload=True, verbose=False)\n"
     ]
    },
    {
     "name": "stdout",
     "output_type": "stream",
     "text": [
      "Skipping /kaggle/working/bbciRaw/VPad_15_05_14/IQ_VPad_epo_1200ms_250Hz.fif: 'EpochsFIF' object has no attribute 'close'\n"
     ]
    },
    {
     "name": "stderr",
     "output_type": "stream",
     "text": [
      "/tmp/ipykernel_295530/1087922675.py:18: RuntimeWarning: This filename (/kaggle/working/bbciRaw/VPhj_15_05_28/RSVP_login_VPhj_epo_1200ms_250Hz.fif) does not conform to MNE naming conventions. All epochs files should end with -epo.fif, -epo.fif.gz, _epo.fif or _epo.fif.gz\n",
      "  epochs = mne.read_epochs(f, preload=True, verbose=False)\n"
     ]
    },
    {
     "name": "stdout",
     "output_type": "stream",
     "text": [
      "Skipping /kaggle/working/bbciRaw/VPhj_15_05_28/RSVP_login_VPhj_epo_1200ms_250Hz.fif: 'EpochsFIF' object has no attribute 'close'\n"
     ]
    },
    {
     "name": "stderr",
     "output_type": "stream",
     "text": [
      "/tmp/ipykernel_295530/1087922675.py:18: RuntimeWarning: This filename (/kaggle/working/bbciRaw/VPtu_15_05_28/RSVP_login_VPtu_epo_1200ms_250Hz.fif) does not conform to MNE naming conventions. All epochs files should end with -epo.fif, -epo.fif.gz, _epo.fif or _epo.fif.gz\n",
      "  epochs = mne.read_epochs(f, preload=True, verbose=False)\n"
     ]
    },
    {
     "name": "stdout",
     "output_type": "stream",
     "text": [
      "Skipping /kaggle/working/bbciRaw/VPtu_15_05_28/RSVP_login_VPtu_epo_1200ms_250Hz.fif: 'EpochsFIF' object has no attribute 'close'\n",
      "Skipping /kaggle/working/bbciRaw/VPlh_15_07_20/RSVP_login_dry_VPlh_epo_1200ms_250Hz.fif: 'EpochsFIF' object has no attribute 'close'\n"
     ]
    },
    {
     "name": "stderr",
     "output_type": "stream",
     "text": [
      "/tmp/ipykernel_295530/1087922675.py:18: RuntimeWarning: This filename (/kaggle/working/bbciRaw/VPlh_15_07_20/RSVP_login_dry_VPlh_epo_1200ms_250Hz.fif) does not conform to MNE naming conventions. All epochs files should end with -epo.fif, -epo.fif.gz, _epo.fif or _epo.fif.gz\n",
      "  epochs = mne.read_epochs(f, preload=True, verbose=False)\n",
      "/tmp/ipykernel_295530/1087922675.py:18: RuntimeWarning: This filename (/kaggle/working/bbciRaw/VPsc_15_05_23/RSVP_login_VPsc_epo_1200ms_250Hz.fif) does not conform to MNE naming conventions. All epochs files should end with -epo.fif, -epo.fif.gz, _epo.fif or _epo.fif.gz\n",
      "  epochs = mne.read_epochs(f, preload=True, verbose=False)\n"
     ]
    },
    {
     "name": "stdout",
     "output_type": "stream",
     "text": [
      "Skipping /kaggle/working/bbciRaw/VPsc_15_05_23/RSVP_login_VPsc_epo_1200ms_250Hz.fif: selection must be shape (3962,) got shape (3963,)\n",
      "Skipping /kaggle/working/bbciRaw/VPsd_15_07_21/RSVP_login_dry_VPsd_epo_1200ms_250Hz.fif: 'EpochsFIF' object has no attribute 'close'\n"
     ]
    },
    {
     "name": "stderr",
     "output_type": "stream",
     "text": [
      "/tmp/ipykernel_295530/1087922675.py:18: RuntimeWarning: This filename (/kaggle/working/bbciRaw/VPsd_15_07_21/RSVP_login_dry_VPsd_epo_1200ms_250Hz.fif) does not conform to MNE naming conventions. All epochs files should end with -epo.fif, -epo.fif.gz, _epo.fif or _epo.fif.gz\n",
      "  epochs = mne.read_epochs(f, preload=True, verbose=False)\n",
      "/tmp/ipykernel_295530/1087922675.py:18: RuntimeWarning: This filename (/kaggle/working/bbciRaw/VPyy_15_05_21/RSVP_login_VPyy_epo_1200ms_250Hz.fif) does not conform to MNE naming conventions. All epochs files should end with -epo.fif, -epo.fif.gz, _epo.fif or _epo.fif.gz\n",
      "  epochs = mne.read_epochs(f, preload=True, verbose=False)\n"
     ]
    },
    {
     "name": "stdout",
     "output_type": "stream",
     "text": [
      "Skipping /kaggle/working/bbciRaw/VPyy_15_05_21/RSVP_login_VPyy_epo_1200ms_250Hz.fif: 'EpochsFIF' object has no attribute 'close'\n"
     ]
    },
    {
     "name": "stderr",
     "output_type": "stream",
     "text": [
      "/tmp/ipykernel_295530/1087922675.py:18: RuntimeWarning: This filename (/kaggle/working/bbciRaw/VPtt_15_05_19/RSVP_login_VPtt_epo_1200ms_250Hz.fif) does not conform to MNE naming conventions. All epochs files should end with -epo.fif, -epo.fif.gz, _epo.fif or _epo.fif.gz\n",
      "  epochs = mne.read_epochs(f, preload=True, verbose=False)\n"
     ]
    },
    {
     "name": "stdout",
     "output_type": "stream",
     "text": [
      "Skipping /kaggle/working/bbciRaw/VPtt_15_05_19/RSVP_login_VPtt_epo_1200ms_250Hz.fif: 'EpochsFIF' object has no attribute 'close'\n"
     ]
    },
    {
     "name": "stderr",
     "output_type": "stream",
     "text": [
      "/tmp/ipykernel_295530/1087922675.py:18: RuntimeWarning: This filename (/kaggle/working/bbciRaw/VPtt_15_05_19/IQ_VPtt_epo_1200ms_250Hz.fif) does not conform to MNE naming conventions. All epochs files should end with -epo.fif, -epo.fif.gz, _epo.fif or _epo.fif.gz\n",
      "  epochs = mne.read_epochs(f, preload=True, verbose=False)\n"
     ]
    },
    {
     "name": "stdout",
     "output_type": "stream",
     "text": [
      "Skipping /kaggle/working/bbciRaw/VPtt_15_05_19/IQ_VPtt_epo_1200ms_250Hz.fif: 'EpochsFIF' object has no attribute 'close'\n",
      "Skipping /kaggle/working/bbciRaw/VPocb_15_07_20/RSVP_login_dry_VPocb_epo_1200ms_250Hz.fif: 'EpochsFIF' object has no attribute 'close'\n"
     ]
    },
    {
     "name": "stderr",
     "output_type": "stream",
     "text": [
      "/tmp/ipykernel_295530/1087922675.py:18: RuntimeWarning: This filename (/kaggle/working/bbciRaw/VPocb_15_07_20/RSVP_login_dry_VPocb_epo_1200ms_250Hz.fif) does not conform to MNE naming conventions. All epochs files should end with -epo.fif, -epo.fif.gz, _epo.fif or _epo.fif.gz\n",
      "  epochs = mne.read_epochs(f, preload=True, verbose=False)\n",
      "/tmp/ipykernel_295530/1087922675.py:18: RuntimeWarning: This filename (/kaggle/working/bbciRaw/VPjeg_15_07_20/RSVP_login_dry_VPjeg_epo_1200ms_250Hz.fif) does not conform to MNE naming conventions. All epochs files should end with -epo.fif, -epo.fif.gz, _epo.fif or _epo.fif.gz\n",
      "  epochs = mne.read_epochs(f, preload=True, verbose=False)\n"
     ]
    },
    {
     "name": "stdout",
     "output_type": "stream",
     "text": [
      "Skipping /kaggle/working/bbciRaw/VPjeg_15_07_20/RSVP_login_dry_VPjeg_epo_1200ms_250Hz.fif: 'EpochsFIF' object has no attribute 'close'\n"
     ]
    },
    {
     "name": "stderr",
     "output_type": "stream",
     "text": [
      "/tmp/ipykernel_295530/1087922675.py:18: RuntimeWarning: This filename (/kaggle/working/bbciRaw/VPer_15_05_22/RSVP_login_VPer_epo_1200ms_250Hz.fif) does not conform to MNE naming conventions. All epochs files should end with -epo.fif, -epo.fif.gz, _epo.fif or _epo.fif.gz\n",
      "  epochs = mne.read_epochs(f, preload=True, verbose=False)\n"
     ]
    },
    {
     "name": "stdout",
     "output_type": "stream",
     "text": [
      "Skipping /kaggle/working/bbciRaw/VPer_15_05_22/RSVP_login_VPer_epo_1200ms_250Hz.fif: 'EpochsFIF' object has no attribute 'close'\n"
     ]
    },
    {
     "name": "stderr",
     "output_type": "stream",
     "text": [
      "/tmp/ipykernel_295530/1087922675.py:18: RuntimeWarning: This filename (/kaggle/working/bbciRaw/VPth_15_05_27/RSVP_login_VPth_epo_1200ms_250Hz.fif) does not conform to MNE naming conventions. All epochs files should end with -epo.fif, -epo.fif.gz, _epo.fif or _epo.fif.gz\n",
      "  epochs = mne.read_epochs(f, preload=True, verbose=False)\n"
     ]
    },
    {
     "name": "stdout",
     "output_type": "stream",
     "text": [
      "Skipping /kaggle/working/bbciRaw/VPth_15_05_27/RSVP_login_VPth_epo_1200ms_250Hz.fif: 'EpochsFIF' object has no attribute 'close'\n",
      "Skipping /kaggle/working/bbciRaw/VPsn_15_07_20/RSVP_login_dry_VPsn_epo_1200ms_250Hz.fif: 'EpochsFIF' object has no attribute 'close'\n"
     ]
    },
    {
     "name": "stderr",
     "output_type": "stream",
     "text": [
      "/tmp/ipykernel_295530/1087922675.py:18: RuntimeWarning: This filename (/kaggle/working/bbciRaw/VPsn_15_07_20/RSVP_login_dry_VPsn_epo_1200ms_250Hz.fif) does not conform to MNE naming conventions. All epochs files should end with -epo.fif, -epo.fif.gz, _epo.fif or _epo.fif.gz\n",
      "  epochs = mne.read_epochs(f, preload=True, verbose=False)\n",
      "/tmp/ipykernel_295530/1087922675.py:18: RuntimeWarning: This filename (/kaggle/working/bbciRaw/VPbv_15_07_29/RSVP_login_dry_VPbv_epo_1200ms_250Hz.fif) does not conform to MNE naming conventions. All epochs files should end with -epo.fif, -epo.fif.gz, _epo.fif or _epo.fif.gz\n",
      "  epochs = mne.read_epochs(f, preload=True, verbose=False)\n"
     ]
    },
    {
     "name": "stdout",
     "output_type": "stream",
     "text": [
      "Skipping /kaggle/working/bbciRaw/VPbv_15_07_29/RSVP_login_dry_VPbv_epo_1200ms_250Hz.fif: 'EpochsFIF' object has no attribute 'close'\n",
      "Skipping /kaggle/working/bbciRaw/VPjak_15_07_20/RSVP_login_dry_VPjak_epo_1200ms_250Hz.fif: 'EpochsFIF' object has no attribute 'close'\n"
     ]
    },
    {
     "name": "stderr",
     "output_type": "stream",
     "text": [
      "/tmp/ipykernel_295530/1087922675.py:18: RuntimeWarning: This filename (/kaggle/working/bbciRaw/VPjak_15_07_20/RSVP_login_dry_VPjak_epo_1200ms_250Hz.fif) does not conform to MNE naming conventions. All epochs files should end with -epo.fif, -epo.fif.gz, _epo.fif or _epo.fif.gz\n",
      "  epochs = mne.read_epochs(f, preload=True, verbose=False)\n",
      "/tmp/ipykernel_295530/1087922675.py:18: RuntimeWarning: This filename (/kaggle/working/bbciRaw/VPvi_15_05_22/RSVP_login_VPvi_epo_1200ms_250Hz.fif) does not conform to MNE naming conventions. All epochs files should end with -epo.fif, -epo.fif.gz, _epo.fif or _epo.fif.gz\n",
      "  epochs = mne.read_epochs(f, preload=True, verbose=False)\n"
     ]
    },
    {
     "name": "stdout",
     "output_type": "stream",
     "text": [
      "Skipping /kaggle/working/bbciRaw/VPvi_15_05_22/RSVP_login_VPvi_epo_1200ms_250Hz.fif: selection must be shape (3965,) got shape (3966,)\n"
     ]
    },
    {
     "name": "stderr",
     "output_type": "stream",
     "text": [
      "/tmp/ipykernel_295530/1087922675.py:18: RuntimeWarning: This filename (/kaggle/working/bbciRaw/VPjw_15_05_13/RSVP_login_VPjw_epo_1200ms_250Hz.fif) does not conform to MNE naming conventions. All epochs files should end with -epo.fif, -epo.fif.gz, _epo.fif or _epo.fif.gz\n",
      "  epochs = mne.read_epochs(f, preload=True, verbose=False)\n"
     ]
    },
    {
     "name": "stdout",
     "output_type": "stream",
     "text": [
      "Skipping /kaggle/working/bbciRaw/VPjw_15_05_13/RSVP_login_VPjw_epo_1200ms_250Hz.fif: 'EpochsFIF' object has no attribute 'close'\n",
      "Skipping /kaggle/working/bbciRaw/VPmg_15_07_29/RSVP_login_dry_VPmg_epo_1200ms_250Hz.fif: 'EpochsFIF' object has no attribute 'close'\n"
     ]
    },
    {
     "name": "stderr",
     "output_type": "stream",
     "text": [
      "/tmp/ipykernel_295530/1087922675.py:18: RuntimeWarning: This filename (/kaggle/working/bbciRaw/VPmg_15_07_29/RSVP_login_dry_VPmg_epo_1200ms_250Hz.fif) does not conform to MNE naming conventions. All epochs files should end with -epo.fif, -epo.fif.gz, _epo.fif or _epo.fif.gz\n",
      "  epochs = mne.read_epochs(f, preload=True, verbose=False)\n",
      "/tmp/ipykernel_295530/1087922675.py:18: RuntimeWarning: This filename (/kaggle/working/bbciRaw/VPlh_15_05_21/RSVP_login_VPlh_epo_1200ms_250Hz.fif) does not conform to MNE naming conventions. All epochs files should end with -epo.fif, -epo.fif.gz, _epo.fif or _epo.fif.gz\n",
      "  epochs = mne.read_epochs(f, preload=True, verbose=False)\n"
     ]
    },
    {
     "name": "stdout",
     "output_type": "stream",
     "text": [
      "Skipping /kaggle/working/bbciRaw/VPlh_15_05_21/RSVP_login_VPlh_epo_1200ms_250Hz.fif: 'EpochsFIF' object has no attribute 'close'\n",
      "Skipping /kaggle/working/bbciRaw/VPrsv_15_07_20/RSVP_login_dry_VPrsv_epo_1200ms_250Hz.fif: 'EpochsFIF' object has no attribute 'close'\n"
     ]
    },
    {
     "name": "stderr",
     "output_type": "stream",
     "text": [
      "/tmp/ipykernel_295530/1087922675.py:18: RuntimeWarning: This filename (/kaggle/working/bbciRaw/VPrsv_15_07_20/RSVP_login_dry_VPrsv_epo_1200ms_250Hz.fif) does not conform to MNE naming conventions. All epochs files should end with -epo.fif, -epo.fif.gz, _epo.fif or _epo.fif.gz\n",
      "  epochs = mne.read_epochs(f, preload=True, verbose=False)\n",
      "/tmp/ipykernel_295530/1087922675.py:18: RuntimeWarning: This filename (/kaggle/working/bbciRaw/VPfat_15_07_21/RSVP_login_dry_VPfat_epo_1200ms_250Hz.fif) does not conform to MNE naming conventions. All epochs files should end with -epo.fif, -epo.fif.gz, _epo.fif or _epo.fif.gz\n",
      "  epochs = mne.read_epochs(f, preload=True, verbose=False)\n"
     ]
    },
    {
     "name": "stdout",
     "output_type": "stream",
     "text": [
      "Skipping /kaggle/working/bbciRaw/VPfat_15_07_21/RSVP_login_dry_VPfat_epo_1200ms_250Hz.fif: 'EpochsFIF' object has no attribute 'close'\n"
     ]
    },
    {
     "name": "stderr",
     "output_type": "stream",
     "text": [
      "/tmp/ipykernel_295530/1087922675.py:18: RuntimeWarning: This filename (/kaggle/working/bbciRaw/VPsk_15_05_30/RSVP_login_VPsk_epo_1200ms_250Hz.fif) does not conform to MNE naming conventions. All epochs files should end with -epo.fif, -epo.fif.gz, _epo.fif or _epo.fif.gz\n",
      "  epochs = mne.read_epochs(f, preload=True, verbose=False)\n"
     ]
    },
    {
     "name": "stdout",
     "output_type": "stream",
     "text": [
      "Skipping /kaggle/working/bbciRaw/VPsk_15_05_30/RSVP_login_VPsk_epo_1200ms_250Hz.fif: 'EpochsFIF' object has no attribute 'close'\n",
      "Skipping /kaggle/working/bbciRaw/VPjys_15_07_29/RSVP_login_dry_VPjys_epo_1200ms_250Hz.fif: 'EpochsFIF' object has no attribute 'close'\n"
     ]
    },
    {
     "name": "stderr",
     "output_type": "stream",
     "text": [
      "/tmp/ipykernel_295530/1087922675.py:18: RuntimeWarning: This filename (/kaggle/working/bbciRaw/VPjys_15_07_29/RSVP_login_dry_VPjys_epo_1200ms_250Hz.fif) does not conform to MNE naming conventions. All epochs files should end with -epo.fif, -epo.fif.gz, _epo.fif or _epo.fif.gz\n",
      "  epochs = mne.read_epochs(f, preload=True, verbose=False)\n",
      "/tmp/ipykernel_295530/1087922675.py:18: RuntimeWarning: This filename (/kaggle/working/bbciRaw/VPhw_15_05_23/hyungwon1_epo_1200ms_250Hz.fif) does not conform to MNE naming conventions. All epochs files should end with -epo.fif, -epo.fif.gz, _epo.fif or _epo.fif.gz\n",
      "  epochs = mne.read_epochs(f, preload=True, verbose=False)\n"
     ]
    },
    {
     "name": "stdout",
     "output_type": "stream",
     "text": [
      "Skipping /kaggle/working/bbciRaw/VPhw_15_05_23/hyungwon1_epo_1200ms_250Hz.fif: 'EpochsFIF' object has no attribute 'close'\n"
     ]
    },
    {
     "name": "stderr",
     "output_type": "stream",
     "text": [
      "/tmp/ipykernel_295530/1087922675.py:18: RuntimeWarning: This filename (/kaggle/working/bbciRaw/VPhw_15_05_23/RSVP_login_VPhw_epo_1200ms_250Hz.fif) does not conform to MNE naming conventions. All epochs files should end with -epo.fif, -epo.fif.gz, _epo.fif or _epo.fif.gz\n",
      "  epochs = mne.read_epochs(f, preload=True, verbose=False)\n"
     ]
    },
    {
     "name": "stdout",
     "output_type": "stream",
     "text": [
      "Skipping /kaggle/working/bbciRaw/VPhw_15_05_23/RSVP_login_VPhw_epo_1200ms_250Hz.fif: 'EpochsFIF' object has no attribute 'close'\n"
     ]
    },
    {
     "name": "stderr",
     "output_type": "stream",
     "text": [
      "/tmp/ipykernel_295530/1087922675.py:18: RuntimeWarning: This filename (/kaggle/working/bbciRaw/VPeal_15_05_15/RSVP_login_VPeal_epo_1200ms_250Hz.fif) does not conform to MNE naming conventions. All epochs files should end with -epo.fif, -epo.fif.gz, _epo.fif or _epo.fif.gz\n",
      "  epochs = mne.read_epochs(f, preload=True, verbose=False)\n"
     ]
    },
    {
     "name": "stdout",
     "output_type": "stream",
     "text": [
      "Skipping /kaggle/working/bbciRaw/VPeal_15_05_15/RSVP_login_VPeal_epo_1200ms_250Hz.fif: selection must be shape (3916,) got shape (3917,)\n",
      "Skipping /kaggle/working/bbciRaw/VPnsk_15_07_29/RSVP_login_dry_VPnsk_epo_1200ms_250Hz.fif: 'EpochsFIF' object has no attribute 'close'\n"
     ]
    },
    {
     "name": "stderr",
     "output_type": "stream",
     "text": [
      "/tmp/ipykernel_295530/1087922675.py:18: RuntimeWarning: This filename (/kaggle/working/bbciRaw/VPnsk_15_07_29/RSVP_login_dry_VPnsk_epo_1200ms_250Hz.fif) does not conform to MNE naming conventions. All epochs files should end with -epo.fif, -epo.fif.gz, _epo.fif or _epo.fif.gz\n",
      "  epochs = mne.read_epochs(f, preload=True, verbose=False)\n",
      "/tmp/ipykernel_295530/1087922675.py:18: RuntimeWarning: This filename (/kaggle/working/bbciRaw/VPzk_15_05_01/RSVP_login_VPzk_epo_1200ms_250Hz.fif) does not conform to MNE naming conventions. All epochs files should end with -epo.fif, -epo.fif.gz, _epo.fif or _epo.fif.gz\n",
      "  epochs = mne.read_epochs(f, preload=True, verbose=False)\n"
     ]
    },
    {
     "name": "stdout",
     "output_type": "stream",
     "text": [
      "Skipping /kaggle/working/bbciRaw/VPzk_15_05_01/RSVP_login_VPzk_epo_1200ms_250Hz.fif: 'EpochsFIF' object has no attribute 'close'\n",
      "Processed 16 files → X shape = (55050, 32, 301), epochs = 55050\n"
     ]
    }
   ],
   "source": [
    "import mne\n",
    "import numpy as np\n",
    "import pandas as pd\n",
    "from glob import glob\n",
    "\n",
    "data_glob    = '/kaggle/working/bbciRaw/**/*.fif'\n",
    "desired_nchan = 32\n",
    "\n",
    "\n",
    "epoch_files = glob(data_glob, recursive=True)\n",
    "data_list, meta_list = [], []\n",
    "file_count = 0\n",
    "\n",
    "for f in epoch_files:\n",
    "    try:\n",
    "        epochs = mne.read_epochs(f, preload=True, verbose=False)\n",
    "        if epochs.info['nchan'] != desired_nchan:\n",
    "            epochs.close()\n",
    "            continue\n",
    "        data_list.append(epochs.get_data())   \n",
    "        meta_list.append(epochs.metadata)     \n",
    "\n",
    "        file_count += 1\n",
    "        epochs.close()\n",
    "\n",
    "    except Exception as e:\n",
    "        print(f\"Skipping {f}: {e}\")\n",
    "\n",
    "if file_count == 0:\n",
    "    raise RuntimeError(f\"No {desired_nchan}-channel files found!\")\n",
    "\n",
    "X = np.concatenate(data_list, axis=0)     \n",
    "metadata = pd.concat(meta_list, ignore_index=True)\n",
    "\n",
    "y      = metadata['user'].to_numpy()       # user strings (or map to ints later)\n",
    "groups = metadata['session'].to_numpy()    # session IDs if you need grouping\n",
    "\n",
    "print(f\"Processed {file_count} files → X shape = {X.shape}, epochs = {len(metadata)}\")\n"
   ]
  },
  {
   "cell_type": "code",
   "execution_count": null,
   "metadata": {
    "execution": {
     "iopub.execute_input": "2025-05-11T13:24:56.764604Z",
     "iopub.status.busy": "2025-05-11T13:24:56.764153Z",
     "iopub.status.idle": "2025-05-11T13:24:58.473330Z",
     "shell.execute_reply": "2025-05-11T13:24:58.472383Z",
     "shell.execute_reply.started": "2025-05-11T13:24:56.764581Z"
    },
    "id": "Bu7wCnH-Putt",
    "trusted": true
   },
   "outputs": [],
   "source": [
    "import torch\n",
    "from torch.utils.data import Dataset\n",
    "import numpy as np\n",
    "import random\n",
    "\n",
    "class UserAuthenticationContrastiveDataset(Dataset):\n",
    "    \n",
    "    def __init__(self, X, y, num_pairs: int, positive_pair_ratio: float = 0.5):\n",
    "        self.X = X\n",
    "        self.y = y\n",
    "        self.num_pairs = num_pairs\n",
    "        self.positive_pair_ratio = positive_pair_ratio\n",
    "\n",
    "        self.user_samples = {}\n",
    "        unique_users = np.unique(y)\n",
    "        for user_id in unique_users:\n",
    "            self.user_samples[user_id] = np.where(y == user_id)[0]  # Store indices\n",
    "\n",
    "        if len(unique_users) < 2:\n",
    "            raise ValueError(\"Need at least 2 users for contrastive learning\")\n",
    "        if any(len(samples) < 2 for samples in self.user_samples.values()):\n",
    "            print(\"Warning: Some users have <2 samples. Positive pairs might be limited\")\n",
    "\n",
    "    def __len__(self):\n",
    "        return self.num_pairs\n",
    "\n",
    "    def __getitem__(self, idx):\n",
    "        if random.random() < self.positive_pair_ratio:\n",
    "            user_id = random.choice(list(self.user_samples.keys()))\n",
    "            samples = self.user_samples[user_id]\n",
    "            if len(samples) < 2:\n",
    "                return self._get_negative_pair()\n",
    "            a_idx, b_idx = random.sample(list(samples), 2)\n",
    "            label = 1.0\n",
    "        else:\n",
    "           \n",
    "            user_ids = random.sample(list(self.user_samples.keys()), 2)\n",
    "            a_idx = random.choice(self.user_samples[user_ids[0]])\n",
    "            b_idx = random.choice(self.user_samples[user_ids[1]])\n",
    "            label = 0.0\n",
    "\n",
    "        # Get samples\n",
    "        sample_a = self.X[a_idx]\n",
    "        sample_b = self.X[b_idx]\n",
    "\n",
    "        # Convert to tensors\n",
    "        if isinstance(sample_a, np.ndarray):\n",
    "            sample_a = torch.tensor(sample_a, dtype=torch.float32)\n",
    "            sample_b = torch.tensor(sample_b, dtype=torch.float32)\n",
    "        elif isinstance(sample_a, torch.Tensor):\n",
    "            sample_a = sample_a.float()\n",
    "            sample_b = sample_b.float()\n",
    "\n",
    "        return sample_a, sample_b, torch.tensor(label, dtype=torch.float32)"
   ]
  },
  {
   "cell_type": "code",
   "execution_count": null,
   "metadata": {
    "colab": {
     "base_uri": "https://localhost:8080/"
    },
    "execution": {
     "iopub.execute_input": "2025-05-11T13:25:01.545974Z",
     "iopub.status.busy": "2025-05-11T13:25:01.545218Z",
     "iopub.status.idle": "2025-05-11T13:25:02.845880Z",
     "shell.execute_reply": "2025-05-11T13:25:02.845054Z",
     "shell.execute_reply.started": "2025-05-11T13:25:01.545945Z"
    },
    "id": "N0Cj2Unno1bd",
    "outputId": "f16d4710-5ed7-426c-aa50-63c3f9599daa",
    "trusted": true
   },
   "outputs": [
    {
     "name": "stdout",
     "output_type": "stream",
     "text": [
      "Train users: 7 → samples 27935\n",
      " Val users: 3 → samples 13580\n",
      "Test users: 3 → samples 13535\n"
     ]
    }
   ],
   "source": [
    "from sklearn.model_selection import train_test_split\n",
    "from sklearn.preprocessing import LabelEncoder\n",
    "import numpy as np\n",
    "\n",
    "le = LabelEncoder()\n",
    "y_int = le.fit_transform(metadata['user'].to_numpy())\n",
    "metadata['user_idx'] = y_int  \n",
    "\n",
    "all_users = np.unique(y_int)\n",
    "train_users, temp_users = train_test_split(\n",
    "    all_users,\n",
    "    test_size=0.4,      \n",
    "    random_state=42\n",
    ")\n",
    "\n",
    "val_users, test_users = train_test_split(\n",
    "    temp_users,\n",
    "    test_size=0.5,     \n",
    "    random_state=42\n",
    ")\n",
    "\n",
    "train_mask = np.isin(y_int, train_users)\n",
    "val_mask   = np.isin(y_int, val_users)\n",
    "test_mask  = np.isin(y_int, test_users)\n",
    "\n",
    "X_train, y_train = X[train_mask], y_int[train_mask]\n",
    "X_val,   y_val   = X[val_mask],   y_int[val_mask]\n",
    "X_test,  y_test  = X[test_mask],  y_int[test_mask]\n",
    "\n",
    "print(f\"Train users: {len(train_users)} → samples {X_train.shape[0]}\")\n",
    "print(f\" Val users: {len(val_users)} → samples {X_val.shape[0]}\")\n",
    "print(f\"Test users: {len(test_users)} → samples {X_test.shape[0]}\")\n"
   ]
  },
  {
   "cell_type": "code",
   "execution_count": 5,
   "metadata": {
    "execution": {
     "iopub.execute_input": "2025-05-11T13:25:07.113717Z",
     "iopub.status.busy": "2025-05-11T13:25:07.113413Z",
     "iopub.status.idle": "2025-05-11T13:25:07.119346Z",
     "shell.execute_reply": "2025-05-11T13:25:07.118743Z",
     "shell.execute_reply.started": "2025-05-11T13:25:07.113694Z"
    },
    "trusted": true
   },
   "outputs": [],
   "source": [
    "train_dataset = UserAuthenticationContrastiveDataset(\n",
    "    X=X_train,\n",
    "    y=y_train,\n",
    "    num_pairs=60000,\n",
    "    positive_pair_ratio=0.5\n",
    ")\n",
    "val_dataset = UserAuthenticationContrastiveDataset(\n",
    "    X=X_val,\n",
    "    y=y_val,\n",
    "    num_pairs=25000,\n",
    "    positive_pair_ratio=0.5\n",
    ")\n"
   ]
  },
  {
   "cell_type": "code",
   "execution_count": 6,
   "metadata": {
    "execution": {
     "iopub.execute_input": "2025-05-11T13:25:09.492485Z",
     "iopub.status.busy": "2025-05-11T13:25:09.492129Z",
     "iopub.status.idle": "2025-05-11T13:25:09.497163Z",
     "shell.execute_reply": "2025-05-11T13:25:09.496287Z",
     "shell.execute_reply.started": "2025-05-11T13:25:09.492449Z"
    },
    "trusted": true
   },
   "outputs": [],
   "source": [
    "train_loader = torch.utils.data.DataLoader(\n",
    "    train_dataset,\n",
    "    batch_size=32,\n",
    "    shuffle=True,\n",
    "    num_workers=4\n",
    ")\n",
    "val_loader = torch.utils.data.DataLoader(\n",
    "    train_dataset,\n",
    "    batch_size=32,\n",
    "    shuffle=False,\n",
    "    num_workers=4\n",
    ")"
   ]
  },
  {
   "cell_type": "code",
   "execution_count": 3,
   "metadata": {
    "execution": {
     "iopub.execute_input": "2025-05-11T09:14:07.239864Z",
     "iopub.status.busy": "2025-05-11T09:14:07.239089Z",
     "iopub.status.idle": "2025-05-11T09:14:07.243425Z",
     "shell.execute_reply": "2025-05-11T09:14:07.242551Z",
     "shell.execute_reply.started": "2025-05-11T09:14:07.239834Z"
    },
    "trusted": true
   },
   "outputs": [],
   "source": [
    "del metadata"
   ]
  },
  {
   "cell_type": "code",
   "execution_count": null,
   "metadata": {
    "execution": {
     "iopub.execute_input": "2025-05-11T13:25:19.920606Z",
     "iopub.status.busy": "2025-05-11T13:25:19.919984Z",
     "iopub.status.idle": "2025-05-11T13:25:20.267410Z",
     "shell.execute_reply": "2025-05-11T13:25:20.266562Z",
     "shell.execute_reply.started": "2025-05-11T13:25:19.920580Z"
    },
    "trusted": true
   },
   "outputs": [],
   "source": [
    "import torch\n",
    "import torch.nn as nn\n",
    "import torch.nn.functional as F\n",
    "\n",
    "\n",
    "class EEGSimpleConv(torch.nn.Module):\n",
    "    def __init__(self, fm, n_convs, resampling, kernel_size,\n",
    "                 n_chan, embedding_dim, sfreq):\n",
    "        super().__init__()\n",
    "        # # resample from sfreq → resampling\n",
    "        # self.rs = Resample(orig_freq=sfreq, new_freq=resampling)\n",
    "        # # initial conv + BN\n",
    "        self.conv = torch.nn.Conv1d(n_chan, fm,\n",
    "                                    kernel_size=kernel_size,\n",
    "                                    padding=kernel_size//2,\n",
    "                                    bias=False)\n",
    "        self.bn = torch.nn.BatchNorm1d(fm)\n",
    "\n",
    "    \n",
    "        blocks = []\n",
    "        oldfm = fm\n",
    "        for i in range(n_convs):\n",
    "            newfm = int(oldfm * (1.414 if i>0 else 1.0))\n",
    "            blocks.append(nn.Sequential(\n",
    "                nn.Conv1d(oldfm, newfm,\n",
    "                          kernel_size=kernel_size,\n",
    "                          padding=kernel_size//2,\n",
    "                          bias=False),\n",
    "                nn.BatchNorm1d(newfm),\n",
    "               \n",
    "                nn.MaxPool1d(2) if i>0 else nn.Identity(),\n",
    "                nn.ReLU(),\n",
    "                nn.Conv1d(newfm, newfm,\n",
    "                          kernel_size=kernel_size,\n",
    "                          padding=kernel_size//2,\n",
    "                          bias=False),\n",
    "                nn.BatchNorm1d(newfm),\n",
    "                nn.ReLU(),\n",
    "            ))\n",
    "            oldfm = newfm\n",
    "        self.blocks = nn.ModuleList(blocks)\n",
    "\n",
    "        self.fc = nn.Linear(oldfm, embedding_dim)\n",
    "\n",
    "    def forward(self, x):\n",
    "        x = F.relu(self.bn(self.conv(x)))    # conv + bn + relu\n",
    "        for blk in self.blocks:\n",
    "            x = blk(x)\n",
    "        x = x.mean(dim=2)                    # global‐avg‐pool over time\n",
    "        z = self.fc(x)                       # (batch, embedding_dim)\n",
    "        return F.normalize(z, p=2, dim=1)    # unit‐norm embeddings\n",
    "\n",
    "class SiameseNetwork(nn.Module):\n",
    "    def __init__(self,\n",
    "                 fm=32,\n",
    "                 n_convs=3,\n",
    "                 resampling=128,\n",
    "                 kernel_size=31,\n",
    "                 n_chan=32,\n",
    "                 embedding_dim=64,\n",
    "                 sfreq=256):\n",
    "        super().__init__()\n",
    "        self.encoder = EEGSimpleConv(\n",
    "            fm=fm,\n",
    "            n_convs=n_convs,\n",
    "            resampling=resampling,\n",
    "            kernel_size=kernel_size,\n",
    "            n_chan=n_chan,\n",
    "            embedding_dim=embedding_dim,\n",
    "            sfreq=sfreq\n",
    "        )\n",
    "\n",
    "    def forward(self, x1, x2):\n",
    "\n",
    "        emb1 = self.encoder(x1)\n",
    "        emb2 = self.encoder(x2)\n",
    "        return emb1, emb2\n",
    "\n",
    "class ContrastiveLoss(nn.Module):\n",
    "    def __init__(self, margin=2.0):\n",
    "        super().__init__()\n",
    "        self.margin = margin\n",
    "\n",
    "    def forward(self, e1, e2, label):\n",
    "        dist = F.pairwise_distance(e1, e2, p=2)\n",
    "        pos_loss = label * dist.pow(2)  # Penalize small distances for positives\n",
    "        neg_loss = (1 - label) * F.relu(self.margin - dist).pow(2)  # Penalize large distances for negatives\n",
    "        return (pos_loss + neg_loss).mean() * 0.5  # Optional scaling"
   ]
  },
  {
   "cell_type": "code",
   "execution_count": null,
   "metadata": {
    "execution": {
     "iopub.execute_input": "2025-05-11T13:07:09.975953Z",
     "iopub.status.busy": "2025-05-11T13:07:09.975591Z"
    },
    "trusted": true
   },
   "outputs": [
    {
     "name": "stdout",
     "output_type": "stream",
     "text": [
      "Epoch 1/80 | Train Loss: 0.1203 | Val Loss: 0.0963 | LR: 9.76e-04\n",
      "  → New best model saved (val loss 0.0963)\n",
      "Epoch 2/80 | Train Loss: 0.0797 | Val Loss: 0.0586 | LR: 9.05e-04\n",
      "  → New best model saved (val loss 0.0586)\n",
      "Epoch 3/80 | Train Loss: 0.0532 | Val Loss: 0.0562 | LR: 7.94e-04\n",
      "  → New best model saved (val loss 0.0562)\n",
      "Epoch 4/80 | Train Loss: 0.0386 | Val Loss: 0.1464 | LR: 6.55e-04\n",
      "  ⚠ No improvement for 1/10 epochs\n",
      "Epoch 5/80 | Train Loss: 0.0297 | Val Loss: 0.0195 | LR: 5.01e-04\n",
      "  → New best model saved (val loss 0.0195)\n",
      "Epoch 6/80 | Train Loss: 0.0234 | Val Loss: 0.0184 | LR: 3.46e-04\n",
      "  → New best model saved (val loss 0.0184)\n",
      "Epoch 7/80 | Train Loss: 0.0185 | Val Loss: 0.0128 | LR: 2.07e-04\n",
      "  → New best model saved (val loss 0.0128)\n",
      "Epoch 8/80 | Train Loss: 0.0163 | Val Loss: 0.0107 | LR: 9.64e-05\n",
      "  → New best model saved (val loss 0.0107)\n",
      "Epoch 9/80 | Train Loss: 0.0141 | Val Loss: 0.0098 | LR: 2.54e-05\n",
      "  → New best model saved (val loss 0.0098)\n"
     ]
    }
   ],
   "source": [
    "import torch\n",
    "import torch.nn.functional as F\n",
    "from torch import nn, optim\n",
    "\n",
    "device = torch.device(\"cuda\" if torch.cuda.is_available() else \"cpu\")\n",
    "model = SiameseNetwork().to(device)\n",
    "model = nn.DataParallel(model)\n",
    "\n",
    "criterion = ContrastiveLoss(margin=1.0)\n",
    "optimizer = optim.AdamW(\n",
    "    model.parameters(),\n",
    "    lr=1e-3,\n",
    "    weight_decay=1e-2,\n",
    "    amsgrad=True\n",
    ")\n",
    "\n",
    "\n",
    "scheduler = optim.lr_scheduler.CosineAnnealingWarmRestarts(\n",
    "    optimizer,\n",
    "    T_0=10,\n",
    "    T_mult=2,\n",
    "    eta_min=1e-6\n",
    ")\n",
    "\n",
    "num_epochs   = 80\n",
    "best_val_loss = float('inf')\n",
    "\n",
    "es_patience = 10     \n",
    "es_counter  = 0\n",
    "\n",
    "for epoch in range(1, num_epochs + 1):\n",
    "    # — Training Phase —\n",
    "    model.train()\n",
    "    running_train_loss = 0.0\n",
    "    for sample_a, sample_b, labels in train_loader:\n",
    "        sample_a, sample_b, labels = (\n",
    "            sample_a.to(device),\n",
    "            sample_b.to(device),\n",
    "            labels.to(device)\n",
    "        )\n",
    "\n",
    "        optimizer.zero_grad()\n",
    "        emb1, emb2 = model(sample_a, sample_b)\n",
    "        loss = criterion(emb1, emb2, labels)\n",
    "        loss.backward()\n",
    "\n",
    "        # gradient clipping\n",
    "        torch.nn.utils.clip_grad_norm_(model.parameters(), max_norm=1.0)\n",
    "\n",
    "        optimizer.step()\n",
    "        running_train_loss += loss.item()\n",
    "\n",
    "    avg_train_loss = running_train_loss / len(train_loader)\n",
    "\n",
    "    # — Validation Phase —\n",
    "    model.eval()\n",
    "    running_val_loss = 0.0\n",
    "    with torch.no_grad():\n",
    "        for sample_a, sample_b, labels in val_loader:\n",
    "            sample_a, sample_b, labels = (\n",
    "                sample_a.to(device),\n",
    "                sample_b.to(device),\n",
    "                labels.to(device)\n",
    "            )\n",
    "            emb1, emb2 = model(sample_a, sample_b)\n",
    "            running_val_loss += criterion(emb1, emb2, labels).item()\n",
    "\n",
    "    avg_val_loss = running_val_loss / len(val_loader)\n",
    "\n",
    "    scheduler.step(epoch + (avg_val_loss * 0)) \n",
    "\n",
    "    current_lr = optimizer.param_groups[0]['lr']\n",
    "    print(f\"Epoch {epoch}/{num_epochs} | \"\n",
    "          f\"Train Loss: {avg_train_loss:.4f} | \"\n",
    "          f\"Val Loss: {avg_val_loss:.4f} | \"\n",
    "          f\"LR: {current_lr:.2e}\")\n",
    "\n",
    "    if avg_val_loss < best_val_loss:\n",
    "        best_val_loss = avg_val_loss\n",
    "        es_counter = 0\n",
    "        torch.save(model.module.state_dict(), \"siam_b_best.pt\")\n",
    "        print(f\"  → New best model saved (val loss {best_val_loss:.4f})\")\n",
    "    else:\n",
    "        es_counter += 1\n",
    "        print(f\"  ⚠ No improvement for {es_counter}/{es_patience} epochs\")\n",
    "\n",
    "    if es_counter >= es_patience:\n",
    "        print(f\"Early stopping triggered after {es_patience} epochs with no improvement.\")\n",
    "        break\n"
   ]
  },
  {
   "cell_type": "code",
   "execution_count": null,
   "metadata": {
    "execution": {
     "iopub.execute_input": "2025-05-11T13:26:21.030809Z",
     "iopub.status.busy": "2025-05-11T13:26:21.030461Z",
     "iopub.status.idle": "2025-05-11T13:26:21.258830Z",
     "shell.execute_reply": "2025-05-11T13:26:21.258195Z",
     "shell.execute_reply.started": "2025-05-11T13:26:21.030783Z"
    },
    "trusted": true
   },
   "outputs": [
    {
     "name": "stderr",
     "output_type": "stream",
     "text": [
      "/tmp/ipykernel_295530/1959512030.py:3: FutureWarning: You are using `torch.load` with `weights_only=False` (the current default value), which uses the default pickle module implicitly. It is possible to construct malicious pickle data which will execute arbitrary code during unpickling (See https://github.com/pytorch/pytorch/blob/main/SECURITY.md#untrusted-models for more details). In a future release, the default value for `weights_only` will be flipped to `True`. This limits the functions that could be executed during unpickling. Arbitrary objects will no longer be allowed to be loaded via this mode unless they are explicitly allowlisted by the user via `torch.serialization.add_safe_globals`. We recommend you start setting `weights_only=True` for any use case where you don't have full control of the loaded file. Please open an issue on GitHub for any issues related to this experimental feature.\n",
      "  model.load_state_dict(torch.load('/kaggle/working/siam_b_best.pt'))\n"
     ]
    },
    {
     "data": {
      "text/plain": [
       "SiameseNetwork(\n",
       "  (encoder): EEGSimpleConv(\n",
       "    (rs): Resample()\n",
       "    (conv): Conv1d(32, 32, kernel_size=(31,), stride=(1,), padding=(15,), bias=False)\n",
       "    (bn): BatchNorm1d(32, eps=1e-05, momentum=0.1, affine=True, track_running_stats=True)\n",
       "    (blocks): ModuleList(\n",
       "      (0): Sequential(\n",
       "        (0): Conv1d(32, 32, kernel_size=(31,), stride=(1,), padding=(15,), bias=False)\n",
       "        (1): BatchNorm1d(32, eps=1e-05, momentum=0.1, affine=True, track_running_stats=True)\n",
       "        (2): Identity()\n",
       "        (3): ReLU()\n",
       "        (4): Conv1d(32, 32, kernel_size=(31,), stride=(1,), padding=(15,), bias=False)\n",
       "        (5): BatchNorm1d(32, eps=1e-05, momentum=0.1, affine=True, track_running_stats=True)\n",
       "        (6): ReLU()\n",
       "      )\n",
       "      (1): Sequential(\n",
       "        (0): Conv1d(32, 45, kernel_size=(31,), stride=(1,), padding=(15,), bias=False)\n",
       "        (1): BatchNorm1d(45, eps=1e-05, momentum=0.1, affine=True, track_running_stats=True)\n",
       "        (2): MaxPool1d(kernel_size=2, stride=2, padding=0, dilation=1, ceil_mode=False)\n",
       "        (3): ReLU()\n",
       "        (4): Conv1d(45, 45, kernel_size=(31,), stride=(1,), padding=(15,), bias=False)\n",
       "        (5): BatchNorm1d(45, eps=1e-05, momentum=0.1, affine=True, track_running_stats=True)\n",
       "        (6): ReLU()\n",
       "      )\n",
       "      (2): Sequential(\n",
       "        (0): Conv1d(45, 63, kernel_size=(31,), stride=(1,), padding=(15,), bias=False)\n",
       "        (1): BatchNorm1d(63, eps=1e-05, momentum=0.1, affine=True, track_running_stats=True)\n",
       "        (2): MaxPool1d(kernel_size=2, stride=2, padding=0, dilation=1, ceil_mode=False)\n",
       "        (3): ReLU()\n",
       "        (4): Conv1d(63, 63, kernel_size=(31,), stride=(1,), padding=(15,), bias=False)\n",
       "        (5): BatchNorm1d(63, eps=1e-05, momentum=0.1, affine=True, track_running_stats=True)\n",
       "        (6): ReLU()\n",
       "      )\n",
       "    )\n",
       "    (fc): Linear(in_features=63, out_features=64, bias=True)\n",
       "  )\n",
       ")"
      ]
     },
     "execution_count": 8,
     "metadata": {},
     "output_type": "execute_result"
    }
   ],
   "source": [
    "import torch\n",
    "model = SiameseNetwork()  # Make sure SiameseNetwork is defined\n",
    "model.load_state_dict(torch.load('siam_b_best.pt'))\n",
    "model.eval()\n",
    "# torch.save(model, 'siamese_32.pth')"
   ]
  },
  {
   "cell_type": "code",
   "execution_count": null,
   "metadata": {
    "execution": {
     "iopub.execute_input": "2025-05-11T14:27:45.906189Z",
     "iopub.status.busy": "2025-05-11T14:27:45.905552Z",
     "iopub.status.idle": "2025-05-11T14:27:45.925296Z",
     "shell.execute_reply": "2025-05-11T14:27:45.924423Z",
     "shell.execute_reply.started": "2025-05-11T14:27:45.906164Z"
    },
    "trusted": true
   },
   "outputs": [
    {
     "name": "stderr",
     "output_type": "stream",
     "text": [
      "/tmp/ipykernel_295530/3242003174.py:1: FutureWarning: You are using `torch.load` with `weights_only=False` (the current default value), which uses the default pickle module implicitly. It is possible to construct malicious pickle data which will execute arbitrary code during unpickling (See https://github.com/pytorch/pytorch/blob/main/SECURITY.md#untrusted-models for more details). In a future release, the default value for `weights_only` will be flipped to `True`. This limits the functions that could be executed during unpickling. Arbitrary objects will no longer be allowed to be loaded via this mode unless they are explicitly allowlisted by the user via `torch.serialization.add_safe_globals`. We recommend you start setting `weights_only=True` for any use case where you don't have full control of the loaded file. Please open an issue on GitHub for any issues related to this experimental feature.\n",
      "  m =  torch.load(\"/kaggle/input/siamese_097/pytorch/default/1/siamese_0.97_f1.pth\")\n"
     ]
    },
    {
     "data": {
      "text/plain": [
       "SiameseNetwork(\n",
       "  (encoder): EEGSimpleConv(\n",
       "    (rs): Resample()\n",
       "    (conv): Conv1d(32, 32, kernel_size=(31,), stride=(1,), padding=(15,), bias=False)\n",
       "    (bn): BatchNorm1d(32, eps=1e-05, momentum=0.1, affine=True, track_running_stats=True)\n",
       "    (blocks): ModuleList(\n",
       "      (0): Sequential(\n",
       "        (0): Conv1d(32, 32, kernel_size=(31,), stride=(1,), padding=(15,), bias=False)\n",
       "        (1): BatchNorm1d(32, eps=1e-05, momentum=0.1, affine=True, track_running_stats=True)\n",
       "        (2): Identity()\n",
       "        (3): ReLU()\n",
       "        (4): Conv1d(32, 32, kernel_size=(31,), stride=(1,), padding=(15,), bias=False)\n",
       "        (5): BatchNorm1d(32, eps=1e-05, momentum=0.1, affine=True, track_running_stats=True)\n",
       "        (6): ReLU()\n",
       "      )\n",
       "      (1): Sequential(\n",
       "        (0): Conv1d(32, 45, kernel_size=(31,), stride=(1,), padding=(15,), bias=False)\n",
       "        (1): BatchNorm1d(45, eps=1e-05, momentum=0.1, affine=True, track_running_stats=True)\n",
       "        (2): MaxPool1d(kernel_size=2, stride=2, padding=0, dilation=1, ceil_mode=False)\n",
       "        (3): ReLU()\n",
       "        (4): Conv1d(45, 45, kernel_size=(31,), stride=(1,), padding=(15,), bias=False)\n",
       "        (5): BatchNorm1d(45, eps=1e-05, momentum=0.1, affine=True, track_running_stats=True)\n",
       "        (6): ReLU()\n",
       "      )\n",
       "      (2): Sequential(\n",
       "        (0): Conv1d(45, 63, kernel_size=(31,), stride=(1,), padding=(15,), bias=False)\n",
       "        (1): BatchNorm1d(63, eps=1e-05, momentum=0.1, affine=True, track_running_stats=True)\n",
       "        (2): MaxPool1d(kernel_size=2, stride=2, padding=0, dilation=1, ceil_mode=False)\n",
       "        (3): ReLU()\n",
       "        (4): Conv1d(63, 63, kernel_size=(31,), stride=(1,), padding=(15,), bias=False)\n",
       "        (5): BatchNorm1d(63, eps=1e-05, momentum=0.1, affine=True, track_running_stats=True)\n",
       "        (6): ReLU()\n",
       "      )\n",
       "    )\n",
       "    (fc): Linear(in_features=63, out_features=64, bias=True)\n",
       "  )\n",
       ")"
      ]
     },
     "execution_count": 60,
     "metadata": {},
     "output_type": "execute_result"
    }
   ],
   "source": [
    "m =  torch.load(\"siamese_0.97_f1.pth\")\n",
    "m"
   ]
  },
  {
   "cell_type": "code",
   "execution_count": 17,
   "metadata": {
    "execution": {
     "iopub.execute_input": "2025-05-11T10:01:18.928840Z",
     "iopub.status.busy": "2025-05-11T10:01:18.927963Z",
     "iopub.status.idle": "2025-05-11T10:01:18.935604Z",
     "shell.execute_reply": "2025-05-11T10:01:18.934834Z",
     "shell.execute_reply.started": "2025-05-11T10:01:18.928801Z"
    },
    "trusted": true
   },
   "outputs": [
    {
     "data": {
      "text/plain": [
       "array([ 2,  9, 11])"
      ]
     },
     "execution_count": 17,
     "metadata": {},
     "output_type": "execute_result"
    }
   ],
   "source": [
    "np.unique(y_test)"
   ]
  },
  {
   "cell_type": "code",
   "execution_count": 38,
   "metadata": {
    "execution": {
     "iopub.execute_input": "2025-05-11T13:44:32.245091Z",
     "iopub.status.busy": "2025-05-11T13:44:32.244540Z",
     "iopub.status.idle": "2025-05-11T13:46:08.981629Z",
     "shell.execute_reply": "2025-05-11T13:46:08.980548Z",
     "shell.execute_reply.started": "2025-05-11T13:44:32.245065Z"
    },
    "trusted": true
   },
   "outputs": [
    {
     "name": "stdout",
     "output_type": "stream",
     "text": [
      "Optimal threshold: 0.386 | Val Macro F1: 0.9766\n"
     ]
    }
   ],
   "source": [
    "from sklearn.metrics import f1_score\n",
    "import numpy as np\n",
    "import torch.nn.functional as F\n",
    "\n",
    "# Load the best model\n",
    "# model.load_state_dict(torch.load(\"best_siamese.pt\"))\n",
    "# model.eval()\n",
    "# device = 'cuda'\n",
    "# model= nn.DataParallel(model)\n",
    "# model.to(device)\n",
    "\n",
    "# Compute distances and true labels on validation set\n",
    "distances = []\n",
    "true_labels = []\n",
    "\n",
    "with torch.no_grad():\n",
    "    for sample_a, sample_b, labels in val_loader:\n",
    "        sample_a, sample_b = sample_a.to(device), sample_b.to(device)\n",
    "        emb1, emb2 = model(sample_a, sample_b)\n",
    "        dists = F.pairwise_distance(emb1, emb2).cpu().numpy()\n",
    "        distances.extend(dists)\n",
    "        true_labels.extend(labels.cpu().numpy())\n",
    "\n",
    "distances = np.array(distances)\n",
    "true_labels = np.array(true_labels)\n",
    "\n",
    "# Sweep thresholds to find the best macro F1 score\n",
    "best_thresh = 0.0\n",
    "best_f1 = 0.0\n",
    "\n",
    "for thresh in np.linspace(0.0, 1.0, num=8000):\n",
    "    preds = (distances < thresh).astype(int)\n",
    "    f1 = f1_score(true_labels, preds, average='macro')\n",
    "    if f1 > best_f1:\n",
    "        best_f1 = f1\n",
    "        best_thresh = thresh\n",
    "\n",
    "print(f\"Optimal threshold: {best_thresh:.3f} | Val Macro F1: {best_f1:.4f}\")\n"
   ]
  },
  {
   "cell_type": "code",
   "execution_count": 39,
   "metadata": {
    "execution": {
     "iopub.execute_input": "2025-05-11T13:46:15.192647Z",
     "iopub.status.busy": "2025-05-11T13:46:15.192314Z",
     "iopub.status.idle": "2025-05-11T13:46:15.206777Z",
     "shell.execute_reply": "2025-05-11T13:46:15.206084Z",
     "shell.execute_reply.started": "2025-05-11T13:46:15.192619Z"
    },
    "trusted": true
   },
   "outputs": [],
   "source": [
    "torch.save(model.module, \"siamese_0.97_f1.pth\")"
   ]
  },
  {
   "cell_type": "code",
   "execution_count": 22,
   "metadata": {
    "execution": {
     "iopub.execute_input": "2025-05-11T13:35:22.610601Z",
     "iopub.status.busy": "2025-05-11T13:35:22.609806Z",
     "iopub.status.idle": "2025-05-11T13:35:27.587488Z",
     "shell.execute_reply": "2025-05-11T13:35:27.586626Z",
     "shell.execute_reply.started": "2025-05-11T13:35:22.610573Z"
    },
    "trusted": true
   },
   "outputs": [],
   "source": [
    "#enrolling user 2\n",
    "X_selected = X_test[y_test == 2]\n",
    "y_selected = y_test[y_test == 2]\n",
    "\n",
    "n_half = X_selected.shape[0] // 2\n",
    "X_half = X_selected[:n_half]\n",
    "y_half = y_selected[:n_half]\n"
   ]
  },
  {
   "cell_type": "code",
   "execution_count": null,
   "metadata": {
    "execution": {
     "iopub.execute_input": "2025-05-11T13:35:44.326490Z",
     "iopub.status.busy": "2025-05-11T13:35:44.325633Z",
     "iopub.status.idle": "2025-05-11T13:35:44.945948Z",
     "shell.execute_reply": "2025-05-11T13:35:44.945128Z",
     "shell.execute_reply.started": "2025-05-11T13:35:44.326461Z"
    },
    "trusted": true
   },
   "outputs": [],
   "source": [
    "import torch\n",
    "import numpy as np\n",
    "\n",
    "def enroll_user(model, enrollment_samples, device):\n",
    "\n",
    "    model.eval()\n",
    "    if isinstance(enrollment_samples[0], np.ndarray):\n",
    "        # Stack NumPy arrays into a single tensor\n",
    "        batch = torch.tensor(np.stack(enrollment_samples), dtype=torch.float32)\n",
    "    else:\n",
    "        batch = torch.stack(enrollment_samples)\n",
    "\n",
    "    batch = batch.to(device)\n",
    "\n",
    "    with torch.no_grad():\n",
    "        embeddings = model.module.encoder(batch)  #if model is nn.DataParallel\n",
    "        enrolled_emb = torch.mean(embeddings, dim=0)  # D\n",
    "\n",
    "    return enrolled_emb\n",
    "emb = enroll_user(model, X_half, 'cuda')\n"
   ]
  },
  {
   "cell_type": "code",
   "execution_count": null,
   "metadata": {
    "execution": {
     "iopub.execute_input": "2025-05-11T11:10:53.881745Z",
     "iopub.status.busy": "2025-05-11T11:10:53.881132Z",
     "iopub.status.idle": "2025-05-11T11:10:53.887799Z",
     "shell.execute_reply": "2025-05-11T11:10:53.886987Z",
     "shell.execute_reply.started": "2025-05-11T11:10:53.881723Z"
    },
    "trusted": true
   },
   "outputs": [
    {
     "data": {
      "text/plain": [
       "array([ 2,  9, 11])"
      ]
     },
     "execution_count": 58,
     "metadata": {},
     "output_type": "execute_result"
    }
   ],
   "source": [
    "np.unique(y_test) #all  testing users"
   ]
  },
  {
   "cell_type": "code",
   "execution_count": null,
   "metadata": {
    "execution": {
     "iopub.execute_input": "2025-05-11T13:40:59.103575Z",
     "iopub.status.busy": "2025-05-11T13:40:59.103269Z",
     "iopub.status.idle": "2025-05-11T13:41:00.464989Z",
     "shell.execute_reply": "2025-05-11T13:41:00.464349Z",
     "shell.execute_reply.started": "2025-05-11T13:40:59.103556Z"
    },
    "trusted": true
   },
   "outputs": [
    {
     "data": {
      "text/plain": [
       "0.4195774793624878"
      ]
     },
     "execution_count": 32,
     "metadata": {},
     "output_type": "execute_result"
    }
   ],
   "source": [
    "import torch\n",
    "import torch.nn.functional as F\n",
    "import numpy as np\n",
    "\n",
    "import torch\n",
    "import torch.nn.functional as F\n",
    "import numpy as np\n",
    "\n",
    "def verify_user(model, enrolled_emb, test_samples, threshold=1.0, device='cuda'):\n",
    "\n",
    "    model.eval()\n",
    "\n",
    "    if isinstance(test_samples, np.ndarray):\n",
    "        batch = torch.tensor(test_samples, dtype=torch.float32).to(device)\n",
    "    elif isinstance(test_samples, torch.Tensor):\n",
    "        batch = test_samples.float().to(device)\n",
    "    else:\n",
    "        raise TypeError(f\"Unsupported input type: {type(test_samples)}\")\n",
    "\n",
    "    with torch.no_grad():\n",
    "        # Forward pass to get embeddings\n",
    "        test_embeddings = model.module.encoder(batch)  # Shape: [N, D]\n",
    "\n",
    "        # Expand enrolled embedding to match batch size\n",
    "        enrolled_batch = enrolled_emb.expand(test_embeddings.size(0), -1)  # Shape: [N, D]\n",
    "\n",
    "        # Compute distances\n",
    "        distances = F.pairwise_distance(enrolled_batch, test_embeddings)  # Shape: [N]\n",
    "    \n",
    "    return distances.mean().item()\n",
    "\n",
    "\n",
    "#cheking user 9 trying to login as user 2. We use all trials\n",
    "X_sel = X_test[y_test ==9]\n",
    "y_sel = y_test[y_test == 9]\n",
    "\n",
    "verify_user(model, emb,X_sel)"
   ]
  },
  {
   "cell_type": "code",
   "execution_count": 41,
   "metadata": {
    "execution": {
     "iopub.execute_input": "2025-05-11T13:47:50.302526Z",
     "iopub.status.busy": "2025-05-11T13:47:50.301948Z",
     "iopub.status.idle": "2025-05-11T13:47:50.669450Z",
     "shell.execute_reply": "2025-05-11T13:47:50.668553Z",
     "shell.execute_reply.started": "2025-05-11T13:47:50.302499Z"
    },
    "trusted": true
   },
   "outputs": [
    {
     "data": {
      "text/plain": [
       "0.2780032157897949"
      ]
     },
     "execution_count": 41,
     "metadata": {},
     "output_type": "execute_result"
    }
   ],
   "source": [
    "#user 2 loging in\n",
    "verify_user(model, emb, torch.tensor(X_selected[n_half:], dtype=torch.float32))\n"
   ]
  },
  {
   "cell_type": "code",
   "execution_count": 37,
   "metadata": {
    "execution": {
     "iopub.execute_input": "2025-05-11T13:42:30.164161Z",
     "iopub.status.busy": "2025-05-11T13:42:30.163661Z",
     "iopub.status.idle": "2025-05-11T13:42:31.183129Z",
     "shell.execute_reply": "2025-05-11T13:42:31.182379Z",
     "shell.execute_reply.started": "2025-05-11T13:42:30.164138Z"
    },
    "trusted": true
   },
   "outputs": [
    {
     "data": {
      "text/plain": [
       "1.0784506797790527"
      ]
     },
     "execution_count": 37,
     "metadata": {},
     "output_type": "execute_result"
    }
   ],
   "source": [
    "#cheking user 11 trying to login as user 2. We use all trials\n",
    "\n",
    "X_sel = X_test[y_test ==11]\n",
    "y_sel = y_test[y_test == 11]\n",
    "\n",
    "verify_user(model, emb,X_sel)\n"
   ]
  },
  {
   "cell_type": "code",
   "execution_count": 50,
   "metadata": {
    "colab": {
     "base_uri": "https://localhost:8080/"
    },
    "execution": {
     "iopub.execute_input": "2025-05-11T13:51:45.169003Z",
     "iopub.status.busy": "2025-05-11T13:51:45.168715Z",
     "iopub.status.idle": "2025-05-11T13:51:45.301654Z",
     "shell.execute_reply": "2025-05-11T13:51:45.300861Z",
     "shell.execute_reply.started": "2025-05-11T13:51:45.168983Z"
    },
    "id": "8W8j0YztDfK9",
    "outputId": "6d2da9b5-0b08-4a8f-a168-7ad28caff951",
    "trusted": true
   },
   "outputs": [
    {
     "data": {
      "text/plain": [
       "(5613, 32, 301)"
      ]
     },
     "execution_count": 50,
     "metadata": {},
     "output_type": "execute_result"
    }
   ],
   "source": [
    "#enrolling user 9\n",
    "X_selected = X_test[y_test == 9]\n",
    "y_selected = y_test[y_test == 9]\n",
    "\n",
    "X_selected.shape"
   ]
  },
  {
   "cell_type": "code",
   "execution_count": 51,
   "metadata": {
    "colab": {
     "base_uri": "https://localhost:8080/"
    },
    "execution": {
     "iopub.execute_input": "2025-05-11T13:51:47.142792Z",
     "iopub.status.busy": "2025-05-11T13:51:47.142512Z",
     "iopub.status.idle": "2025-05-11T13:51:47.149894Z",
     "shell.execute_reply": "2025-05-11T13:51:47.149011Z",
     "shell.execute_reply.started": "2025-05-11T13:51:47.142773Z"
    },
    "id": "gSWorIsAD1cP",
    "outputId": "8f2bbeef-097b-46e6-ed9d-4d971899b2a4",
    "trusted": true
   },
   "outputs": [
    {
     "data": {
      "text/plain": [
       "(2806, 32, 301)"
      ]
     },
     "execution_count": 51,
     "metadata": {},
     "output_type": "execute_result"
    }
   ],
   "source": [
    "n_half = X_selected.shape[0] // 2\n",
    "X_half = X_selected[:n_half]\n",
    "y_half = y_selected[:n_half]\n",
    "X_half.shape"
   ]
  },
  {
   "cell_type": "code",
   "execution_count": 52,
   "metadata": {
    "colab": {
     "base_uri": "https://localhost:8080/",
     "height": 304
    },
    "execution": {
     "iopub.execute_input": "2025-05-11T13:51:51.470088Z",
     "iopub.status.busy": "2025-05-11T13:51:51.469528Z",
     "iopub.status.idle": "2025-05-11T13:51:51.637548Z",
     "shell.execute_reply": "2025-05-11T13:51:51.636715Z",
     "shell.execute_reply.started": "2025-05-11T13:51:51.470062Z"
    },
    "id": "_7oQcxkfDaJ_",
    "outputId": "748e5219-37c3-4bf2-a35b-920d46c603f7",
    "trusted": true
   },
   "outputs": [],
   "source": [
    "emb = enroll_user(model, X_half, 'cuda')"
   ]
  },
  {
   "cell_type": "code",
   "execution_count": 53,
   "metadata": {
    "execution": {
     "iopub.execute_input": "2025-05-11T13:51:57.011123Z",
     "iopub.status.busy": "2025-05-11T13:51:57.010377Z",
     "iopub.status.idle": "2025-05-11T13:51:57.437295Z",
     "shell.execute_reply": "2025-05-11T13:51:57.436314Z",
     "shell.execute_reply.started": "2025-05-11T13:51:57.011096Z"
    },
    "trusted": true
   },
   "outputs": [
    {
     "data": {
      "text/plain": [
       "0.34776052832603455"
      ]
     },
     "execution_count": 53,
     "metadata": {},
     "output_type": "execute_result"
    }
   ],
   "source": [
    "#user 9 log in\n",
    "verify_user(model, emb, torch.tensor(X_selected[n_half:], dtype=torch.float32))\n"
   ]
  },
  {
   "cell_type": "code",
   "execution_count": 54,
   "metadata": {
    "execution": {
     "iopub.execute_input": "2025-05-11T13:52:03.034865Z",
     "iopub.status.busy": "2025-05-11T13:52:03.034575Z",
     "iopub.status.idle": "2025-05-11T13:52:03.714452Z",
     "shell.execute_reply": "2025-05-11T13:52:03.713774Z",
     "shell.execute_reply.started": "2025-05-11T13:52:03.034844Z"
    },
    "trusted": true
   },
   "outputs": [
    {
     "data": {
      "text/plain": [
       "0.8876328468322754"
      ]
     },
     "execution_count": 54,
     "metadata": {},
     "output_type": "execute_result"
    }
   ],
   "source": [
    "#other\n",
    "X_sel = X_test[y_test ==11]\n",
    "y_sel = y_test[y_test == 11]\n",
    "verify_user(model, emb, torch.tensor(X_sel, dtype=torch.float32))\n"
   ]
  },
  {
   "cell_type": "code",
   "execution_count": 55,
   "metadata": {
    "execution": {
     "iopub.execute_input": "2025-05-11T13:52:06.291677Z",
     "iopub.status.busy": "2025-05-11T13:52:06.291422Z",
     "iopub.status.idle": "2025-05-11T13:52:06.952101Z",
     "shell.execute_reply": "2025-05-11T13:52:06.951073Z",
     "shell.execute_reply.started": "2025-05-11T13:52:06.291660Z"
    },
    "trusted": true
   },
   "outputs": [
    {
     "data": {
      "text/plain": [
       "0.36786314845085144"
      ]
     },
     "execution_count": 55,
     "metadata": {},
     "output_type": "execute_result"
    }
   ],
   "source": [
    "#other\n",
    "X_sel = X_test[y_test ==2]\n",
    "y_sel = y_test[y_test == 2]\n",
    "verify_user(model, emb, torch.tensor(X_sel, dtype=torch.float32))"
   ]
  },
  {
   "cell_type": "code",
   "execution_count": 56,
   "metadata": {
    "execution": {
     "iopub.execute_input": "2025-05-11T13:53:11.641561Z",
     "iopub.status.busy": "2025-05-11T13:53:11.640775Z",
     "iopub.status.idle": "2025-05-11T13:53:12.322195Z",
     "shell.execute_reply": "2025-05-11T13:53:12.321539Z",
     "shell.execute_reply.started": "2025-05-11T13:53:11.641534Z"
    },
    "trusted": true
   },
   "outputs": [
    {
     "data": {
      "text/plain": [
       "0.42520245909690857"
      ]
     },
     "execution_count": 56,
     "metadata": {},
     "output_type": "execute_result"
    }
   ],
   "source": [
    "#user 11 loging in\n",
    "X_selected = X_test[y_test == 11]\n",
    "y_selected = y_test[y_test == 11]\n",
    "\n",
    "X_selected.shape\n",
    "\n",
    "n_half = X_selected.shape[0] // 2\n",
    "X_half = X_selected[:n_half]\n",
    "y_half = y_selected[:n_half]\n",
    "X_half.shape\n",
    "emb = enroll_user(model, X_half, 'cuda')\n",
    "\n",
    "verify_user(model, emb, torch.tensor(X_selected[n_half:], dtype=torch.float32))\n"
   ]
  },
  {
   "cell_type": "code",
   "execution_count": 57,
   "metadata": {
    "execution": {
     "iopub.execute_input": "2025-05-11T13:53:15.836476Z",
     "iopub.status.busy": "2025-05-11T13:53:15.835692Z",
     "iopub.status.idle": "2025-05-11T13:53:16.701155Z",
     "shell.execute_reply": "2025-05-11T13:53:16.700473Z",
     "shell.execute_reply.started": "2025-05-11T13:53:15.836450Z"
    },
    "trusted": true
   },
   "outputs": [
    {
     "data": {
      "text/plain": [
       "0.8512136340141296"
      ]
     },
     "execution_count": 57,
     "metadata": {},
     "output_type": "execute_result"
    }
   ],
   "source": [
    "#other\n",
    "X_sel = X_test[y_test ==9]\n",
    "y_sel = y_test[y_test == 9]\n",
    "verify_user(model, emb, torch.tensor(X_sel, dtype=torch.float32))\n"
   ]
  },
  {
   "cell_type": "code",
   "execution_count": 58,
   "metadata": {
    "execution": {
     "iopub.execute_input": "2025-05-11T13:53:19.044420Z",
     "iopub.status.busy": "2025-05-11T13:53:19.043710Z",
     "iopub.status.idle": "2025-05-11T13:53:19.724753Z",
     "shell.execute_reply": "2025-05-11T13:53:19.723927Z",
     "shell.execute_reply.started": "2025-05-11T13:53:19.044393Z"
    },
    "trusted": true
   },
   "outputs": [
    {
     "data": {
      "text/plain": [
       "1.0242011547088623"
      ]
     },
     "execution_count": 58,
     "metadata": {},
     "output_type": "execute_result"
    }
   ],
   "source": [
    "#other\n",
    "X_sel = X_test[y_test ==2]\n",
    "y_sel = y_test[y_test == 2]\n",
    "verify_user(model, emb, torch.tensor(X_sel, dtype=torch.float32))"
   ]
  }
 ],
 "metadata": {
  "accelerator": "GPU",
  "colab": {
   "gpuType": "T4",
   "provenance": []
  },
  "kaggle": {
   "accelerator": "nvidiaTeslaT4",
   "dataSources": [
    {
     "isSourceIdPinned": true,
     "modelId": 313589,
     "modelInstanceId": 292947,
     "sourceId": 350949,
     "sourceType": "modelInstanceVersion"
    },
    {
     "isSourceIdPinned": true,
     "modelId": 339689,
     "modelInstanceId": 319125,
     "sourceId": 387073,
     "sourceType": "modelInstanceVersion"
    }
   ],
   "dockerImageVersionId": 31011,
   "isGpuEnabled": true,
   "isInternetEnabled": true,
   "language": "python",
   "sourceType": "notebook"
  },
  "kernelspec": {
   "display_name": "Python 3",
   "language": "python",
   "name": "python3"
  },
  "language_info": {
   "codemirror_mode": {
    "name": "ipython",
    "version": 3
   },
   "file_extension": ".py",
   "mimetype": "text/x-python",
   "name": "python",
   "nbconvert_exporter": "python",
   "pygments_lexer": "ipython3",
   "version": "3.11.11"
  }
 },
 "nbformat": 4,
 "nbformat_minor": 4
}
